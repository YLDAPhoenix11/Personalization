{
 "cells": [
  {
   "cell_type": "markdown",
   "metadata": {},
   "source": [
    "# Homework02: \n",
    "# Recommender System Using MovieLens Dataset\n",
    "\n",
    "#### The goal of this homework is making movie recommendations using two basic CF algorithms: K-NN and Matrix Factorization."
   ]
  },
  {
   "cell_type": "code",
   "execution_count": 1,
   "metadata": {},
   "outputs": [],
   "source": [
    "#Import library \n",
    "import pandas as pd\n",
    "import numpy as np\n",
    "import matplotlib.pyplot as plt\n",
    "import seaborn as sns\n",
    "import surprise\n",
    "from surprise.prediction_algorithms.knns import KNNBaseline\n",
    "from surprise.prediction_algorithms.matrix_factorization import SVD\n",
    "from surprise.model_selection import cross_validate\n",
    "from surprise.model_selection.search import GridSearchCV\n",
    "from surprise import Dataset\n",
    "from surprise import Reader\n",
    "from sklearn.model_selection import KFold\n",
    "import time as tm\n",
    "import scipy.stats as spst\n",
    "import scipy.sparse as spsp\n",
    "%matplotlib inline\n",
    "df=pd.read_csv('./ml-latest-small/ratings.csv')\n"
   ]
  },
  {
   "cell_type": "code",
   "execution_count": 2,
   "metadata": {},
   "outputs": [],
   "source": [
    "reader = Reader(line_format='user item rating', sep=',', skip_lines=3, rating_scale=(1, 5))"
   ]
  },
  {
   "cell_type": "markdown",
   "metadata": {},
   "source": [
    "### Ratings Dataset"
   ]
  },
  {
   "cell_type": "code",
   "execution_count": 3,
   "metadata": {},
   "outputs": [],
   "source": [
    "df=pd.read_csv('./ml-latest-small/ratings.csv')\n",
    "df=df.drop(['timestamp'],axis=1)\n",
    "data=Dataset.load_from_df(df,reader=reader)"
   ]
  },
  {
   "cell_type": "code",
   "execution_count": 4,
   "metadata": {},
   "outputs": [],
   "source": [
    "origin_size=len(df.values)\n",
    "gap=int(origin_size/5)\n",
    "new_size=np.arange(gap,origin_size,gap)"
   ]
  },
  {
   "cell_type": "code",
   "execution_count": 5,
   "metadata": {},
   "outputs": [
    {
     "data": {
      "text/html": [
       "<div>\n",
       "<style scoped>\n",
       "    .dataframe tbody tr th:only-of-type {\n",
       "        vertical-align: middle;\n",
       "    }\n",
       "\n",
       "    .dataframe tbody tr th {\n",
       "        vertical-align: top;\n",
       "    }\n",
       "\n",
       "    .dataframe thead th {\n",
       "        text-align: right;\n",
       "    }\n",
       "</style>\n",
       "<table border=\"1\" class=\"dataframe\">\n",
       "  <thead>\n",
       "    <tr style=\"text-align: right;\">\n",
       "      <th></th>\n",
       "      <th>userId</th>\n",
       "      <th>movieId</th>\n",
       "      <th>rating</th>\n",
       "    </tr>\n",
       "  </thead>\n",
       "  <tbody>\n",
       "    <tr>\n",
       "      <th>0</th>\n",
       "      <td>1</td>\n",
       "      <td>1</td>\n",
       "      <td>4.0</td>\n",
       "    </tr>\n",
       "    <tr>\n",
       "      <th>1</th>\n",
       "      <td>1</td>\n",
       "      <td>3</td>\n",
       "      <td>4.0</td>\n",
       "    </tr>\n",
       "    <tr>\n",
       "      <th>2</th>\n",
       "      <td>1</td>\n",
       "      <td>6</td>\n",
       "      <td>4.0</td>\n",
       "    </tr>\n",
       "    <tr>\n",
       "      <th>3</th>\n",
       "      <td>1</td>\n",
       "      <td>47</td>\n",
       "      <td>5.0</td>\n",
       "    </tr>\n",
       "    <tr>\n",
       "      <th>4</th>\n",
       "      <td>1</td>\n",
       "      <td>50</td>\n",
       "      <td>5.0</td>\n",
       "    </tr>\n",
       "    <tr>\n",
       "      <th>5</th>\n",
       "      <td>1</td>\n",
       "      <td>70</td>\n",
       "      <td>3.0</td>\n",
       "    </tr>\n",
       "  </tbody>\n",
       "</table>\n",
       "</div>"
      ],
      "text/plain": [
       "   userId  movieId  rating\n",
       "0       1        1     4.0\n",
       "1       1        3     4.0\n",
       "2       1        6     4.0\n",
       "3       1       47     5.0\n",
       "4       1       50     5.0\n",
       "5       1       70     3.0"
      ]
     },
     "execution_count": 5,
     "metadata": {},
     "output_type": "execute_result"
    }
   ],
   "source": [
    "df.head(6)"
   ]
  },
  {
   "cell_type": "code",
   "execution_count": 6,
   "metadata": {},
   "outputs": [
    {
     "name": "stderr",
     "output_type": "stream",
     "text": [
      "/Users/xinxinhuang/anaconda2/envs/python37/lib/python3.6/site-packages/scipy/stats/stats.py:1713: FutureWarning: Using a non-tuple sequence for multidimensional indexing is deprecated; use `arr[tuple(seq)]` instead of `arr[seq]`. In the future this will be interpreted as an array index, `arr[np.array(seq)]`, which will result either in an error or a different result.\n",
      "  return np.add.reduce(sorted[indexer] * weights, axis=axis) / sumval\n"
     ]
    },
    {
     "data": {
      "text/plain": [
       "<matplotlib.axes._subplots.AxesSubplot at 0x1a1c426e10>"
      ]
     },
     "execution_count": 6,
     "metadata": {},
     "output_type": "execute_result"
    },
    {
     "data": {
      "image/png": "[encoded data removed]",
      "text/plain": [
       "<Figure size 432x288 with 1 Axes>"
      ]
     },
     "metadata": {
      "needs_background": "light"
     },
     "output_type": "display_data"
    }
   ],
   "source": [
    "# Display distribution of rating\n",
    "sns.distplot(df['rating'].fillna(df['rating'].median()))"
   ]
  },
  {
   "cell_type": "markdown",
   "metadata": {},
   "source": [
    "There are more ratings in score 4 and 3 than that in other scores, showing that most of users are neutralistic. However, some users might rate their favorite movies only 4 stars while some rate it as 5 stars due to personality variance."
   ]
  },
  {
   "cell_type": "markdown",
   "metadata": {},
   "source": [
    "# Collaborative Filtering Recommendation Model\n",
    "## KNN (Self-Implementation)"
   ]
  },
  {
   "cell_type": "code",
   "execution_count": 7,
   "metadata": {},
   "outputs": [],
   "source": [
    "def trans_arr(result,data):\n",
    "    arr=np.ones(len(data))\n",
    "    for index,row in enumerate(data):\n",
    "        i = int(row[0])-1\n",
    "        j = int(row[1])-1\n",
    "        try:\n",
    "            arr[index]=result[i][j]\n",
    "        except:\n",
    "            arr[index]=0\n",
    "    return arr\n",
    "\n",
    "def MAE(arr,data):\n",
    "    return np.mean(np.abs(data[:,-1]-arr))\n",
    "def RMSE(arr,data):\n",
    "    return (np.mean((data[:,-1]-arr)**2))**0.5\n",
    "\n",
    "def get_neighbors(sim,k,i):\n",
    "    sim[i]=-float('inf')\n",
    "    return np.argsort(sim)[::-1][:k]\n",
    "    \n",
    "def knn_mean(df,k=40):\n",
    "    n_user = max(df.userId.values)\n",
    "    n_item = max(df.movieId.values)\n",
    "    data = df.values[:,:-1]\n",
    "    mu_user=df.groupby(['userId']).mean().rating.values\n",
    "    R = np.zeros((n_user,n_item))\n",
    "    result= np.zeros((n_user,n_item))\n",
    "    norm_R =np.zeros((n_user,n_item))\n",
    "    for row in data:\n",
    "        i = int(row[0])-1\n",
    "        j = int(row[1])-1\n",
    "        R[i][j]=row[2]\n",
    "        norm_R[i][j]=row[2]-mu_user[i]\n",
    "    sim_matrix = np.corrcoef(R) \n",
    "    for i,row in enumerate(R):\n",
    "        mu=mu_user[i]\n",
    "        sim=sim_matrix[i]\n",
    "        k_index=get_neighbors(sim,k,i)\n",
    "        k_sim=sim[k_index]\n",
    "        k_nb=norm_R[k_index,:]\n",
    "        result[i]=(k_sim.T@k_nb/np.sum(k_sim)+mu)\n",
    "    return result,data"
   ]
  },
  {
   "cell_type": "code",
   "execution_count": 8,
   "metadata": {},
   "outputs": [],
   "source": [
    "def knn_cv(n_splits=5,k=40,size=origin_size):\n",
    "    df=pd.read_csv('./ml-latest-small/ratings.csv')\n",
    "    df=df.iloc[:size]\n",
    "    kf = KFold(n_splits = n_splits, shuffle = True, random_state = 1)\n",
    "    knn_train_mae=[]\n",
    "    knn_train_mrse=[]\n",
    "    knn_test_mae=[]\n",
    "    knn_test_mrse=[]\n",
    "    knn_time=[]\n",
    "    for  tr,ts in kf.split(df):\n",
    "        start = tm.time()\n",
    "        train=df.iloc[tr]\n",
    "        test=df.iloc[ts]\n",
    "        result,train_data =knn_mean(train,k)\n",
    "        test_data = test.values[:,:-1]\n",
    "        train_arr=trans_arr(result,train_data)\n",
    "        test_arr=trans_arr(result,test_data)\n",
    "        knn_train_mae.append(MAE(train_arr,train_data))\n",
    "        knn_train_mrse.append(RMSE(train_arr,train_data))\n",
    "        knn_test_mae.append(MAE(test_arr,test_data))\n",
    "        knn_test_mrse.append(RMSE(test_arr,test_data))\n",
    "        end=tm.time()\n",
    "        knn_time.append(end-start)\n",
    "    return [np.mean(knn_train_mae),np.mean(knn_train_mrse),\n",
    "            np.mean(knn_test_mae),np.mean(knn_test_mrse),\n",
    "            np.mean(knn_time)]"
   ]
  },
  {
   "cell_type": "code",
   "execution_count": 9,
   "metadata": {},
   "outputs": [],
   "source": [
    "neighbor_size=np.arange(40,100,15)\n",
    "knn_result=[]\n",
    "for k in neighbor_size:\n",
    "    knn_result.append(knn_cv(5,k))"
   ]
  },
  {
   "cell_type": "code",
   "execution_count": 10,
   "metadata": {},
   "outputs": [
    {
     "name": "stdout",
     "output_type": "stream",
     "text": [
      "[[0.7004784465084581, 0.9078555893471607, 0.7092094129663409, 0.919290912746671, 3.886952018737793]]\n",
      "[[0.7004784465084581, 0.9078555893471607, 0.7092094129663409, 0.919290912746671, 3.886952018737793], [0.6908171051190074, 0.8969130423569505, 0.7002166607241169, 0.9082978780273601, 8.101136684417725]]\n",
      "[[0.7004784465084581, 0.9078555893471607, 0.7092094129663409, 0.919290912746671, 3.886952018737793], [0.6908171051190074, 0.8969130423569505, 0.7002166607241169, 0.9082978780273601, 8.101136684417725], [0.6912403938506839, 0.8954881550282213, 0.7005338493702157, 0.9062789993328021, 11.713575172424317]]\n",
      "[[0.7004784465084581, 0.9078555893471607, 0.7092094129663409, 0.919290912746671, 3.886952018737793], [0.6908171051190074, 0.8969130423569505, 0.7002166607241169, 0.9082978780273601, 8.101136684417725], [0.6912403938506839, 0.8954881550282213, 0.7005338493702157, 0.9062789993328021, 11.713575172424317], [0.6920400459225289, 0.8967619305631181, 0.7016953004015122, 0.908503908672837, 15.19855194091797]]\n",
      "[[0.7004784465084581, 0.9078555893471607, 0.7092094129663409, 0.919290912746671, 3.886952018737793], [0.6908171051190074, 0.8969130423569505, 0.7002166607241169, 0.9082978780273601, 8.101136684417725], [0.6912403938506839, 0.8954881550282213, 0.7005338493702157, 0.9062789993328021, 11.713575172424317], [0.6920400459225289, 0.8967619305631181, 0.7016953004015122, 0.908503908672837, 15.19855194091797], [0.6864997795421047, 0.8930729257891145, 0.6956023032473967, 0.9038377848382189, 17.967943572998045]]\n"
     ]
    }
   ],
   "source": [
    "knn_size_result=[]\n",
    "for n in new_size:\n",
    "    knn_size_result.append(knn_cv(5,size=n))\n",
    "    print(knn_size_result)"
   ]
  },
  {
   "cell_type": "markdown",
   "metadata": {},
   "source": [
    "## Evaluate Knn (Self-Implementation)"
   ]
  },
  {
   "cell_type": "code",
   "execution_count": 11,
   "metadata": {},
   "outputs": [],
   "source": [
    "knn_train_mae=[]\n",
    "knn_train_rmse=[]\n",
    "knn_test_mae=[]\n",
    "knn_test_rmse=[]\n",
    "knn_time=[]\n",
    "for i in range(0,len(knn_result)):\n",
    "    knn_train_mae.append(knn_result[i][0])\n",
    "    knn_train_rmse.append(knn_result[i][1])\n",
    "    knn_test_mae.append(knn_result[i][2])\n",
    "    knn_test_rmse.append(knn_result[i][3])\n",
    "    knn_time.append(knn_result[i][4])"
   ]
  },
  {
   "cell_type": "markdown",
   "metadata": {},
   "source": [
    "### Fitting time vs. Neighbor size "
   ]
  },
  {
   "cell_type": "code",
   "execution_count": 12,
   "metadata": {},
   "outputs": [
    {
     "data": {
      "text/plain": [
       "<matplotlib.axes._subplots.AxesSubplot at 0x1a1c331e10>"
      ]
     },
     "execution_count": 12,
     "metadata": {},
     "output_type": "execute_result"
    },
    {
     "data": {
      "image/png": "[encoded data removed]",
      "text/plain": [
       "<Figure size 432x288 with 1 Axes>"
      ]
     },
     "metadata": {
      "needs_background": "light"
     },
     "output_type": "display_data"
    }
   ],
   "source": [
    "plt.title(\"the change of run-time of Knn (Self-Implementation) over neighbor size\")\n",
    "plt.xlabel(\"neighbor size\")\n",
    "plt.ylabel(\"time\")\n",
    "sns.lineplot(neighbor_size, knn_time, palette=\"tab10\")"
   ]
  },
  {
   "cell_type": "markdown",
   "metadata": {},
   "source": [
    "The running time increases as k increases."
   ]
  },
  {
   "cell_type": "markdown",
   "metadata": {},
   "source": [
    "### Mean_Absolute _Error (MAE) & Root Mean Squared Error (RMSE)\n",
    "#### Primary accuracy metric : MAE"
   ]
  },
  {
   "cell_type": "code",
   "execution_count": 13,
   "metadata": {},
   "outputs": [
    {
     "data": {
      "text/plain": [
       "<matplotlib.axes._subplots.AxesSubplot at 0x118225eb8>"
      ]
     },
     "execution_count": 13,
     "metadata": {},
     "output_type": "execute_result"
    },
    {
     "data": {
      "image/png": "[encoded data removed]",
      "text/plain": [
       "<Figure size 432x288 with 1 Axes>"
      ]
     },
     "metadata": {
      "needs_background": "light"
     },
     "output_type": "display_data"
    }
   ],
   "source": [
    "Knn_MAE = pd.DataFrame(np.column_stack([knn_test_mae, knn_train_mae]),columns=['Knn_test_MAE', 'Knn_train_MAE'])\n",
    "Knn_MAE.index = neighbor_size\n",
    "plt.title(\"the change of MAE of Knn (Self-Implementation) over neighbor size\")\n",
    "plt.xlabel(\"neighbor size\")\n",
    "plt.ylabel(\"MAE\")\n",
    "sns.lineplot(data = Knn_MAE, palette=\"tab10\")"
   ]
  },
  {
   "cell_type": "markdown",
   "metadata": {},
   "source": [
    "Observation :\n",
    "The MAE of both train and test data increase as the neighbor size increases."
   ]
  },
  {
   "cell_type": "markdown",
   "metadata": {},
   "source": [
    "#### Secondary accuracy metric: RMSE"
   ]
  },
  {
   "cell_type": "code",
   "execution_count": 14,
   "metadata": {},
   "outputs": [
    {
     "data": {
      "text/plain": [
       "<matplotlib.axes._subplots.AxesSubplot at 0x1a1c33f208>"
      ]
     },
     "execution_count": 14,
     "metadata": {},
     "output_type": "execute_result"
    },
    {
     "data": {
      "image/png": "[encoded data removed]",
      "text/plain": [
       "<Figure size 432x288 with 1 Axes>"
      ]
     },
     "metadata": {
      "needs_background": "light"
     },
     "output_type": "display_data"
    }
   ],
   "source": [
    "Knn_RMSE = pd.DataFrame(np.column_stack([knn_test_rmse, knn_train_rmse]),columns=['Knn_test_RMSE', 'Knn_train_RMSE'])\n",
    "Knn_RMSE.index = neighbor_size\n",
    "plt.title(\"the change of RMSE of Knn (Self-Implementation) over neighbor size\")\n",
    "plt.xlabel(\"neighbor size\")\n",
    "plt.ylabel(\"RMSE\")\n",
    "sns.lineplot(data = Knn_RMSE, palette=\"tab10\")"
   ]
  },
  {
   "cell_type": "markdown",
   "metadata": {},
   "source": [
    "Observation :\n",
    "The RMSE of both train and test data increase as the neighbor size increases."
   ]
  },
  {
   "cell_type": "markdown",
   "metadata": {},
   "source": [
    "## KNN by surprise with baseline added"
   ]
  },
  {
   "cell_type": "code",
   "execution_count": 15,
   "metadata": {
    "scrolled": true
   },
   "outputs": [
    {
     "name": "stdout",
     "output_type": "stream",
     "text": [
      "Estimating biases using als...\n",
      "Computing the msd similarity matrix...\n",
      "Done computing similarity matrix.\n",
      "Estimating biases using als...\n",
      "Computing the msd similarity matrix...\n",
      "Done computing similarity matrix.\n",
      "Estimating biases using als...\n",
      "Computing the msd similarity matrix...\n",
      "Done computing similarity matrix.\n",
      "Estimating biases using als...\n",
      "Computing the msd similarity matrix...\n",
      "Done computing similarity matrix.\n",
      "Estimating biases using als...\n",
      "Computing the msd similarity matrix...\n",
      "Done computing similarity matrix.\n",
      "Estimating biases using als...\n",
      "Computing the msd similarity matrix...\n",
      "Done computing similarity matrix.\n",
      "Estimating biases using als...\n",
      "Computing the msd similarity matrix...\n",
      "Done computing similarity matrix.\n",
      "Estimating biases using als...\n",
      "Computing the msd similarity matrix...\n",
      "Done computing similarity matrix.\n",
      "Estimating biases using als...\n",
      "Computing the msd similarity matrix...\n",
      "Done computing similarity matrix.\n",
      "Estimating biases using als...\n",
      "Computing the msd similarity matrix...\n",
      "Done computing similarity matrix.\n",
      "Evaluating RMSE, MAE of algorithm KNNBaseline on 10 split(s).\n",
      "\n",
      "                  Fold 1  Fold 2  Fold 3  Fold 4  Fold 5  Fold 6  Fold 7  Fold 8  Fold 9  Fold 10 Mean    Std     \n",
      "RMSE (testset)    0.8641  0.8674  0.8819  0.8691  0.8624  0.8678  0.8712  0.8704  0.8681  0.8737  0.8696  0.0051  \n",
      "MAE (testset)     0.6605  0.6628  0.6718  0.6687  0.6579  0.6628  0.6654  0.6627  0.6608  0.6723  0.6646  0.0046  \n",
      "RMSE (trainset)   0.6783  0.6776  0.6763  0.6780  0.6783  0.6779  0.6781  0.6776  0.6780  0.6770  0.6777  0.0006  \n",
      "MAE (trainset)    0.5045  0.5042  0.5035  0.5042  0.5046  0.5044  0.5045  0.5045  0.5050  0.5033  0.5043  0.0005  \n",
      "Fit time          0.31    0.31    0.33    0.33    0.32    0.37    0.34    0.33    0.34    0.31    0.33    0.02    \n",
      "Test time         0.80    0.81    0.75    0.97    0.86    0.74    0.82    0.76    0.78    0.71    0.80    0.07    \n",
      "Estimating biases using als...\n",
      "Computing the msd similarity matrix...\n",
      "Done computing similarity matrix.\n",
      "Estimating biases using als...\n",
      "Computing the msd similarity matrix...\n",
      "Done computing similarity matrix.\n",
      "Estimating biases using als...\n",
      "Computing the msd similarity matrix...\n",
      "Done computing similarity matrix.\n",
      "Estimating biases using als...\n",
      "Computing the msd similarity matrix...\n",
      "Done computing similarity matrix.\n",
      "Estimating biases using als...\n",
      "Computing the msd similarity matrix...\n",
      "Done computing similarity matrix.\n",
      "Estimating biases using als...\n",
      "Computing the msd similarity matrix...\n",
      "Done computing similarity matrix.\n",
      "Estimating biases using als...\n",
      "Computing the msd similarity matrix...\n",
      "Done computing similarity matrix.\n",
      "Estimating biases using als...\n",
      "Computing the msd similarity matrix...\n",
      "Done computing similarity matrix.\n",
      "Estimating biases using als...\n",
      "Computing the msd similarity matrix...\n",
      "Done computing similarity matrix.\n",
      "Estimating biases using als...\n",
      "Computing the msd similarity matrix...\n",
      "Done computing similarity matrix.\n",
      "Evaluating RMSE, MAE of algorithm KNNBaseline on 10 split(s).\n",
      "\n",
      "                  Fold 1  Fold 2  Fold 3  Fold 4  Fold 5  Fold 6  Fold 7  Fold 8  Fold 9  Fold 10 Mean    Std     \n",
      "RMSE (testset)    0.8805  0.8696  0.8703  0.8532  0.8746  0.8754  0.8686  0.8756  0.8645  0.8689  0.8701  0.0071  \n",
      "MAE (testset)     0.6714  0.6616  0.6591  0.6547  0.6670  0.6683  0.6641  0.6722  0.6614  0.6672  0.6647  0.0053  \n",
      "RMSE (trainset)   0.6884  0.6899  0.6898  0.6911  0.6890  0.6893  0.6896  0.6894  0.6899  0.6895  0.6896  0.0007  \n",
      "MAE (trainset)    0.5125  0.5137  0.5137  0.5142  0.5126  0.5129  0.5129  0.5129  0.5138  0.5129  0.5132  0.0006  \n",
      "Fit time          0.29    0.31    0.32    0.34    0.36    0.30    0.41    0.31    0.32    0.31    0.33    0.03    \n",
      "Test time         0.76    0.77    0.82    0.93    0.80    0.79    0.80    0.76    0.77    0.76    0.79    0.05    \n",
      "Estimating biases using als...\n",
      "Computing the msd similarity matrix...\n",
      "Done computing similarity matrix.\n",
      "Estimating biases using als...\n",
      "Computing the msd similarity matrix...\n",
      "Done computing similarity matrix.\n",
      "Estimating biases using als...\n",
      "Computing the msd similarity matrix...\n",
      "Done computing similarity matrix.\n",
      "Estimating biases using als...\n",
      "Computing the msd similarity matrix...\n",
      "Done computing similarity matrix.\n",
      "Estimating biases using als...\n",
      "Computing the msd similarity matrix...\n",
      "Done computing similarity matrix.\n",
      "Estimating biases using als...\n",
      "Computing the msd similarity matrix...\n",
      "Done computing similarity matrix.\n",
      "Estimating biases using als...\n",
      "Computing the msd similarity matrix...\n",
      "Done computing similarity matrix.\n",
      "Estimating biases using als...\n",
      "Computing the msd similarity matrix...\n",
      "Done computing similarity matrix.\n",
      "Estimating biases using als...\n",
      "Computing the msd similarity matrix...\n",
      "Done computing similarity matrix.\n",
      "Estimating biases using als...\n",
      "Computing the msd similarity matrix...\n",
      "Done computing similarity matrix.\n",
      "Evaluating RMSE, MAE of algorithm KNNBaseline on 10 split(s).\n",
      "\n",
      "                  Fold 1  Fold 2  Fold 3  Fold 4  Fold 5  Fold 6  Fold 7  Fold 8  Fold 9  Fold 10 Mean    Std     \n",
      "RMSE (testset)    0.8732  0.8719  0.8677  0.8743  0.8705  0.8626  0.8735  0.8624  0.8882  0.8668  0.8711  0.0070  \n",
      "MAE (testset)     0.6670  0.6664  0.6639  0.6677  0.6616  0.6604  0.6664  0.6620  0.6806  0.6619  0.6658  0.0055  \n",
      "RMSE (trainset)   0.6963  0.6964  0.6967  0.6959  0.6964  0.6970  0.6958  0.6973  0.6948  0.6969  0.6964  0.0007  \n",
      "MAE (trainset)    0.5181  0.5183  0.5188  0.5180  0.5187  0.5189  0.5180  0.5191  0.5170  0.5189  0.5184  0.0006  \n",
      "Fit time          0.35    0.31    0.34    0.36    0.33    0.34    0.32    0.32    0.32    0.39    0.34    0.02    \n",
      "Test time         0.82    0.87    0.86    0.88    0.99    0.84    0.85    0.84    0.86    0.81    0.86    0.05    \n",
      "Estimating biases using als...\n",
      "Computing the msd similarity matrix...\n",
      "Done computing similarity matrix.\n",
      "Estimating biases using als...\n",
      "Computing the msd similarity matrix...\n",
      "Done computing similarity matrix.\n",
      "Estimating biases using als...\n",
      "Computing the msd similarity matrix...\n",
      "Done computing similarity matrix.\n",
      "Estimating biases using als...\n",
      "Computing the msd similarity matrix...\n",
      "Done computing similarity matrix.\n",
      "Estimating biases using als...\n",
      "Computing the msd similarity matrix...\n",
      "Done computing similarity matrix.\n",
      "Estimating biases using als...\n",
      "Computing the msd similarity matrix...\n",
      "Done computing similarity matrix.\n",
      "Estimating biases using als...\n",
      "Computing the msd similarity matrix...\n",
      "Done computing similarity matrix.\n",
      "Estimating biases using als...\n",
      "Computing the msd similarity matrix...\n",
      "Done computing similarity matrix.\n",
      "Estimating biases using als...\n",
      "Computing the msd similarity matrix...\n",
      "Done computing similarity matrix.\n",
      "Estimating biases using als...\n",
      "Computing the msd similarity matrix...\n",
      "Done computing similarity matrix.\n",
      "Evaluating RMSE, MAE of algorithm KNNBaseline on 10 split(s).\n",
      "\n",
      "                  Fold 1  Fold 2  Fold 3  Fold 4  Fold 5  Fold 6  Fold 7  Fold 8  Fold 9  Fold 10 Mean    Std     \n",
      "RMSE (testset)    0.8796  0.8677  0.8703  0.8777  0.8680  0.8707  0.8640  0.8652  0.8745  0.8634  0.8701  0.0053  \n",
      "MAE (testset)     0.6683  0.6632  0.6620  0.6697  0.6676  0.6637  0.6617  0.6640  0.6683  0.6622  0.6651  0.0029  \n",
      "RMSE (trainset)   0.7004  0.7010  0.7008  0.7000  0.7009  0.7012  0.7015  0.7012  0.7003  0.7013  0.7009  0.0005  \n",
      "MAE (trainset)    0.5217  0.5220  0.5218  0.5212  0.5217  0.5222  0.5225  0.5218  0.5214  0.5219  0.5218  0.0004  \n",
      "Fit time          0.32    0.28    0.29    0.33    0.29    0.32    0.33    0.29    0.28    0.31    0.30    0.02    \n",
      "Test time         0.90    0.82    0.82    0.89    0.83    0.85    0.86    0.87    0.85    0.91    0.86    0.03    \n"
     ]
    }
   ],
   "source": [
    "Knn_time = []\n",
    "Knn_train_MAE=[]\n",
    "Knn_test_MAE=[]\n",
    "Knn_train_RMSE=[]\n",
    "Knn_test_RMSE=[]\n",
    "\n",
    "for k in neighbor_size:    \n",
    "    algo=KNNBaseline(k=k)\n",
    "    c_v=cross_validate(algo, data,cv=10, verbose=True,return_train_measures =True)\n",
    "    Knn_time.append(np.mean(c_v['fit_time']))\n",
    "    Knn_train_MAE.append(np.mean(c_v['train_mae']))\n",
    "    Knn_test_MAE.append(np.mean(c_v['test_mae']))\n",
    "    Knn_train_RMSE.append(np.mean(c_v['train_rmse']))\n",
    "    Knn_test_RMSE.append(np.mean(c_v['test_rmse']))\n",
    "knn_result=[Knn_time,Knn_train_MAE,Knn_test_MAE,Knn_train_RMSE,Knn_test_RMSE]  "
   ]
  },
  {
   "cell_type": "markdown",
   "metadata": {},
   "source": [
    "## Evaluate Knn by surprise\n",
    "### Fitting time vs. Neighbor size "
   ]
  },
  {
   "cell_type": "code",
   "execution_count": 15,
   "metadata": {},
   "outputs": [
    {
     "data": {
      "text/plain": [
       "<matplotlib.axes._subplots.AxesSubplot at 0x1e2b37641d0>"
      ]
     },
     "execution_count": 15,
     "metadata": {},
     "output_type": "execute_result"
    },
    {
     "data": {
      "image/png": "[encoded data removed]",
      "text/plain": [
       "<Figure size 432x288 with 1 Axes>"
      ]
     },
     "metadata": {},
     "output_type": "display_data"
    }
   ],
   "source": [
    "plt.title(\"the change of run-time of Knn with surprise over neighbor size\")\n",
    "plt.xlabel(\"neighbor size\")\n",
    "plt.ylabel(\"time\")\n",
    "sns.lineplot(neighbor_size, Knn_time, palette=\"tab10\")"
   ]
  },
  {
   "cell_type": "markdown",
   "metadata": {},
   "source": [
    "As shown above, when k is around 55, the fitting time is highest, meaning that the model is most complex at this neighbor size. The lowest fitting time is at k =75 approximately. While the run time of KNN without baseline increases monotonically by the increment of k. \n"
   ]
  },
  {
   "cell_type": "markdown",
   "metadata": {},
   "source": [
    "### Mean_Absolute _Error (MAE) & Root Mean Squared Error (RMSE)"
   ]
  },
  {
   "cell_type": "markdown",
   "metadata": {},
   "source": [
    "#### Primary accuracy metric : MAE"
   ]
  },
  {
   "cell_type": "code",
   "execution_count": 16,
   "metadata": {},
   "outputs": [
    {
     "data": {
      "text/plain": [
       "<matplotlib.axes._subplots.AxesSubplot at 0x1e2b5f92b38>"
      ]
     },
     "execution_count": 16,
     "metadata": {},
     "output_type": "execute_result"
    },
    {
     "data": {
      "image/png": "[encoded data removed]",
      "text/plain": [
       "<Figure size 432x288 with 1 Axes>"
      ]
     },
     "metadata": {},
     "output_type": "display_data"
    }
   ],
   "source": [
    "Knn_MAE = pd.DataFrame(np.column_stack([Knn_test_MAE, Knn_train_MAE]),columns=['Knn_test_MAE', 'Knn_train_MAE'])\n",
    "Knn_MAE.index = neighbor_size\n",
    "plt.title(\"the change of MAE of Knn with surprise over neighbor size\")\n",
    "plt.xlabel(\"neighbor size\")\n",
    "plt.ylabel(\"MAE\")\n",
    "sns.lineplot(data = Knn_MAE, palette=\"tab10\")"
   ]
  },
  {
   "cell_type": "markdown",
   "metadata": {},
   "source": [
    "The MAE is around 0.67 and it changes little by the increment of neighbor size."
   ]
  },
  {
   "cell_type": "markdown",
   "metadata": {
    "scrolled": true
   },
   "source": [
    "#### Secondary accuracy metric: RMSE"
   ]
  },
  {
   "cell_type": "code",
   "execution_count": 22,
   "metadata": {},
   "outputs": [
    {
     "data": {
      "text/plain": [
       "<matplotlib.axes._subplots.AxesSubplot at 0x1133e5f28>"
      ]
     },
     "execution_count": 22,
     "metadata": {},
     "output_type": "execute_result"
    },
    {
     "data": {
      "image/png": "[encoded data removed]",
      "text/plain": [
       "<Figure size 432x288 with 1 Axes>"
      ]
     },
     "metadata": {},
     "output_type": "display_data"
    }
   ],
   "source": [
    "Knn_RMSE = pd.DataFrame(np.column_stack([Knn_test_RMSE, Knn_train_RMSE]),columns=['Knn_test_RMSE', 'Knn_train_RMSE'])\n",
    "Knn_RMSE.index = neighbor_size\n",
    "plt.title(\"the change of RMSE of Knn with surprise over neighbor size\")\n",
    "plt.xlabel(\"neighbor size\")\n",
    "plt.ylabel(\"RMSE\")\n",
    "sns.lineplot(data = Knn_RMSE, palette=\"tab10\")"
   ]
  },
  {
   "cell_type": "markdown",
   "metadata": {},
   "source": [
    "The RMSE is around 0.873 and it changes little by the increment of neighbor size."
   ]
  },
  {
   "cell_type": "markdown",
   "metadata": {},
   "source": [
    "#### The comparison of MAE and RMSE:\n",
    "\n",
    "1. Since the errors are squared before taking averages, some large errors would be given higher weights. When large errors are undesirable, using RMSE to eveluate the model would be useful. RMSE increases with the variance of the frequency distribution of error magnitudes.\n",
    "\n",
    "2. RMSE has a tendency to be increasingly larger than MAE as the test sample size increases. So this is a problem when comparing RMSE computed from different test sample sizes. \n",
    "\n",
    "#### The results of MAE and RMSE for our model:\n",
    "We can use both MAE and RMSE to eveluate the model.\n",
    "\n",
    "As the plot showing, MAE is much less than RMSE, which is normal. This also indicates that there are some large error outliers of the results. \n",
    "\n",
    "The large errors in the results means that our recommender predict completely wrong rating scores so that some users would get recommendations on movies that they don't like, which is unexpected from us. In this case, there is a approximately 0.2 difference between MAE and RMSE, which indicates that there is about 20% variance in the individual errors in the sample.\n",
    "\n",
    "\n"
   ]
  },
  {
   "cell_type": "markdown",
   "metadata": {},
   "source": [
    "### How  does sample size impact the accuracy of KNN?\n",
    "\n",
    "Now we are trying to test how this model changes by the input sample size.\n",
    "\n"
   ]
  },
  {
   "cell_type": "code",
   "execution_count": 30,
   "metadata": {},
   "outputs": [
    {
     "name": "stdout",
     "output_type": "stream",
     "text": [
      "Estimating biases using als...\n",
      "Computing the msd similarity matrix...\n",
      "Done computing similarity matrix.\n",
      "Estimating biases using als...\n",
      "Computing the msd similarity matrix...\n",
      "Done computing similarity matrix.\n",
      "Estimating biases using als...\n",
      "Computing the msd similarity matrix...\n",
      "Done computing similarity matrix.\n",
      "Estimating biases using als...\n",
      "Computing the msd similarity matrix...\n",
      "Done computing similarity matrix.\n",
      "Estimating biases using als...\n",
      "Computing the msd similarity matrix...\n",
      "Done computing similarity matrix.\n",
      "Estimating biases using als...\n",
      "Computing the msd similarity matrix...\n",
      "Done computing similarity matrix.\n",
      "Estimating biases using als...\n",
      "Computing the msd similarity matrix...\n",
      "Done computing similarity matrix.\n",
      "Estimating biases using als...\n",
      "Computing the msd similarity matrix...\n",
      "Done computing similarity matrix.\n",
      "Estimating biases using als...\n",
      "Computing the msd similarity matrix...\n",
      "Done computing similarity matrix.\n",
      "Estimating biases using als...\n",
      "Computing the msd similarity matrix...\n",
      "Done computing similarity matrix.\n",
      "Estimating biases using als...\n",
      "Computing the msd similarity matrix...\n",
      "Done computing similarity matrix.\n",
      "Estimating biases using als...\n",
      "Computing the msd similarity matrix...\n",
      "Done computing similarity matrix.\n",
      "Estimating biases using als...\n",
      "Computing the msd similarity matrix...\n",
      "Done computing similarity matrix.\n",
      "Estimating biases using als...\n",
      "Computing the msd similarity matrix...\n",
      "Done computing similarity matrix.\n",
      "Estimating biases using als...\n",
      "Computing the msd similarity matrix...\n",
      "Done computing similarity matrix.\n",
      "Estimating biases using als...\n",
      "Computing the msd similarity matrix...\n",
      "Done computing similarity matrix.\n",
      "Estimating biases using als...\n",
      "Computing the msd similarity matrix...\n",
      "Done computing similarity matrix.\n",
      "Estimating biases using als...\n",
      "Computing the msd similarity matrix...\n",
      "Done computing similarity matrix.\n",
      "Estimating biases using als...\n",
      "Computing the msd similarity matrix...\n",
      "Done computing similarity matrix.\n",
      "Estimating biases using als...\n",
      "Computing the msd similarity matrix...\n",
      "Done computing similarity matrix.\n",
      "Estimating biases using als...\n",
      "Computing the msd similarity matrix...\n",
      "Done computing similarity matrix.\n",
      "Estimating biases using als...\n",
      "Computing the msd similarity matrix...\n",
      "Done computing similarity matrix.\n",
      "Estimating biases using als...\n",
      "Computing the msd similarity matrix...\n",
      "Done computing similarity matrix.\n",
      "Estimating biases using als...\n",
      "Computing the msd similarity matrix...\n",
      "Done computing similarity matrix.\n",
      "Estimating biases using als...\n",
      "Computing the msd similarity matrix...\n",
      "Done computing similarity matrix.\n",
      "Estimating biases using als...\n",
      "Computing the msd similarity matrix...\n",
      "Done computing similarity matrix.\n",
      "Estimating biases using als...\n",
      "Computing the msd similarity matrix...\n",
      "Done computing similarity matrix.\n",
      "Estimating biases using als...\n",
      "Computing the msd similarity matrix...\n",
      "Done computing similarity matrix.\n",
      "Estimating biases using als...\n",
      "Computing the msd similarity matrix...\n",
      "Done computing similarity matrix.\n",
      "Estimating biases using als...\n",
      "Computing the msd similarity matrix...\n",
      "Done computing similarity matrix.\n",
      "Estimating biases using als...\n",
      "Computing the msd similarity matrix...\n",
      "Done computing similarity matrix.\n",
      "Estimating biases using als...\n",
      "Computing the msd similarity matrix...\n",
      "Done computing similarity matrix.\n",
      "Estimating biases using als...\n",
      "Computing the msd similarity matrix...\n",
      "Done computing similarity matrix.\n",
      "Estimating biases using als...\n",
      "Computing the msd similarity matrix...\n",
      "Done computing similarity matrix.\n",
      "Estimating biases using als...\n",
      "Computing the msd similarity matrix...\n",
      "Done computing similarity matrix.\n",
      "Estimating biases using als...\n",
      "Computing the msd similarity matrix...\n",
      "Done computing similarity matrix.\n",
      "Estimating biases using als...\n",
      "Computing the msd similarity matrix...\n",
      "Done computing similarity matrix.\n",
      "Estimating biases using als...\n",
      "Computing the msd similarity matrix...\n",
      "Done computing similarity matrix.\n",
      "Estimating biases using als...\n",
      "Computing the msd similarity matrix...\n",
      "Done computing similarity matrix.\n",
      "Estimating biases using als...\n",
      "Computing the msd similarity matrix...\n",
      "Done computing similarity matrix.\n",
      "Estimating biases using als...\n",
      "Computing the msd similarity matrix...\n",
      "Done computing similarity matrix.\n",
      "Estimating biases using als...\n",
      "Computing the msd similarity matrix...\n",
      "Done computing similarity matrix.\n",
      "Estimating biases using als...\n",
      "Computing the msd similarity matrix...\n",
      "Done computing similarity matrix.\n",
      "Estimating biases using als...\n",
      "Computing the msd similarity matrix...\n",
      "Done computing similarity matrix.\n",
      "Estimating biases using als...\n",
      "Computing the msd similarity matrix...\n",
      "Done computing similarity matrix.\n",
      "Estimating biases using als...\n",
      "Computing the msd similarity matrix...\n",
      "Done computing similarity matrix.\n",
      "Estimating biases using als...\n",
      "Computing the msd similarity matrix...\n",
      "Done computing similarity matrix.\n",
      "Estimating biases using als...\n",
      "Computing the msd similarity matrix...\n",
      "Done computing similarity matrix.\n",
      "Estimating biases using als...\n",
      "Computing the msd similarity matrix...\n",
      "Done computing similarity matrix.\n",
      "Estimating biases using als...\n",
      "Computing the msd similarity matrix...\n",
      "Done computing similarity matrix.\n"
     ]
    }
   ],
   "source": [
    "#gridient search for optimal K value\n",
    "param_grid = {'k': neighbor_size}\n",
    "knn_gs=GridSearchCV(KNNBaseline,param_grid)\n",
    "knn_gs.fit(data)\n",
    "\n",
    "bestk = knn_gs.best_params['mae']['k']"
   ]
  },
  {
   "cell_type": "code",
   "execution_count": 31,
   "metadata": {},
   "outputs": [
    {
     "name": "stdout",
     "output_type": "stream",
     "text": [
      "Estimating biases using als...\n",
      "Computing the msd similarity matrix...\n",
      "Done computing similarity matrix.\n",
      "Estimating biases using als...\n",
      "Computing the msd similarity matrix...\n",
      "Done computing similarity matrix.\n",
      "Estimating biases using als...\n",
      "Computing the msd similarity matrix...\n",
      "Done computing similarity matrix.\n",
      "Estimating biases using als...\n",
      "Computing the msd similarity matrix...\n",
      "Done computing similarity matrix.\n",
      "Estimating biases using als...\n",
      "Computing the msd similarity matrix...\n",
      "Done computing similarity matrix.\n",
      "Estimating biases using als...\n",
      "Computing the msd similarity matrix...\n",
      "Done computing similarity matrix.\n",
      "Estimating biases using als...\n",
      "Computing the msd similarity matrix...\n",
      "Done computing similarity matrix.\n",
      "Estimating biases using als...\n",
      "Computing the msd similarity matrix...\n",
      "Done computing similarity matrix.\n",
      "Estimating biases using als...\n",
      "Computing the msd similarity matrix...\n",
      "Done computing similarity matrix.\n",
      "Estimating biases using als...\n",
      "Computing the msd similarity matrix...\n",
      "Done computing similarity matrix.\n",
      "Evaluating RMSE, MAE of algorithm KNNBaseline on 10 split(s).\n",
      "\n",
      "                  Fold 1  Fold 2  Fold 3  Fold 4  Fold 5  Fold 6  Fold 7  Fold 8  Fold 9  Fold 10 Mean    Std     \n",
      "RMSE (testset)    0.9657  0.9395  0.9735  0.9563  0.9781  0.9969  0.9235  0.9549  0.9639  0.9769  0.9629  0.0198  \n",
      "MAE (testset)     0.7434  0.7249  0.7519  0.7398  0.7495  0.7669  0.7088  0.7390  0.7410  0.7499  0.7415  0.0150  \n",
      "RMSE (trainset)   0.4953  0.4976  0.4972  0.4968  0.4960  0.4943  0.4974  0.4965  0.4951  0.4975  0.4964  0.0011  \n",
      "MAE (trainset)    0.3570  0.3582  0.3580  0.3577  0.3575  0.3559  0.3578  0.3579  0.3568  0.3582  0.3575  0.0007  \n",
      "Fit time          0.05    0.04    0.04    0.04    0.04    0.05    0.04    0.04    0.04    0.04    0.04    0.00    \n",
      "Test time         0.04    0.05    0.04    0.04    0.05    0.05    0.05    0.04    0.04    0.04    0.04    0.00    \n",
      "Estimating biases using als...\n",
      "Computing the msd similarity matrix...\n",
      "Done computing similarity matrix.\n",
      "Estimating biases using als...\n",
      "Computing the msd similarity matrix...\n",
      "Done computing similarity matrix.\n",
      "Estimating biases using als...\n",
      "Computing the msd similarity matrix...\n",
      "Done computing similarity matrix.\n",
      "Estimating biases using als...\n",
      "Computing the msd similarity matrix...\n",
      "Done computing similarity matrix.\n",
      "Estimating biases using als...\n",
      "Computing the msd similarity matrix...\n",
      "Done computing similarity matrix.\n",
      "Estimating biases using als...\n",
      "Computing the msd similarity matrix...\n",
      "Done computing similarity matrix.\n",
      "Estimating biases using als...\n",
      "Computing the msd similarity matrix...\n",
      "Done computing similarity matrix.\n",
      "Estimating biases using als...\n",
      "Computing the msd similarity matrix...\n",
      "Done computing similarity matrix.\n",
      "Estimating biases using als...\n",
      "Computing the msd similarity matrix...\n",
      "Done computing similarity matrix.\n",
      "Estimating biases using als...\n",
      "Computing the msd similarity matrix...\n",
      "Done computing similarity matrix.\n",
      "Evaluating RMSE, MAE of algorithm KNNBaseline on 10 split(s).\n",
      "\n",
      "                  Fold 1  Fold 2  Fold 3  Fold 4  Fold 5  Fold 6  Fold 7  Fold 8  Fold 9  Fold 10 Mean    Std     \n",
      "RMSE (testset)    0.9216  0.9324  0.9127  0.8943  0.9234  0.9409  0.9120  0.8978  0.9288  0.9094  0.9173  0.0141  \n",
      "MAE (testset)     0.7063  0.7083  0.7015  0.6834  0.7059  0.7231  0.7014  0.6892  0.7175  0.6920  0.7029  0.0117  \n",
      "RMSE (trainset)   0.5922  0.5920  0.5924  0.5928  0.5924  0.5906  0.5917  0.5919  0.5918  0.5925  0.5920  0.0006  \n",
      "MAE (trainset)    0.4328  0.4325  0.4323  0.4330  0.4318  0.4312  0.4318  0.4329  0.4320  0.4334  0.4324  0.0006  \n",
      "Fit time          0.11    0.10    0.10    0.11    0.11    0.11    0.13    0.11    0.11    0.11    0.11    0.01    \n",
      "Test time         0.17    0.16    0.16    0.16    0.16    0.16    0.17    0.16    0.17    0.17    0.16    0.01    \n",
      "Estimating biases using als...\n",
      "Computing the msd similarity matrix...\n",
      "Done computing similarity matrix.\n",
      "Estimating biases using als...\n",
      "Computing the msd similarity matrix...\n",
      "Done computing similarity matrix.\n",
      "Estimating biases using als...\n",
      "Computing the msd similarity matrix...\n",
      "Done computing similarity matrix.\n",
      "Estimating biases using als...\n",
      "Computing the msd similarity matrix...\n",
      "Done computing similarity matrix.\n",
      "Estimating biases using als...\n",
      "Computing the msd similarity matrix...\n",
      "Done computing similarity matrix.\n",
      "Estimating biases using als...\n",
      "Computing the msd similarity matrix...\n",
      "Done computing similarity matrix.\n",
      "Estimating biases using als...\n",
      "Computing the msd similarity matrix...\n",
      "Done computing similarity matrix.\n",
      "Estimating biases using als...\n",
      "Computing the msd similarity matrix...\n",
      "Done computing similarity matrix.\n",
      "Estimating biases using als...\n",
      "Computing the msd similarity matrix...\n",
      "Done computing similarity matrix.\n",
      "Estimating biases using als...\n",
      "Computing the msd similarity matrix...\n",
      "Done computing similarity matrix.\n",
      "Evaluating RMSE, MAE of algorithm KNNBaseline on 10 split(s).\n",
      "\n",
      "                  Fold 1  Fold 2  Fold 3  Fold 4  Fold 5  Fold 6  Fold 7  Fold 8  Fold 9  Fold 10 Mean    Std     \n",
      "RMSE (testset)    0.9221  0.8726  0.8791  0.8935  0.9067  0.9006  0.8964  0.9029  0.8964  0.8906  0.8961  0.0132  \n",
      "MAE (testset)     0.7076  0.6715  0.6702  0.6824  0.6971  0.6867  0.6847  0.6902  0.6912  0.6778  0.6859  0.0108  \n",
      "RMSE (trainset)   0.6317  0.6344  0.6334  0.6337  0.6326  0.6331  0.6336  0.6329  0.6337  0.6337  0.6333  0.0007  \n",
      "MAE (trainset)    0.4654  0.4673  0.4673  0.4675  0.4659  0.4664  0.4671  0.4662  0.4666  0.4670  0.4667  0.0006  \n",
      "Fit time          0.21    0.21    0.22    0.20    0.25    0.18    0.26    0.24    0.22    0.18    0.22    0.03    \n",
      "Test time         0.32    0.32    0.33    0.33    0.36    0.35    0.37    0.39    0.35    0.35    0.35    0.02    \n",
      "Estimating biases using als...\n",
      "Computing the msd similarity matrix...\n",
      "Done computing similarity matrix.\n",
      "Estimating biases using als...\n",
      "Computing the msd similarity matrix...\n",
      "Done computing similarity matrix.\n",
      "Estimating biases using als...\n",
      "Computing the msd similarity matrix...\n",
      "Done computing similarity matrix.\n",
      "Estimating biases using als...\n",
      "Computing the msd similarity matrix...\n",
      "Done computing similarity matrix.\n",
      "Estimating biases using als...\n",
      "Computing the msd similarity matrix...\n",
      "Done computing similarity matrix.\n",
      "Estimating biases using als...\n",
      "Computing the msd similarity matrix...\n",
      "Done computing similarity matrix.\n",
      "Estimating biases using als...\n",
      "Computing the msd similarity matrix...\n",
      "Done computing similarity matrix.\n",
      "Estimating biases using als...\n",
      "Computing the msd similarity matrix...\n",
      "Done computing similarity matrix.\n",
      "Estimating biases using als...\n",
      "Computing the msd similarity matrix...\n",
      "Done computing similarity matrix.\n",
      "Estimating biases using als...\n",
      "Computing the msd similarity matrix...\n",
      "Done computing similarity matrix.\n",
      "Evaluating RMSE, MAE of algorithm KNNBaseline on 10 split(s).\n",
      "\n",
      "                  Fold 1  Fold 2  Fold 3  Fold 4  Fold 5  Fold 6  Fold 7  Fold 8  Fold 9  Fold 10 Mean    Std     \n",
      "RMSE (testset)    0.8723  0.8763  0.8757  0.8755  0.8801  0.8813  0.8697  0.8748  0.8811  0.8798  0.8767  0.0037  \n",
      "MAE (testset)     0.6701  0.6707  0.6657  0.6710  0.6743  0.6721  0.6662  0.6710  0.6683  0.6718  0.6701  0.0025  \n",
      "RMSE (trainset)   0.6553  0.6557  0.6548  0.6555  0.6546  0.6556  0.6556  0.6556  0.6554  0.6551  0.6553  0.0003  \n",
      "MAE (trainset)    0.4849  0.4854  0.4851  0.4847  0.4846  0.4858  0.4856  0.4853  0.4854  0.4851  0.4852  0.0004  \n",
      "Fit time          0.26    0.27    0.33    0.26    0.31    0.31    0.33    0.29    0.32    0.32    0.30    0.03    \n",
      "Test time         0.56    0.59    0.50    0.55    0.52    0.51    0.52    0.50    0.50    0.51    0.53    0.03    \n",
      "Estimating biases using als...\n",
      "Computing the msd similarity matrix...\n",
      "Done computing similarity matrix.\n",
      "Estimating biases using als...\n",
      "Computing the msd similarity matrix...\n",
      "Done computing similarity matrix.\n",
      "Estimating biases using als...\n",
      "Computing the msd similarity matrix...\n",
      "Done computing similarity matrix.\n",
      "Estimating biases using als...\n",
      "Computing the msd similarity matrix...\n",
      "Done computing similarity matrix.\n",
      "Estimating biases using als...\n",
      "Computing the msd similarity matrix...\n",
      "Done computing similarity matrix.\n",
      "Estimating biases using als...\n",
      "Computing the msd similarity matrix...\n",
      "Done computing similarity matrix.\n"
     ]
    },
    {
     "name": "stdout",
     "output_type": "stream",
     "text": [
      "Estimating biases using als...\n",
      "Computing the msd similarity matrix...\n",
      "Done computing similarity matrix.\n",
      "Estimating biases using als...\n",
      "Computing the msd similarity matrix...\n",
      "Done computing similarity matrix.\n",
      "Estimating biases using als...\n",
      "Computing the msd similarity matrix...\n",
      "Done computing similarity matrix.\n",
      "Estimating biases using als...\n",
      "Computing the msd similarity matrix...\n",
      "Done computing similarity matrix.\n",
      "Evaluating RMSE, MAE of algorithm KNNBaseline on 10 split(s).\n",
      "\n",
      "                  Fold 1  Fold 2  Fold 3  Fold 4  Fold 5  Fold 6  Fold 7  Fold 8  Fold 9  Fold 10 Mean    Std     \n",
      "RMSE (testset)    0.8730  0.8770  0.8644  0.8660  0.8737  0.8675  0.8635  0.8653  0.8717  0.8651  0.8687  0.0045  \n",
      "MAE (testset)     0.6693  0.6698  0.6605  0.6658  0.6663  0.6634  0.6557  0.6607  0.6638  0.6614  0.6637  0.0041  \n",
      "RMSE (trainset)   0.6708  0.6713  0.6716  0.6715  0.6711  0.6713  0.6716  0.6724  0.6719  0.6719  0.6715  0.0004  \n",
      "MAE (trainset)    0.4991  0.4994  0.4996  0.4996  0.4991  0.4994  0.5003  0.5006  0.5000  0.5000  0.4997  0.0005  \n",
      "Fit time          0.40    0.41    0.44    0.46    0.46    0.43    0.43    0.44    0.45    0.42    0.43    0.02    \n",
      "Test time         0.79    0.73    0.75    0.73    0.73    0.73    0.74    0.72    0.73    0.74    0.74    0.02    \n"
     ]
    }
   ],
   "source": [
    "knn_size_effect=[]\n",
    "Knn_time = []\n",
    "Knn_train_MAE=[]\n",
    "Knn_test_MAE=[]\n",
    "Knn_train_RMSE=[]\n",
    "Knn_test_RMSE=[]\n",
    "for n in new_size:\n",
    "    new_df=df.sample(n=n)\n",
    "    data=Dataset.load_from_df(new_df,reader=reader)\n",
    "    algo=KNNBaseline(k=bestk)\n",
    "    c_v=cross_validate(algo, data,cv=10, verbose=True,return_train_measures =True)\n",
    "    Knn_time.append(np.mean(c_v['fit_time']))\n",
    "    Knn_train_MAE.append(np.mean(c_v['train_mae']))\n",
    "    Knn_test_MAE.append(np.mean(c_v['test_mae']))\n",
    "    Knn_train_RMSE.append(np.mean(c_v['train_rmse']))\n",
    "    Knn_test_RMSE.append(np.mean(c_v['test_rmse']))\n",
    "knn_size_effect=[Knn_time,Knn_train_MAE,Knn_test_MAE,Knn_train_RMSE,Knn_test_RMSE]  \n"
   ]
  },
  {
   "cell_type": "code",
   "execution_count": 35,
   "metadata": {
    "scrolled": true
   },
   "outputs": [
    {
     "data": {
      "text/plain": [
       "<matplotlib.axes._subplots.AxesSubplot at 0x10d45d438>"
      ]
     },
     "execution_count": 35,
     "metadata": {},
     "output_type": "execute_result"
    },
    {
     "data": {
      "image/png": "[encoded data removed]",
      "text/plain": [
       "<Figure size 432x288 with 1 Axes>"
      ]
     },
     "metadata": {},
     "output_type": "display_data"
    }
   ],
   "source": [
    "Knn_newsize_metrics = pd.DataFrame(np.column_stack([Knn_test_MAE, Knn_train_MAE,Knn_test_RMSE, Knn_train_RMSE]),\n",
    "                   columns=['Knn_test_MAE', 'Knn_train_MAE','Knn_test_RMSE', 'Knn_train_RMSE'])\n",
    "Knn_newsize_metrics.index = new_size\n",
    "plt.title(\"the evaluation metrics change when changing model size\")\n",
    "plt.xlabel(\"model size\")\n",
    "plt.ylabel(\"evaluation metrics\")\n",
    "sns.lineplot(data = Knn_newsize_metrics, palette=\"tab10\")"
   ]
  },
  {
   "cell_type": "markdown",
   "metadata": {},
   "source": [
    "As the plot showing, the larger the sample size, the less MAE and RMSE.  But the MAE and RMSE of train set becomes larger as sample size increasing. \n",
    "\n",
    "The model overfits the train data when sample size is small. "
   ]
  },
  {
   "cell_type": "markdown",
   "metadata": {},
   "source": [
    "### How does sample size impact the run-time of KNN?"
   ]
  },
  {
   "cell_type": "code",
   "execution_count": 1,
   "metadata": {},
   "outputs": [
    {
     "ename": "NameError",
     "evalue": "name 'pd' is not defined",
     "output_type": "error",
     "traceback": [
      "\u001b[0;31m---------------------------------------------------------------------------\u001b[0m",
      "\u001b[0;31mNameError\u001b[0m                                 Traceback (most recent call last)",
      "\u001b[0;32m<ipython-input-1-71ceebc7d4ce>\u001b[0m in \u001b[0;36m<module>\u001b[0;34m()\u001b[0m\n\u001b[0;32m----> 1\u001b[0;31m \u001b[0mKnn_newsize_time\u001b[0m \u001b[0;34m=\u001b[0m \u001b[0mpd\u001b[0m\u001b[0;34m.\u001b[0m\u001b[0mDataFrame\u001b[0m\u001b[0;34m(\u001b[0m\u001b[0mKnn_time\u001b[0m\u001b[0;34m,\u001b[0m\u001b[0mcolumns\u001b[0m\u001b[0;34m=\u001b[0m\u001b[0;34m[\u001b[0m\u001b[0;34m'Knn_time'\u001b[0m\u001b[0;34m]\u001b[0m\u001b[0;34m)\u001b[0m\u001b[0;34m\u001b[0m\u001b[0m\n\u001b[0m\u001b[1;32m      2\u001b[0m \u001b[0mKnn_newsize_time\u001b[0m\u001b[0;34m.\u001b[0m\u001b[0mindex\u001b[0m \u001b[0;34m=\u001b[0m \u001b[0mnew_size\u001b[0m\u001b[0;34m\u001b[0m\u001b[0m\n\u001b[1;32m      3\u001b[0m \u001b[0mplt\u001b[0m\u001b[0;34m.\u001b[0m\u001b[0mtitle\u001b[0m\u001b[0;34m(\u001b[0m\u001b[0;34m\"the run-time change when changing model size\"\u001b[0m\u001b[0;34m)\u001b[0m\u001b[0;34m\u001b[0m\u001b[0m\n\u001b[1;32m      4\u001b[0m \u001b[0mplt\u001b[0m\u001b[0;34m.\u001b[0m\u001b[0mxlabel\u001b[0m\u001b[0;34m(\u001b[0m\u001b[0;34m\"model size\"\u001b[0m\u001b[0;34m)\u001b[0m\u001b[0;34m\u001b[0m\u001b[0m\n\u001b[1;32m      5\u001b[0m \u001b[0mplt\u001b[0m\u001b[0;34m.\u001b[0m\u001b[0mylabel\u001b[0m\u001b[0;34m(\u001b[0m\u001b[0;34m\"run-time\"\u001b[0m\u001b[0;34m)\u001b[0m\u001b[0;34m\u001b[0m\u001b[0m\n",
      "\u001b[0;31mNameError\u001b[0m: name 'pd' is not defined"
     ]
    }
   ],
   "source": [
    "Knn_newsize_time = pd.DataFrame(Knn_time,columns=['Knn_time'])\n",
    "Knn_newsize_time.index = new_size\n",
    "plt.title(\"the run-time change when changing model size\")\n",
    "plt.xlabel(\"model size\")\n",
    "plt.ylabel(\"run-time\")\n",
    "sns.lineplot(data = Knn_newsize_time, palette=\"tab10\")"
   ]
  },
  {
   "cell_type": "markdown",
   "metadata": {},
   "source": [
    "## Conclusions on KNN:\n",
    "\n",
    "* KNN is easy to implement and produce reasonable prediction quality. However, there are some drawback of this approach:\n",
    "\n",
    "     * cold-start problem\n",
    "     * It can't deal with sparse data, meaning it's hard to find users that have rated the same items.\n",
    "     * It tends to recommend popular items.\n",
    "\n",
    "\n"
   ]
  },
  {
   "cell_type": "markdown",
   "metadata": {},
   "source": [
    "## Coverage on training and test data\n"
   ]
  },
  {
   "cell_type": "markdown",
   "metadata": {},
   "source": [
    "We have 610 users, 193609 items and 100836 ratings.\n"
   ]
  },
  {
   "cell_type": "markdown",
   "metadata": {},
   "source": [
    "# Model-Based Collaborative Filtering\n",
    "## NMF(Self-Implementation)"
   ]
  },
  {
   "cell_type": "code",
   "execution_count": 8,
   "metadata": {},
   "outputs": [],
   "source": [
    "def update_matrix_fast(U,V,X_list,gamma_U_params):\n",
    "    #lambda_u -> u_{i,:} -> x_ij <- (v^*)_{j,:} <- lambda_v\n",
    "    #Multiplicative method \n",
    "    A,B = gamma_U_params['a'],gamma_U_params['b']\n",
    "    m,d = U.shape\n",
    "    _,n = V.shape\n",
    "    n_obs = X_list.shape[0]\n",
    "    UV_sp = np.zeros(n_obs)\n",
    "    ind_i = X_list[:,0].astype('int')\n",
    "    ind_j = X_list[:,1].astype('int')\n",
    "    UV_sp = np.sum(U[ind_i,:]*(V[:,ind_j].T),axis=1)\n",
    "    X_UV = spsp.csc_matrix((X_list[:,-1]/UV_sp,(ind_i,ind_j)),shape = (m,n))#gradient\n",
    "    M = spsp.csc_matrix((np.ones(n_obs),(ind_i,ind_j)),shape = (m,n))\n",
    "    part1 = (A+np.multiply(U,(X_UV@(V.T))))\n",
    "    part2 = (A/B+M@(V.T))\n",
    "    U_new = part1/part2\n",
    "    return(U_new)\n",
    "\n",
    "def list_to_mat(data,dims):\n",
    "    #parse data into matrix\n",
    "    m,n = dims\n",
    "    n_obs = len(data[:,0])\n",
    "    out1 = np.zeros((m,n))\n",
    "    out2 = np.zeros((m,n))\n",
    "    for ind in range(n_obs):\n",
    "        i,j = data[ind,:2]\n",
    "        i = int(i)\n",
    "        j = int(j)\n",
    "        out1[i,j] = data[ind,-1]\n",
    "        out2[i,j] = 1   \n",
    "    return(out1,out2)\n",
    "\n",
    "def rand_col_init(X,d):\n",
    "    #random column initialization as given in Langville 2014\n",
    "    m,n = X.shape\n",
    "    shuffled_n = list(range(n))\n",
    "    np.random.shuffle(shuffled_n)\n",
    "    U = np.zeros((m,d))\n",
    "    set_size = int(m/d)\n",
    "    for i in range(d):#shuffle col for U as sum of random cols(of size m/d) in X. This will compress n into d col randomly\n",
    "        try:\n",
    "            U[:,i] = np.sum(X[:,shuffled_n[int(i*set_size):int((i+1)*set_size)]],axis = 1)\n",
    "        except IndexError:\n",
    "            U[:,i] = np.sum(X[:,shuffled_n[int(i*set_size):]],axis = 1)\n",
    "    \n",
    "    for i in range(d):#check if the whole col has 0. replace it of random variable from uniform dist.\n",
    "        bool_slice = U[:,i] == 0\n",
    "        n_neq0 = sum(bool_slice)\n",
    "        U[bool_slice,i] = spst.uniform.rvs(0,5,size = n_neq0)    \n",
    "    return(U)"
   ]
  },
  {
   "cell_type": "code",
   "execution_count": 9,
   "metadata": {},
   "outputs": [],
   "source": [
    "def Poisson_pmf(data,dims,factors,U_params={'a':1,'b':1}, V_params={'a':1,'b':1}, T=100):\n",
    "    m,n = dims\n",
    "    d = factors\n",
    "    n_obs = len(data[:,0])    \n",
    "    data_T = data[:,[1,0,2]]    \n",
    "    mat_data, mat_mask = list_to_mat(data,dims)\n",
    "    U_0=rand_col_init(mat_data,d)\n",
    "    V_0=rand_col_init(mat_data.T,d).T\n",
    "    U = U_0\n",
    "    V = V_0\n",
    "    for t in range(T):        \n",
    "        U = update_matrix_fast(U,V,data,U_params)\n",
    "        V = update_matrix_fast(V.T,U.T,data_T,V_params).T        \n",
    "    return(U,V)"
   ]
  },
  {
   "cell_type": "code",
   "execution_count": 10,
   "metadata": {},
   "outputs": [],
   "source": [
    "def predict(test_set,U,V):\n",
    "    i_obs = test_set[:,0].astype('int')\n",
    "    j_obs = test_set[:,1].astype('int')\n",
    "    UV_obs = np.sum(U[i_obs,:]*V[:,j_obs].T,axis=1)\n",
    "    diff = (test_set[:,-1]-UV_obs)\n",
    "    return(np.mean(np.abs(diff)),(np.mean(diff**2))**0.5)\n",
    "\n",
    "def nmf_cv(n_splits=5,factors=15,size=origin_size):\n",
    "    df=pd.read_csv('./ml-latest-small/ratings.csv')\n",
    "    df=df.iloc[:size]\n",
    "    ratings = df.values\n",
    "    m,n = int(ratings[:,0].max()+1),int(ratings[:,1].max()+1)\n",
    "    kf = KFold(n_splits = n_splits, shuffle = True, random_state = 1)\n",
    "    nmf_train_mae=[]\n",
    "    nmf_train_mrse=[]\n",
    "    nmf_test_mae=[]\n",
    "    nmf_test_mrse=[]\n",
    "    nmf_time=[]\n",
    "    for  tr,ts in kf.split(df):\n",
    "        start = tm.time()\n",
    "        train=df.iloc[tr].values\n",
    "        test=df.iloc[ts].values\n",
    "        train[:,:2] -= 1\n",
    "        train = train[:,:-1]\n",
    "        test[:,:2] -= 1\n",
    "        test = test[:,:-1]\n",
    "        U,V=Poisson_pmf(train,(m,n),factors,T=100)\n",
    "        ts_mae,ts_mrse=predict(test,U,V)\n",
    "        tr_mae,tr_mrse=predict(train,U,V)\n",
    "        end = tm.time()\n",
    "        nmf_train_mae.append(tr_mae)\n",
    "        nmf_train_mrse.append(tr_mrse)\n",
    "        nmf_test_mae.append(ts_mae)\n",
    "        nmf_test_mrse.append(ts_mrse)\n",
    "        nmf_time.append(end-start)\n",
    "    return [np.mean(nmf_train_mae),np.mean(nmf_train_mrse),\n",
    "            np.mean(nmf_test_mae),np.mean(nmf_test_mrse),\n",
    "            np.mean(nmf_time)]"
   ]
  },
  {
   "cell_type": "code",
   "execution_count": 11,
   "metadata": {},
   "outputs": [],
   "source": [
    "latent_dimensions=np.arange(2,20,5)\n",
    "nmf_result=[]\n",
    "for d in latent_dimensions:\n",
    "    nmf_result.append(nmf_cv(factors=d))"
   ]
  },
  {
   "cell_type": "code",
   "execution_count": 12,
   "metadata": {
    "scrolled": true
   },
   "outputs": [
    {
     "data": {
      "text/plain": [
       "[[0.5889375409692416,\n",
       "  0.7723765017214592,\n",
       "  0.6742074474795985,\n",
       "  0.88023950643188,\n",
       "  4.036520719528198],\n",
       " [0.5409264984771827,\n",
       "  0.7061217098435877,\n",
       "  0.6735395677908395,\n",
       "  0.8822570375542412,\n",
       "  7.216719388961792],\n",
       " [0.5552511439577368,\n",
       "  0.7299650872423525,\n",
       "  0.6702769440652661,\n",
       "  0.8803789889562538,\n",
       "  10.391195964813232],\n",
       " [0.5938639065012299,\n",
       "  0.7826008433495002,\n",
       "  0.6809962875303553,\n",
       "  0.8968260760772571,\n",
       "  13.51186203956604]]"
      ]
     },
     "execution_count": 12,
     "metadata": {},
     "output_type": "execute_result"
    }
   ],
   "source": [
    "nmf_result"
   ]
  },
  {
   "cell_type": "code",
   "execution_count": null,
   "metadata": {},
   "outputs": [],
   "source": [
    "nmf_size_result=[]\n",
    "for n in new_size:\n",
    "    nmf_size_result.append(nmf_cv(factors=7,size=n))\n",
    "    print(nmf_size_result)"
   ]
  },
  {
   "cell_type": "markdown",
   "metadata": {},
   "source": [
    "## Evaluate NMF (Self-Implementation)"
   ]
  },
  {
   "cell_type": "code",
   "execution_count": 15,
   "metadata": {},
   "outputs": [],
   "source": [
    "nmf_train_mae=[]\n",
    "nmf_train_rmse=[]\n",
    "nmf_test_mae=[]\n",
    "nmf_test_rmse=[]\n",
    "nmf_time=[]\n",
    "for i in range(0,len(nmf_result)):\n",
    "    nmf_train_mae.append(nmf_result[i][0])\n",
    "    nmf_train_rmse.append(nmf_result[i][1])\n",
    "    nmf_test_mae.append(nmf_result[i][2])\n",
    "    nmf_test_rmse.append(nmf_result[i][3])\n",
    "    nmf_time.append(nmf_result[i][4])"
   ]
  },
  {
   "cell_type": "markdown",
   "metadata": {},
   "source": [
    "### Fitting time vs. latent dimensions"
   ]
  },
  {
   "cell_type": "code",
   "execution_count": 22,
   "metadata": {},
   "outputs": [
    {
     "data": {
      "text/plain": [
       "<matplotlib.axes._subplots.AxesSubplot at 0x1a11df0a58>"
      ]
     },
     "execution_count": 22,
     "metadata": {},
     "output_type": "execute_result"
    },
    {
     "data": {
      "image/png": "[encoded data removed]",
      "text/plain": [
       "<Figure size 432x288 with 1 Axes>"
      ]
     },
     "metadata": {},
     "output_type": "display_data"
    }
   ],
   "source": [
    "plt.title(\"change of run-time of NMF over latent dimensions\")\n",
    "plt.xlabel(\"latent_dimensions\")\n",
    "plt.ylabel(\"time\")\n",
    "sns.lineplot(latent_dimensions, nmf_time, palette=\"tab10\")"
   ]
  },
  {
   "cell_type": "markdown",
   "metadata": {},
   "source": [
    "The higher the latent dimensions, the slower the fitting time of the model since the model gets more complex."
   ]
  },
  {
   "cell_type": "markdown",
   "metadata": {},
   "source": [
    "### Mean_Absolute _Error (MAE) & Root Mean Squared Error (RMSE)\n",
    "#### Primary accuracy metric : MAE"
   ]
  },
  {
   "cell_type": "code",
   "execution_count": 24,
   "metadata": {},
   "outputs": [
    {
     "data": {
      "text/plain": [
       "<matplotlib.axes._subplots.AxesSubplot at 0x1a1ee3eb70>"
      ]
     },
     "execution_count": 24,
     "metadata": {},
     "output_type": "execute_result"
    },
    {
     "data": {
      "image/png": "[encoded data removed]",
      "text/plain": [
       "<Figure size 432x288 with 1 Axes>"
      ]
     },
     "metadata": {},
     "output_type": "display_data"
    }
   ],
   "source": [
    "NMF_MAE = pd.DataFrame(np.column_stack([nmf_test_mae, nmf_train_mae]),columns=['NMF_test_MAE', 'NMF_train_MAE'])\n",
    "NMF_MAE.index = latent_dimensions\n",
    "plt.title(\"change of MAE of NMF over latent dimensions\")\n",
    "plt.xlabel(\"latent dimensions\")\n",
    "plt.ylabel(\"MAE\")\n",
    "sns.lineplot(data = NMF_MAE, palette=\"tab10\")"
   ]
  },
  {
   "cell_type": "markdown",
   "metadata": {},
   "source": [
    "MAE first decreases as latent dimensions increase. Then MAE increases with the increment of latent dimensions. \n",
    "\n",
    "The lowest MAE occurs at latent dimension = 12"
   ]
  },
  {
   "cell_type": "markdown",
   "metadata": {},
   "source": [
    "#### Secondary accuracy metric: RMSE"
   ]
  },
  {
   "cell_type": "code",
   "execution_count": 25,
   "metadata": {},
   "outputs": [
    {
     "data": {
      "text/plain": [
       "<matplotlib.axes._subplots.AxesSubplot at 0x1a1ee97518>"
      ]
     },
     "execution_count": 25,
     "metadata": {},
     "output_type": "execute_result"
    },
    {
     "data": {
      "image/png": "[encoded data removed]",
      "text/plain": [
       "<Figure size 432x288 with 1 Axes>"
      ]
     },
     "metadata": {},
     "output_type": "display_data"
    }
   ],
   "source": [
    "NMF_RMSE = pd.DataFrame(np.column_stack([nmf_test_rmse, nmf_train_rmse]),columns=['NMF_test_RMSE', 'NMF_train_RMSE'])\n",
    "NMF_RMSE.index = latent_dimensions\n",
    "plt.title(\"the change of RMSE of NMF over latent dimensions\")\n",
    "plt.xlabel(\"latent dimensions\")\n",
    "plt.ylabel(\"RMSE\")\n",
    "sns.lineplot(data = NMF_RMSE, palette=\"tab10\")"
   ]
  },
  {
   "cell_type": "markdown",
   "metadata": {},
   "source": [
    "The trend of RMSE by latent dimensions is similar with MAE. But the RMSE are lower at both latent dimension =2 and =12 than other values of latent dimension. "
   ]
  },
  {
   "cell_type": "markdown",
   "metadata": {},
   "source": [
    "# SVD by surprise"
   ]
  },
  {
   "cell_type": "markdown",
   "metadata": {},
   "source": [
    "For this model, the learning rate is assigned values ranging from 0.001 to 0.01 increment by 0.002. The regularization is assigned from (0.01, 0.1) increment by 0.02. The number of epoch is from 10 to 100 increment by 20."
   ]
  },
  {
   "cell_type": "code",
   "execution_count": 16,
   "metadata": {},
   "outputs": [
    {
     "name": "stdout",
     "output_type": "stream",
     "text": [
      "Evaluating RMSE, MAE of algorithm SVD on 10 split(s).\n",
      "\n",
      "                  Fold 1  Fold 2  Fold 3  Fold 4  Fold 5  Fold 6  Fold 7  Fold 8  Fold 9  Fold 10 Mean    Std     \n",
      "RMSE (testset)    0.8714  0.8884  0.8802  0.8749  0.8876  0.8813  0.8700  0.8820  0.8829  0.8725  0.8791  0.0063  \n",
      "MAE (testset)     0.6707  0.6834  0.6781  0.6740  0.6856  0.6802  0.6697  0.6780  0.6762  0.6728  0.6769  0.0050  \n",
      "RMSE (trainset)   0.7628  0.7595  0.7609  0.7628  0.7613  0.7602  0.7619  0.7611  0.7609  0.7615  0.7613  0.0010  \n",
      "MAE (trainset)    0.5889  0.5863  0.5875  0.5890  0.5874  0.5867  0.5884  0.5877  0.5877  0.5880  0.5877  0.0008  \n",
      "Fit time          13.51   13.59   13.62   13.45   13.32   13.09   13.00   13.37   12.96   13.04   13.29   0.24    \n",
      "Test time         0.06    0.06    0.06    0.06    0.06    0.06    0.05    0.05    0.05    0.05    0.06    0.00    \n",
      "Evaluating RMSE, MAE of algorithm SVD on 10 split(s).\n",
      "\n",
      "                  Fold 1  Fold 2  Fold 3  Fold 4  Fold 5  Fold 6  Fold 7  Fold 8  Fold 9  Fold 10 Mean    Std     \n",
      "RMSE (testset)    0.8776  0.8740  0.8684  0.8790  0.8743  0.8738  0.8796  0.8793  0.8742  0.8847  0.8765  0.0043  \n",
      "MAE (testset)     0.6774  0.6760  0.6670  0.6801  0.6740  0.6724  0.6744  0.6780  0.6714  0.6820  0.6753  0.0042  \n",
      "RMSE (trainset)   0.7841  0.7841  0.7850  0.7842  0.7855  0.7845  0.7834  0.7839  0.7829  0.7847  0.7842  0.0007  \n",
      "MAE (trainset)    0.6053  0.6056  0.6063  0.6054  0.6065  0.6063  0.6056  0.6057  0.6050  0.6058  0.6057  0.0005  \n",
      "Fit time          13.42   13.36   13.13   13.26   13.02   15.21   13.97   14.08   13.23   13.99   13.67   0.63    \n",
      "Test time         0.06    0.05    0.05    0.05    0.06    0.07    0.06    0.12    0.06    0.05    0.06    0.02    \n",
      "Evaluating RMSE, MAE of algorithm SVD on 10 split(s).\n",
      "\n",
      "                  Fold 1  Fold 2  Fold 3  Fold 4  Fold 5  Fold 6  Fold 7  Fold 8  Fold 9  Fold 10 Mean    Std     \n",
      "RMSE (testset)    0.8695  0.8774  0.8645  0.8838  0.8748  0.8872  0.8741  0.8763  0.8762  0.8773  0.8761  0.0061  \n",
      "MAE (testset)     0.6713  0.6750  0.6687  0.6792  0.6763  0.6794  0.6740  0.6755  0.6759  0.6746  0.6750  0.0031  \n",
      "RMSE (trainset)   0.7995  0.7990  0.8010  0.7992  0.7999  0.7990  0.7990  0.7988  0.7997  0.7982  0.7993  0.0007  \n",
      "MAE (trainset)    0.6176  0.6170  0.6185  0.6176  0.6178  0.6177  0.6173  0.6169  0.6177  0.6167  0.6175  0.0005  \n",
      "Fit time          13.21   13.88   13.21   14.04   13.86   13.58   13.22   14.43   13.31   13.17   13.59   0.42    \n",
      "Test time         0.07    0.05    0.06    0.06    0.06    0.06    0.06    0.06    0.07    0.05    0.06    0.01    \n",
      "Evaluating RMSE, MAE of algorithm SVD on 10 split(s).\n",
      "\n",
      "                  Fold 1  Fold 2  Fold 3  Fold 4  Fold 5  Fold 6  Fold 7  Fold 8  Fold 9  Fold 10 Mean    Std     \n",
      "RMSE (testset)    0.8719  0.8617  0.8866  0.8676  0.8799  0.8833  0.8718  0.8732  0.8813  0.8851  0.8762  0.0078  \n",
      "MAE (testset)     0.6745  0.6637  0.6843  0.6679  0.6782  0.6805  0.6715  0.6710  0.6756  0.6825  0.6750  0.0062  \n",
      "RMSE (trainset)   0.8095  0.8112  0.8089  0.8102  0.8088  0.8085  0.8101  0.8093  0.8087  0.8079  0.8093  0.0009  \n",
      "MAE (trainset)    0.6253  0.6270  0.6250  0.6261  0.6248  0.6245  0.6259  0.6252  0.6247  0.6240  0.6253  0.0008  \n",
      "Fit time          12.96   13.63   13.97   13.28   13.40   13.96   13.45   13.15   13.15   13.88   13.48   0.35    \n",
      "Test time         0.06    0.06    0.06    0.06    0.05    0.05    0.05    0.06    0.05    0.06    0.06    0.00    \n",
      "Evaluating RMSE, MAE of algorithm SVD on 10 split(s).\n",
      "\n",
      "                  Fold 1  Fold 2  Fold 3  Fold 4  Fold 5  Fold 6  Fold 7  Fold 8  Fold 9  Fold 10 Mean    Std     \n",
      "RMSE (testset)    0.8670  0.8690  0.8815  0.8874  0.8731  0.8796  0.8751  0.8812  0.8828  0.8688  0.8766  0.0066  \n",
      "MAE (testset)     0.6706  0.6683  0.6786  0.6827  0.6748  0.6739  0.6738  0.6798  0.6792  0.6732  0.6755  0.0043  \n",
      "RMSE (trainset)   0.8176  0.8177  0.8161  0.8156  0.8171  0.8154  0.8171  0.8164  0.8156  0.8174  0.8166  0.0009  \n",
      "MAE (trainset)    0.6319  0.6319  0.6305  0.6300  0.6311  0.6303  0.6313  0.6302  0.6301  0.6311  0.6308  0.0007  \n",
      "Fit time          13.90   12.63   12.59   13.03   12.52   12.51   12.54   12.68   12.82   12.82   12.80   0.40    \n",
      "Test time         0.06    0.05    0.05    0.05    0.05    0.05    0.05    0.11    0.05    0.05    0.06    0.02    \n",
      "Evaluating RMSE, MAE of algorithm SVD on 10 split(s).\n",
      "\n",
      "                  Fold 1  Fold 2  Fold 3  Fold 4  Fold 5  Fold 6  Fold 7  Fold 8  Fold 9  Fold 10 Mean    Std     \n",
      "RMSE (testset)    0.8841  0.8837  0.8862  0.8932  0.8954  0.8875  0.8964  0.8739  0.8728  0.8784  0.8852  0.0079  \n",
      "MAE (testset)     0.6758  0.6845  0.6797  0.6822  0.6854  0.6833  0.6891  0.6757  0.6704  0.6759  0.6802  0.0054  \n",
      "RMSE (trainset)   0.4257  0.4262  0.4235  0.4237  0.4259  0.4260  0.4263  0.4271  0.4262  0.4256  0.4256  0.0011  \n",
      "MAE (trainset)    0.3275  0.3277  0.3257  0.3259  0.3276  0.3281  0.3280  0.3288  0.3278  0.3272  0.3274  0.0009  \n",
      "Fit time          12.34   12.62   12.79   12.45   12.57   12.43   12.65   12.50   12.49   12.66   12.55   0.13    \n",
      "Test time         0.05    0.05    0.05    0.05    0.05    0.05    0.05    0.05    0.05    0.05    0.05    0.00    \n",
      "Evaluating RMSE, MAE of algorithm SVD on 10 split(s).\n",
      "\n",
      "                  Fold 1  Fold 2  Fold 3  Fold 4  Fold 5  Fold 6  Fold 7  Fold 8  Fold 9  Fold 10 Mean    Std     \n",
      "RMSE (testset)    0.8492  0.8553  0.8653  0.8738  0.8436  0.8625  0.8515  0.8679  0.8661  0.8621  0.8597  0.0090  \n",
      "MAE (testset)     0.6517  0.6546  0.6594  0.6704  0.6481  0.6595  0.6522  0.6628  0.6658  0.6624  0.6587  0.0066  \n",
      "RMSE (trainset)   0.5446  0.5443  0.5445  0.5462  0.5419  0.5442  0.5445  0.5459  0.5446  0.5458  0.5447  0.0012  \n",
      "MAE (trainset)    0.4247  0.4247  0.4254  0.4263  0.4233  0.4246  0.4253  0.4264  0.4247  0.4258  0.4251  0.0009  \n",
      "Fit time          12.68   12.90   12.58   12.81   12.70   12.85   12.86   12.49   12.60   12.79   12.73   0.13    \n",
      "Test time         0.05    0.05    0.05    0.05    0.05    0.05    0.05    0.05    0.05    0.05    0.05    0.00    \n",
      "Evaluating RMSE, MAE of algorithm SVD on 10 split(s).\n",
      "\n",
      "                  Fold 1  Fold 2  Fold 3  Fold 4  Fold 5  Fold 6  Fold 7  Fold 8  Fold 9  Fold 10 Mean    Std     \n",
      "RMSE (testset)    0.8713  0.8591  0.8519  0.8543  0.8470  0.8608  0.8491  0.8665  0.8639  0.8431  0.8567  0.0087  \n",
      "MAE (testset)     0.6678  0.6582  0.6581  0.6542  0.6533  0.6571  0.6530  0.6580  0.6621  0.6508  0.6573  0.0047  \n",
      "RMSE (trainset)   0.6332  0.6335  0.6340  0.6321  0.6311  0.6321  0.6310  0.6326  0.6301  0.6327  0.6323  0.0011  \n",
      "MAE (trainset)    0.4940  0.4940  0.4940  0.4932  0.4923  0.4930  0.4922  0.4940  0.4912  0.4933  0.4931  0.0009  \n",
      "Fit time          12.51   12.56   12.51   12.75   12.79   12.75   12.73   12.71   12.72   12.70   12.67   0.10    \n",
      "Test time         0.05    0.05    0.05    0.05    0.05    0.05    0.05    0.11    0.05    0.05    0.06    0.02    \n",
      "Evaluating RMSE, MAE of algorithm SVD on 10 split(s).\n",
      "\n",
      "                  Fold 1  Fold 2  Fold 3  Fold 4  Fold 5  Fold 6  Fold 7  Fold 8  Fold 9  Fold 10 Mean    Std     \n",
      "RMSE (testset)    0.8666  0.8645  0.8583  0.8634  0.8645  0.8546  0.8456  0.8588  0.8612  0.8486  0.8586  0.0067  \n",
      "MAE (testset)     0.6648  0.6611  0.6594  0.6616  0.6658  0.6575  0.6467  0.6602  0.6614  0.6513  0.6590  0.0056  \n",
      "RMSE (trainset)   0.6946  0.6932  0.6953  0.6938  0.6948  0.6961  0.6946  0.6931  0.6946  0.6941  0.6944  0.0009  \n",
      "MAE (trainset)    0.5406  0.5395  0.5406  0.5399  0.5404  0.5415  0.5407  0.5395  0.5404  0.5402  0.5403  0.0006  \n",
      "Fit time          12.54   12.48   12.55   12.95   12.74   12.49   12.64   12.76   12.76   13.13   12.70   0.20    \n",
      "Test time         0.06    0.05    0.05    0.05    0.05    0.05    0.05    0.05    0.05    0.05    0.05    0.00    \n",
      "Evaluating RMSE, MAE of algorithm SVD on 10 split(s).\n",
      "\n",
      "                  Fold 1  Fold 2  Fold 3  Fold 4  Fold 5  Fold 6  Fold 7  Fold 8  Fold 9  Fold 10 Mean    Std     \n",
      "RMSE (testset)    0.8463  0.8486  0.8783  0.8611  0.8675  0.8528  0.8505  0.8720  0.8607  0.8680  0.8606  0.0103  \n",
      "MAE (testset)     0.6518  0.6542  0.6725  0.6594  0.6683  0.6584  0.6530  0.6667  0.6600  0.6664  0.6611  0.0067  \n",
      "RMSE (trainset)   0.7376  0.7354  0.7340  0.7352  0.7357  0.7367  0.7364  0.7346  0.7365  0.7358  0.7358  0.0010  \n",
      "MAE (trainset)    0.5721  0.5702  0.5695  0.5705  0.5705  0.5717  0.5713  0.5701  0.5711  0.5708  0.5708  0.0007  \n",
      "Fit time          12.48   12.72   12.85   13.45   14.34   13.88   13.68   13.10   13.17   13.31   13.30   0.53    \n",
      "Test time         0.05    0.05    0.05    0.09    0.07    0.06    0.06    0.06    0.05    0.05    0.06    0.01    \n"
     ]
    },
    {
     "name": "stdout",
     "output_type": "stream",
     "text": [
      "Evaluating RMSE, MAE of algorithm SVD on 10 split(s).\n",
      "\n",
      "                  Fold 1  Fold 2  Fold 3  Fold 4  Fold 5  Fold 6  Fold 7  Fold 8  Fold 9  Fold 10 Mean    Std     \n",
      "RMSE (testset)    0.8980  0.8862  0.9040  0.8846  0.9092  0.8831  0.9011  0.9038  0.9113  0.8971  0.8978  0.0096  \n",
      "MAE (testset)     0.6889  0.6828  0.6938  0.6821  0.6964  0.6768  0.6922  0.6914  0.6984  0.6923  0.6895  0.0065  \n",
      "RMSE (trainset)   0.2558  0.2551  0.2561  0.2592  0.2560  0.2575  0.2581  0.2563  0.2582  0.2563  0.2569  0.0012  \n",
      "MAE (trainset)    0.1943  0.1942  0.1944  0.1969  0.1947  0.1957  0.1960  0.1947  0.1961  0.1949  0.1952  0.0009  \n",
      "Fit time          14.14   13.92   12.94   13.64   14.68   13.57   13.12   13.14   13.19   14.04   13.64   0.53    \n",
      "Test time         0.09    0.05    0.05    0.05    0.05    0.06    0.05    0.11    0.06    0.07    0.06    0.02    \n",
      "Evaluating RMSE, MAE of algorithm SVD on 10 split(s).\n",
      "\n",
      "                  Fold 1  Fold 2  Fold 3  Fold 4  Fold 5  Fold 6  Fold 7  Fold 8  Fold 9  Fold 10 Mean    Std     \n",
      "RMSE (testset)    0.8674  0.8608  0.8681  0.8742  0.8728  0.8635  0.8502  0.8678  0.8541  0.8668  0.8646  0.0073  \n",
      "MAE (testset)     0.6626  0.6582  0.6637  0.6667  0.6682  0.6567  0.6533  0.6672  0.6538  0.6685  0.6619  0.0056  \n",
      "RMSE (trainset)   0.3831  0.3816  0.3828  0.3826  0.3824  0.3826  0.3840  0.3816  0.3833  0.3829  0.3827  0.0007  \n",
      "MAE (trainset)    0.2989  0.2984  0.2987  0.2989  0.2984  0.2988  0.3000  0.2982  0.2993  0.2993  0.2989  0.0005  \n",
      "Fit time          13.27   13.68   12.89   14.00   14.24   14.45   13.59   13.69   13.77   14.35   13.79   0.46    \n",
      "Test time         0.06    0.05    0.08    0.05    0.06    0.07    0.06    0.08    0.05    0.08    0.06    0.01    \n",
      "Evaluating RMSE, MAE of algorithm SVD on 10 split(s).\n",
      "\n",
      "                  Fold 1  Fold 2  Fold 3  Fold 4  Fold 5  Fold 6  Fold 7  Fold 8  Fold 9  Fold 10 Mean    Std     \n",
      "RMSE (testset)    0.8458  0.8376  0.8564  0.8532  0.8556  0.8617  0.8409  0.8468  0.8526  0.8536  0.8504  0.0071  \n",
      "MAE (testset)     0.6480  0.6433  0.6562  0.6520  0.6542  0.6573  0.6453  0.6449  0.6564  0.6554  0.6513  0.0051  \n",
      "RMSE (trainset)   0.4933  0.4939  0.4939  0.4931  0.4918  0.4941  0.4931  0.4946  0.4944  0.4930  0.4935  0.0008  \n",
      "MAE (trainset)    0.3866  0.3864  0.3865  0.3858  0.3851  0.3871  0.3861  0.3869  0.3867  0.3858  0.3863  0.0006  \n",
      "Fit time          13.32   13.28   13.12   13.29   13.58   14.09   13.82   13.77   13.29   13.19   13.48   0.31    \n",
      "Test time         0.05    0.06    0.05    0.06    0.06    0.06    0.06    0.05    0.05    0.05    0.06    0.00    \n",
      "Evaluating RMSE, MAE of algorithm SVD on 10 split(s).\n",
      "\n",
      "                  Fold 1  Fold 2  Fold 3  Fold 4  Fold 5  Fold 6  Fold 7  Fold 8  Fold 9  Fold 10 Mean    Std     \n",
      "RMSE (testset)    0.8299  0.8570  0.8505  0.8399  0.8543  0.8435  0.8557  0.8610  0.8445  0.8502  0.8487  0.0088  \n",
      "MAE (testset)     0.6391  0.6513  0.6525  0.6449  0.6574  0.6473  0.6550  0.6575  0.6465  0.6513  0.6503  0.0056  \n",
      "RMSE (trainset)   0.5828  0.5821  0.5823  0.5837  0.5844  0.5821  0.5821  0.5841  0.5835  0.5825  0.5830  0.0008  \n",
      "MAE (trainset)    0.4555  0.4555  0.4549  0.4563  0.4567  0.4552  0.4549  0.4565  0.4562  0.4554  0.4557  0.0006  \n",
      "Fit time          13.29   13.50   13.61   13.01   13.33   13.88   13.06   13.14   13.32   13.09   13.32   0.26    \n",
      "Test time         0.05    0.05    0.05    0.07    0.06    0.05    0.05    0.11    0.05    0.05    0.06    0.02    \n",
      "Evaluating RMSE, MAE of algorithm SVD on 10 split(s).\n",
      "\n",
      "                  Fold 1  Fold 2  Fold 3  Fold 4  Fold 5  Fold 6  Fold 7  Fold 8  Fold 9  Fold 10 Mean    Std     \n",
      "RMSE (testset)    0.8460  0.8387  0.8524  0.8518  0.8468  0.8449  0.8576  0.8600  0.8600  0.8507  0.8509  0.0066  \n",
      "MAE (testset)     0.6505  0.6423  0.6554  0.6497  0.6530  0.6467  0.6594  0.6604  0.6556  0.6534  0.6526  0.0053  \n",
      "RMSE (trainset)   0.6535  0.6542  0.6522  0.6519  0.6542  0.6541  0.6540  0.6544  0.6534  0.6549  0.6537  0.0009  \n",
      "MAE (trainset)    0.5097  0.5106  0.5089  0.5090  0.5102  0.5105  0.5102  0.5105  0.5098  0.5107  0.5100  0.0006  \n",
      "Fit time          13.18   13.09   13.57   13.18   13.76   13.30   13.45   13.70   13.09   13.00   13.33   0.26    \n",
      "Test time         0.07    0.05    0.06    0.05    0.05    0.05    0.05    0.05    0.06    0.05    0.05    0.01    \n",
      "Evaluating RMSE, MAE of algorithm SVD on 10 split(s).\n",
      "\n",
      "                  Fold 1  Fold 2  Fold 3  Fold 4  Fold 5  Fold 6  Fold 7  Fold 8  Fold 9  Fold 10 Mean    Std     \n",
      "RMSE (testset)    0.8945  0.8887  0.8945  0.9050  0.9025  0.8996  0.9020  0.8986  0.9091  0.9044  0.8999  0.0057  \n",
      "MAE (testset)     0.6865  0.6845  0.6867  0.6965  0.6934  0.6909  0.6957  0.6924  0.6956  0.6962  0.6918  0.0043  \n",
      "RMSE (trainset)   0.1828  0.1829  0.1820  0.1822  0.1829  0.1844  0.1823  0.1832  0.1831  0.1842  0.1830  0.0008  \n",
      "MAE (trainset)    0.1368  0.1368  0.1363  0.1365  0.1370  0.1381  0.1362  0.1372  0.1368  0.1379  0.1370  0.0006  \n",
      "Fit time          13.37   14.04   13.63   13.31   13.42   15.74   13.56   13.27   13.33   13.80   13.75   0.70    \n",
      "Test time         0.05    0.05    0.07    0.07    0.06    0.07    0.05    0.05    0.06    0.05    0.06    0.01    \n",
      "Evaluating RMSE, MAE of algorithm SVD on 10 split(s).\n",
      "\n",
      "                  Fold 1  Fold 2  Fold 3  Fold 4  Fold 5  Fold 6  Fold 7  Fold 8  Fold 9  Fold 10 Mean    Std     \n",
      "RMSE (testset)    0.8587  0.8690  0.8630  0.8630  0.8708  0.8610  0.8555  0.8681  0.8727  0.8622  0.8644  0.0053  \n",
      "MAE (testset)     0.6582  0.6660  0.6621  0.6599  0.6703  0.6610  0.6544  0.6658  0.6689  0.6577  0.6624  0.0049  \n",
      "RMSE (trainset)   0.3037  0.3034  0.3035  0.3028  0.3059  0.3029  0.3052  0.3044  0.3039  0.3032  0.3039  0.0009  \n",
      "MAE (trainset)    0.2355  0.2356  0.2352  0.2353  0.2374  0.2352  0.2367  0.2361  0.2356  0.2353  0.2358  0.0007  \n",
      "Fit time          13.09   13.05   13.20   13.00   12.91   13.37   13.24   13.36   13.70   13.54   13.25   0.23    \n",
      "Test time         0.05    0.06    0.06    0.05    0.05    0.06    0.05    0.11    0.07    0.05    0.06    0.02    \n",
      "Evaluating RMSE, MAE of algorithm SVD on 10 split(s).\n",
      "\n",
      "                  Fold 1  Fold 2  Fold 3  Fold 4  Fold 5  Fold 6  Fold 7  Fold 8  Fold 9  Fold 10 Mean    Std     \n",
      "RMSE (testset)    0.8440  0.8539  0.8546  0.8525  0.8469  0.8494  0.8425  0.8432  0.8503  0.8550  0.8492  0.0046  \n",
      "MAE (testset)     0.6475  0.6548  0.6535  0.6512  0.6495  0.6503  0.6467  0.6462  0.6486  0.6541  0.6502  0.0029  \n",
      "RMSE (trainset)   0.4142  0.4157  0.4134  0.4136  0.4160  0.4163  0.4157  0.4143  0.4140  0.4150  0.4148  0.0010  \n",
      "MAE (trainset)    0.3228  0.3235  0.3219  0.3220  0.3242  0.3243  0.3240  0.3223  0.3227  0.3230  0.3231  0.0008  \n",
      "Fit time          12.69   12.65   12.65   12.58   12.74   12.91   12.78   13.10   13.08   12.83   12.80   0.17    \n",
      "Test time         0.05    0.05    0.05    0.05    0.06    0.05    0.05    0.05    0.06    0.05    0.05    0.00    \n",
      "Evaluating RMSE, MAE of algorithm SVD on 10 split(s).\n",
      "\n",
      "                  Fold 1  Fold 2  Fold 3  Fold 4  Fold 5  Fold 6  Fold 7  Fold 8  Fold 9  Fold 10 Mean    Std     \n",
      "RMSE (testset)    0.8401  0.8432  0.8471  0.8439  0.8446  0.8520  0.8455  0.8459  0.8470  0.8515  0.8461  0.0034  \n",
      "MAE (testset)     0.6440  0.6471  0.6470  0.6445  0.6502  0.6536  0.6479  0.6472  0.6497  0.6522  0.6483  0.0029  \n",
      "RMSE (trainset)   0.5118  0.5102  0.5110  0.5114  0.5110  0.5115  0.5124  0.5129  0.5121  0.5135  0.5118  0.0009  \n",
      "MAE (trainset)    0.3996  0.3984  0.3986  0.3993  0.3987  0.3993  0.3993  0.4002  0.3999  0.4011  0.3995  0.0008  \n",
      "Fit time          13.10   13.22   13.87   13.07   13.03   13.21   13.15   14.55   13.52   12.93   13.37   0.47    \n",
      "Test time         0.05    0.05    0.05    0.05    0.05    0.06    0.05    0.05    0.06    0.06    0.05    0.00    \n",
      "Evaluating RMSE, MAE of algorithm SVD on 10 split(s).\n",
      "\n",
      "                  Fold 1  Fold 2  Fold 3  Fold 4  Fold 5  Fold 6  Fold 7  Fold 8  Fold 9  Fold 10 Mean    Std     \n",
      "RMSE (testset)    0.8490  0.8588  0.8453  0.8515  0.8436  0.8398  0.8338  0.8497  0.8442  0.8548  0.8471  0.0069  \n",
      "MAE (testset)     0.6471  0.6575  0.6451  0.6523  0.6461  0.6454  0.6364  0.6532  0.6490  0.6548  0.6487  0.0058  \n",
      "RMSE (trainset)   0.5926  0.5935  0.5953  0.5927  0.5940  0.5908  0.5923  0.5928  0.5927  0.5933  0.5930  0.0011  \n",
      "MAE (trainset)    0.4622  0.4624  0.4639  0.4622  0.4632  0.4608  0.4618  0.4621  0.4619  0.4628  0.4623  0.0008  \n",
      "Fit time          14.05   13.24   12.84   13.98   13.02   13.80   13.35   13.62   12.88   13.26   13.40   0.42    \n",
      "Test time         0.05    0.05    0.05    0.05    0.06    0.05    0.08    0.10    0.06    0.05    0.06    0.02    \n"
     ]
    },
    {
     "name": "stdout",
     "output_type": "stream",
     "text": [
      "Evaluating RMSE, MAE of algorithm SVD on 10 split(s).\n",
      "\n",
      "                  Fold 1  Fold 2  Fold 3  Fold 4  Fold 5  Fold 6  Fold 7  Fold 8  Fold 9  Fold 10 Mean    Std     \n",
      "RMSE (testset)    0.9035  0.9149  0.8979  0.8974  0.8945  0.8998  0.8996  0.9157  0.8985  0.9056  0.9027  0.0069  \n",
      "MAE (testset)     0.6978  0.7035  0.6902  0.6934  0.6886  0.6905  0.6895  0.7027  0.6938  0.6978  0.6948  0.0051  \n",
      "RMSE (trainset)   0.1486  0.1484  0.1488  0.1483  0.1496  0.1486  0.1486  0.1479  0.1483  0.1483  0.1485  0.0004  \n",
      "MAE (trainset)    0.1087  0.1089  0.1088  0.1086  0.1094  0.1087  0.1087  0.1083  0.1087  0.1087  0.1087  0.0003  \n",
      "Fit time          13.46   12.93   12.52   12.77   13.05   13.11   13.08   13.04   13.07   13.39   13.04   0.26    \n",
      "Test time         0.05    0.05    0.05    0.10    0.07    0.05    0.05    0.05    0.05    0.05    0.06    0.02    \n",
      "Evaluating RMSE, MAE of algorithm SVD on 10 split(s).\n",
      "\n",
      "                  Fold 1  Fold 2  Fold 3  Fold 4  Fold 5  Fold 6  Fold 7  Fold 8  Fold 9  Fold 10 Mean    Std     \n",
      "RMSE (testset)    0.8612  0.8641  0.8749  0.8633  0.8659  0.8658  0.8733  0.8540  0.8601  0.8590  0.8642  0.0060  \n",
      "MAE (testset)     0.6592  0.6620  0.6669  0.6623  0.6641  0.6683  0.6699  0.6545  0.6604  0.6591  0.6627  0.0045  \n",
      "RMSE (trainset)   0.2628  0.2634  0.2628  0.2636  0.2632  0.2633  0.2628  0.2636  0.2641  0.2622  0.2632  0.0005  \n",
      "MAE (trainset)    0.2022  0.2024  0.2016  0.2022  0.2019  0.2018  0.2018  0.2024  0.2024  0.2013  0.2020  0.0004  \n",
      "Fit time          13.14   13.39   14.04   13.19   14.65   13.25   13.87   13.12   13.25   13.25   13.51   0.48    \n",
      "Test time         0.05    0.06    0.06    0.05    0.05    0.05    0.05    0.06    0.05    0.06    0.05    0.00    \n",
      "Evaluating RMSE, MAE of algorithm SVD on 10 split(s).\n",
      "\n",
      "                  Fold 1  Fold 2  Fold 3  Fold 4  Fold 5  Fold 6  Fold 7  Fold 8  Fold 9  Fold 10 Mean    Std     \n",
      "RMSE (testset)    0.8489  0.8452  0.8488  0.8590  0.8422  0.8472  0.8523  0.8597  0.8538  0.8477  0.8505  0.0054  \n",
      "MAE (testset)     0.6486  0.6477  0.6502  0.6585  0.6463  0.6479  0.6515  0.6550  0.6527  0.6463  0.6505  0.0038  \n",
      "RMSE (trainset)   0.3731  0.3712  0.3711  0.3709  0.3714  0.3723  0.3716  0.3703  0.3707  0.3697  0.3712  0.0009  \n",
      "MAE (trainset)    0.2887  0.2871  0.2868  0.2867  0.2872  0.2878  0.2874  0.2865  0.2864  0.2861  0.2871  0.0007  \n",
      "Fit time          13.38   13.84   12.72   12.76   13.74   13.42   13.63   13.77   12.80   13.49   13.36   0.41    \n",
      "Test time         0.06    0.09    0.05    0.06    0.05    0.05    0.05    0.10    0.05    0.05    0.06    0.02    \n",
      "Evaluating RMSE, MAE of algorithm SVD on 10 split(s).\n",
      "\n",
      "                  Fold 1  Fold 2  Fold 3  Fold 4  Fold 5  Fold 6  Fold 7  Fold 8  Fold 9  Fold 10 Mean    Std     \n",
      "RMSE (testset)    0.8552  0.8433  0.8464  0.8379  0.8456  0.8329  0.8463  0.8427  0.8437  0.8545  0.8449  0.0064  \n",
      "MAE (testset)     0.6556  0.6447  0.6444  0.6431  0.6476  0.6397  0.6449  0.6458  0.6440  0.6535  0.6463  0.0046  \n",
      "RMSE (trainset)   0.4679  0.4684  0.4680  0.4687  0.4674  0.4673  0.4671  0.4683  0.4679  0.4667  0.4678  0.0006  \n",
      "MAE (trainset)    0.3635  0.3634  0.3637  0.3642  0.3628  0.3628  0.3631  0.3636  0.3632  0.3624  0.3633  0.0005  \n",
      "Fit time          14.17   13.19   12.91   13.44   13.44   12.69   13.67   13.05   13.26   14.23   13.40   0.48    \n",
      "Test time         0.07    0.05    0.06    0.08    0.05    0.05    0.05    0.05    0.05    0.07    0.06    0.01    \n",
      "Evaluating RMSE, MAE of algorithm SVD on 10 split(s).\n",
      "\n",
      "                  Fold 1  Fold 2  Fold 3  Fold 4  Fold 5  Fold 6  Fold 7  Fold 8  Fold 9  Fold 10 Mean    Std     \n",
      "RMSE (testset)    0.8318  0.8395  0.8537  0.8444  0.8471  0.8449  0.8594  0.8361  0.8569  0.8321  0.8446  0.0094  \n",
      "MAE (testset)     0.6364  0.6432  0.6506  0.6434  0.6499  0.6472  0.6571  0.6404  0.6564  0.6394  0.6464  0.0067  \n",
      "RMSE (trainset)   0.5507  0.5510  0.5497  0.5500  0.5509  0.5516  0.5507  0.5505  0.5503  0.5510  0.5506  0.0005  \n",
      "MAE (trainset)    0.4284  0.4282  0.4275  0.4279  0.4284  0.4288  0.4280  0.4283  0.4279  0.4292  0.4283  0.0005  \n",
      "Fit time          13.89   14.13   13.04   13.52   13.48   13.24   13.12   13.28   12.56   13.00   13.33   0.43    \n",
      "Test time         0.07    0.05    0.05    0.05    0.05    0.05    0.05    0.05    0.05    0.05    0.05    0.00    \n"
     ]
    }
   ],
   "source": [
    "learning_rate=np.arange(0.001,0.01,0.002)\n",
    "regularization=np.arange(0.01,0.1,0.02)\n",
    "n_factors=np.arange(50,200,50)\n",
    "n_epochs=np.arange(10,100,20)\n",
    "\n",
    "svd_result=[]\n",
    "for lr in learning_rate:\n",
    "    SVD_time = []\n",
    "    SVD_train_MAE=[]\n",
    "    SVD_test_MAE=[]\n",
    "    SVD_train_RMSE=[]\n",
    "    SVD_test_RMSE=[]\n",
    "    \n",
    "    for reg in regularization:\n",
    "        algo=SVD(n_epochs =50,lr_all=lr,reg_all=reg)\n",
    "        c_v=cross_validate(algo, data,cv=10, verbose=True,return_train_measures =True)\n",
    "        SVD_time.append(np.mean(c_v['fit_time']))\n",
    "        SVD_train_MAE.append(np.mean(c_v['train_mae']))\n",
    "        SVD_test_MAE.append(np.mean(c_v['test_mae']))\n",
    "        SVD_train_RMSE.append(np.mean(c_v['train_rmse']))\n",
    "        SVD_test_RMSE.append(np.mean(c_v['test_rmse']))\n",
    "    svd_result.append([SVD_time,SVD_train_MAE,SVD_test_MAE,SVD_train_RMSE,SVD_test_RMSE])\n"
   ]
  },
  {
   "cell_type": "code",
   "execution_count": 29,
   "metadata": {},
   "outputs": [
    {
     "data": {
      "text/plain": [
       "[[[15.293750190734864,\n",
       "   14.94609625339508,\n",
       "   14.946623635292053,\n",
       "   14.976887035369874,\n",
       "   14.889759254455566],\n",
       "  [0.5878614863561233,\n",
       "   0.606283734843424,\n",
       "   0.6174699439785853,\n",
       "   0.6252736268212058,\n",
       "   0.6308323111069642],\n",
       "  [0.6768896006221607,\n",
       "   0.6751037754826635,\n",
       "   0.6752811370158377,\n",
       "   0.6750017440552366,\n",
       "   0.6756663356229016],\n",
       "  [0.7614167909815415,\n",
       "   0.7849014210413776,\n",
       "   0.7994625893790019,\n",
       "   0.8094448863568615,\n",
       "   0.816580190690957],\n",
       "  [0.8793295542076776,\n",
       "   0.8764455277370816,\n",
       "   0.8765410887708927,\n",
       "   0.876090822781871,\n",
       "   0.8763894673389556]],\n",
       " [[14.83118748664856,\n",
       "   15.415873265266418,\n",
       "   15.11498761177063,\n",
       "   14.540412735939025,\n",
       "   14.364144492149354],\n",
       "  [0.3281862596663627,\n",
       "   0.4250137473129982,\n",
       "   0.4938101659966515,\n",
       "   0.5394943473554509,\n",
       "   0.5709045294991356],\n",
       "  [0.6788651514395333,\n",
       "   0.6612879908149056,\n",
       "   0.6577744226058407,\n",
       "   0.6585936401964241,\n",
       "   0.661093546395092],\n",
       "  [0.4266278234119424,\n",
       "   0.544297532401491,\n",
       "   0.6329143638043581,\n",
       "   0.6934390145143939,\n",
       "   0.7355565250490289],\n",
       "  [0.8840647190584109,\n",
       "   0.862856538890389,\n",
       "   0.8575522896688345,\n",
       "   0.8583555214309297,\n",
       "   0.860628834166619]],\n",
       " [[14.592603182792663,\n",
       "   14.50132930278778,\n",
       "   14.76993408203125,\n",
       "   15.34159746170044,\n",
       "   14.922067594528198],\n",
       "  [0.19511190897175607,\n",
       "   0.2993022580024219,\n",
       "   0.3862270899332767,\n",
       "   0.456041685156139,\n",
       "   0.5104268433011873],\n",
       "  [0.6892667339300675,\n",
       "   0.6607364537619476,\n",
       "   0.6511599752283801,\n",
       "   0.6497781781868501,\n",
       "   0.6527596402471254],\n",
       "  [0.2568714852642221,\n",
       "   0.3832530373195531,\n",
       "   0.4934656774405012,\n",
       "   0.5833023121344774,\n",
       "   0.6540838154660227],\n",
       "  [0.8972835670852335,\n",
       "   0.8633422628393328,\n",
       "   0.8504714109668715,\n",
       "   0.8486800547001628,\n",
       "   0.8504948297715194]],\n",
       " [[14.648702549934388,\n",
       "   14.73521032333374,\n",
       "   14.604305863380432,\n",
       "   14.617889356613158,\n",
       "   14.766364240646363],\n",
       "  [0.1371484386068916,\n",
       "   0.2360133343174291,\n",
       "   0.32332540829855294,\n",
       "   0.3993394061561587,\n",
       "   0.461989966094624],\n",
       "  [0.6942160684611018,\n",
       "   0.6620433686740116,\n",
       "   0.6513867491453242,\n",
       "   0.6478822973344617,\n",
       "   0.6480889224450141],\n",
       "  [0.1834050932822584,\n",
       "   0.304077796933346,\n",
       "   0.4148525782866804,\n",
       "   0.5117461547986127,\n",
       "   0.5923180230440235],\n",
       "  [0.9026013257244314,\n",
       "   0.8643578506694535,\n",
       "   0.8513602926908771,\n",
       "   0.8466803801577395,\n",
       "   0.8460822301474245]],\n",
       " [[14.90623643398285,\n",
       "   14.40275137424469,\n",
       "   14.831049227714539,\n",
       "   15.052697372436523,\n",
       "   15.01232407093048],\n",
       "  [0.1085361730883185,\n",
       "   0.20119478610229904,\n",
       "   0.28624959257345034,\n",
       "   0.363055949254638,\n",
       "   0.4290879140632075],\n",
       "  [0.6917975570900883,\n",
       "   0.661221011931569,\n",
       "   0.6502432216441377,\n",
       "   0.646710529248089,\n",
       "   0.6467110025616818],\n",
       "  [0.14832142183039793,\n",
       "   0.2623665667132419,\n",
       "   0.37048958008087024,\n",
       "   0.4676771719441667,\n",
       "   0.551347561016281],\n",
       "  [0.8997387999773375,\n",
       "   0.8631357059822256,\n",
       "   0.8504671953915333,\n",
       "   0.8456386267118738,\n",
       "   0.8443584265144795]]]"
      ]
     },
     "execution_count": 29,
     "metadata": {},
     "output_type": "execute_result"
    }
   ],
   "source": [
    "svd_result"
   ]
  },
  {
   "cell_type": "markdown",
   "metadata": {},
   "source": [
    "## Evaluate SVD by surprise"
   ]
  },
  {
   "cell_type": "code",
   "execution_count": 30,
   "metadata": {},
   "outputs": [],
   "source": [
    "svd_time = []\n",
    "svd_train_MAE = []\n",
    "svd_test_MAE = []\n",
    "svd_train_RMSE = []\n",
    "svd_test_RMSE = []\n",
    "for row in svd_result:\n",
    "    svd_time.append(row[0])\n",
    "    svd_train_MAE.append(row[1])\n",
    "    svd_test_MAE.append(row[2])\n",
    "    svd_train_RMSE.append(row[3])\n",
    "    svd_test_RMSE.append(row[4])"
   ]
  },
  {
   "cell_type": "markdown",
   "metadata": {},
   "source": [
    "### Fitting time vs. hyper-parameters"
   ]
  },
  {
   "cell_type": "code",
   "execution_count": 31,
   "metadata": {
    "scrolled": true
   },
   "outputs": [],
   "source": [
    "svd_time = pd.DataFrame(svd_time)\n",
    "svd_time.index = learning_rate.round(3)\n",
    "svd_time.index.name = 'learning_rate'\n",
    "svd_time.columns = regularization.round(2)\n",
    "svd_time.columns.name = 'regularization'"
   ]
  },
  {
   "cell_type": "code",
   "execution_count": 32,
   "metadata": {
    "scrolled": true
   },
   "outputs": [
    {
     "data": {
      "text/plain": [
       "<matplotlib.axes._subplots.AxesSubplot at 0x1a202733c8>"
      ]
     },
     "execution_count": 32,
     "metadata": {},
     "output_type": "execute_result"
    },
    {
     "data": {
      "image/png": "[encoded data removed]",
      "text/plain": [
       "<Figure size 432x288 with 2 Axes>"
      ]
     },
     "metadata": {},
     "output_type": "display_data"
    }
   ],
   "source": [
    "sns.heatmap(data = svd_time,cbar_kws={'label': 'time'})"
   ]
  },
  {
   "cell_type": "markdown",
   "metadata": {},
   "source": [
    "As the plot showing, there is no pattern of relationships between fitting time and learning rate at a fixed regularization. The SVD model's fitting time has no strong relations with the learning rate and regularization. "
   ]
  },
  {
   "cell_type": "markdown",
   "metadata": {},
   "source": [
    "### Mean_Absolute _Error (MAE) & Root Mean Squared Error (RMSE)\n",
    "#### Primary accuracy metric : MAE"
   ]
  },
  {
   "cell_type": "code",
   "execution_count": 33,
   "metadata": {},
   "outputs": [],
   "source": [
    "svd_test_MAE = pd.DataFrame(svd_test_MAE)\n",
    "svd_test_MAE.index = learning_rate.round(3)\n",
    "svd_test_MAE.index.name = 'learning_rate'\n",
    "svd_test_MAE.columns = regularization.round(2)\n",
    "svd_test_MAE.columns.name = 'regularization'"
   ]
  },
  {
   "cell_type": "code",
   "execution_count": 34,
   "metadata": {},
   "outputs": [
    {
     "data": {
      "text/plain": [
       "<matplotlib.axes._subplots.AxesSubplot at 0x1a206377b8>"
      ]
     },
     "execution_count": 34,
     "metadata": {},
     "output_type": "execute_result"
    },
    {
     "data": {
      "image/png": "[encoded data removed]",
      "text/plain": [
       "<Figure size 432x288 with 2 Axes>"
      ]
     },
     "metadata": {},
     "output_type": "display_data"
    }
   ],
   "source": [
    "sns.heatmap(data = svd_test_MAE,cbar_kws={'label': 'MAE'})"
   ]
  },
  {
   "cell_type": "markdown",
   "metadata": {},
   "source": [
    "As we can clearly see in the plot, increasing learning rate causes lower MAE on test data at each level of regularization. The heavier weight of the regularization, the lower the MAE. "
   ]
  },
  {
   "cell_type": "markdown",
   "metadata": {},
   "source": [
    "#### Secondary accuracy metric : RMSE"
   ]
  },
  {
   "cell_type": "code",
   "execution_count": 35,
   "metadata": {},
   "outputs": [],
   "source": [
    "svd_test_RMSE = pd.DataFrame(svd_test_RMSE)\n",
    "svd_test_RMSE.index = learning_rate.round(3)\n",
    "svd_test_RMSE.index.name = 'learning_rate'\n",
    "svd_test_RMSE.columns = regularization.round(2)\n",
    "svd_test_RMSE.columns.name = 'regularization'"
   ]
  },
  {
   "cell_type": "code",
   "execution_count": 36,
   "metadata": {},
   "outputs": [
    {
     "data": {
      "text/plain": [
       "<matplotlib.axes._subplots.AxesSubplot at 0x1a20357390>"
      ]
     },
     "execution_count": 36,
     "metadata": {},
     "output_type": "execute_result"
    },
    {
     "data": {
      "image/png": "[encoded data removed]",
      "text/plain": [
       "<Figure size 432x288 with 2 Axes>"
      ]
     },
     "metadata": {},
     "output_type": "display_data"
    }
   ],
   "source": [
    "sns.heatmap(data = svd_test_RMSE,cbar_kws={'label': 'RMSE'})"
   ]
  },
  {
   "cell_type": "markdown",
   "metadata": {},
   "source": [
    "The trend of RMSE is similar with MAE. RMSE goes down as more regularization is enforced."
   ]
  },
  {
   "cell_type": "markdown",
   "metadata": {},
   "source": [
    "### How does sample size impact the accuracy of SVD?"
   ]
  },
  {
   "cell_type": "code",
   "execution_count": 41,
   "metadata": {},
   "outputs": [],
   "source": [
    "param_grid = {'lr_all': learning_rate,'reg_all':regularization}\n",
    "svd_gs=GridSearchCV(SVD,param_grid)\n",
    "svd_gs.fit(data)\n",
    "\n",
    "bestlr = svd_gs.best_params['mae']['lr_all']\n",
    "bestreg=svd_gs.best_params['mae']['reg_all']"
   ]
  },
  {
   "cell_type": "code",
   "execution_count": 42,
   "metadata": {},
   "outputs": [
    {
     "name": "stdout",
     "output_type": "stream",
     "text": [
      "Evaluating RMSE, MAE of algorithm SVD on 10 split(s).\n",
      "\n",
      "                  Fold 1  Fold 2  Fold 3  Fold 4  Fold 5  Fold 6  Fold 7  Fold 8  Fold 9  Fold 10 Mean    Std     \n",
      "RMSE (testset)    0.9031  0.9199  0.9220  0.9106  0.9321  0.9018  0.8951  0.9387  0.8871  0.9161  0.9126  0.0154  \n",
      "MAE (testset)     0.6987  0.7053  0.7144  0.7023  0.7111  0.6912  0.6806  0.7167  0.6957  0.7090  0.7025  0.0107  \n",
      "RMSE (trainset)   0.3246  0.3214  0.3247  0.3215  0.3230  0.3218  0.3221  0.3227  0.3220  0.3240  0.3228  0.0012  \n",
      "MAE (trainset)    0.2550  0.2532  0.2552  0.2523  0.2538  0.2530  0.2530  0.2534  0.2527  0.2544  0.2536  0.0009  \n",
      "Fit time          2.81    2.63    2.68    2.71    2.82    2.99    3.21    2.79    2.77    2.84    2.83    0.16    \n",
      "Test time         0.01    0.01    0.01    0.01    0.01    0.01    0.01    0.01    0.01    0.01    0.01    0.00    \n",
      "Evaluating RMSE, MAE of algorithm SVD on 10 split(s).\n",
      "\n",
      "                  Fold 1  Fold 2  Fold 3  Fold 4  Fold 5  Fold 6  Fold 7  Fold 8  Fold 9  Fold 10 Mean    Std     \n",
      "RMSE (testset)    0.8723  0.8827  0.8918  0.9077  0.9139  0.8960  0.8943  0.8989  0.8829  0.8871  0.8928  0.0117  \n",
      "MAE (testset)     0.6726  0.6827  0.6797  0.6985  0.7033  0.6859  0.6821  0.6928  0.6783  0.6844  0.6860  0.0090  \n",
      "RMSE (trainset)   0.3710  0.3724  0.3724  0.3719  0.3712  0.3734  0.3706  0.3727  0.3741  0.3729  0.3723  0.0010  \n",
      "MAE (trainset)    0.2902  0.2906  0.2914  0.2906  0.2905  0.2918  0.2895  0.2914  0.2926  0.2916  0.2910  0.0008  \n",
      "Fit time          5.52    5.45    5.53    6.23    5.41    5.70    5.38    5.41    5.39    5.45    5.55    0.24    \n",
      "Test time         0.02    0.02    0.02    0.02    0.02    0.02    0.02    0.02    0.02    0.02    0.02    0.00    \n",
      "Evaluating RMSE, MAE of algorithm SVD on 10 split(s).\n",
      "\n",
      "                  Fold 1  Fold 2  Fold 3  Fold 4  Fold 5  Fold 6  Fold 7  Fold 8  Fold 9  Fold 10 Mean    Std     \n",
      "RMSE (testset)    0.8710  0.8822  0.8584  0.8810  0.8688  0.8756  0.8739  0.8617  0.8621  0.8869  0.8722  0.0091  \n",
      "MAE (testset)     0.6707  0.6758  0.6589  0.6770  0.6710  0.6731  0.6757  0.6602  0.6625  0.6780  0.6703  0.0068  \n",
      "RMSE (trainset)   0.4092  0.4093  0.4098  0.4102  0.4093  0.4103  0.4081  0.4107  0.4079  0.4097  0.4094  0.0009  \n",
      "MAE (trainset)    0.3188  0.3189  0.3189  0.3197  0.3187  0.3199  0.3176  0.3203  0.3176  0.3195  0.3190  0.0009  \n",
      "Fit time          8.16    8.12    8.12    8.12    8.09    8.14    8.78    8.12    8.12    8.59    8.24    0.23    \n",
      "Test time         0.03    0.03    0.03    0.03    0.03    0.03    0.04    0.03    0.03    0.04    0.03    0.00    \n",
      "Evaluating RMSE, MAE of algorithm SVD on 10 split(s).\n",
      "\n",
      "                  Fold 1  Fold 2  Fold 3  Fold 4  Fold 5  Fold 6  Fold 7  Fold 8  Fold 9  Fold 10 Mean    Std     \n",
      "RMSE (testset)    0.8562  0.8677  0.8586  0.8521  0.8673  0.8590  0.8635  0.8460  0.8544  0.8614  0.8586  0.0064  \n",
      "MAE (testset)     0.6560  0.6640  0.6584  0.6491  0.6635  0.6561  0.6620  0.6513  0.6517  0.6631  0.6575  0.0053  \n",
      "RMSE (trainset)   0.4406  0.4400  0.4407  0.4421  0.4425  0.4411  0.4411  0.4416  0.4404  0.4419  0.4412  0.0008  \n",
      "MAE (trainset)    0.3422  0.3415  0.3417  0.3433  0.3436  0.3423  0.3429  0.3425  0.3421  0.3429  0.3425  0.0006  \n",
      "Fit time          12.62   12.40   12.01   11.32   10.96   11.39   10.92   10.94   11.19   12.06   11.58   0.61    \n",
      "Test time         0.11    0.05    0.05    0.05    0.04    0.04    0.04    0.04    0.06    0.05    0.05    0.02    \n",
      "Evaluating RMSE, MAE of algorithm SVD on 10 split(s).\n",
      "\n",
      "                  Fold 1  Fold 2  Fold 3  Fold 4  Fold 5  Fold 6  Fold 7  Fold 8  Fold 9  Fold 10 Mean    Std     \n",
      "RMSE (testset)    0.8319  0.8400  0.8465  0.8600  0.8444  0.8405  0.8418  0.8473  0.8470  0.8425  0.8442  0.0068  \n",
      "MAE (testset)     0.6372  0.6434  0.6488  0.6583  0.6460  0.6434  0.6455  0.6467  0.6466  0.6436  0.6460  0.0051  \n",
      "RMSE (trainset)   0.4678  0.4674  0.4680  0.4667  0.4675  0.4687  0.4688  0.4670  0.4676  0.4664  0.4676  0.0007  \n",
      "MAE (trainset)    0.3633  0.3630  0.3630  0.3621  0.3628  0.3639  0.3638  0.3625  0.3627  0.3622  0.3629  0.0006  \n",
      "Fit time          15.45   15.55   15.05   13.65   13.67   13.85   14.95   13.87   14.24   13.78   14.41   0.72    \n",
      "Test time         0.12    0.06    0.05    0.06    0.05    0.12    0.05    0.06    0.06    0.05    0.07    0.03    \n"
     ]
    }
   ],
   "source": [
    "SVD_time = []\n",
    "SVD_train_MAE=[]\n",
    "SVD_test_MAE=[]\n",
    "SVD_train_RMSE=[]\n",
    "SVD_test_RMSE=[]\n",
    "SVD_size_effect=[]\n",
    "for n in new_size:\n",
    "    new_df=df.sample(n=n)\n",
    "    data=Dataset.load_from_df(new_df,reader=reader)\n",
    "    algo=SVD(n_epochs =50,lr_all=bestlr,reg_all=bestreg)\n",
    "    c_v=cross_validate(algo, data,cv=10, verbose=True,return_train_measures =True)\n",
    "    SVD_time.append(np.mean(c_v['fit_time']))\n",
    "    SVD_train_MAE.append(np.mean(c_v['train_mae']))\n",
    "    SVD_test_MAE.append(np.mean(c_v['test_mae']))\n",
    "    SVD_train_RMSE.append(np.mean(c_v['train_rmse']))\n",
    "    SVD_test_RMSE.append(np.mean(c_v['test_rmse']))\n",
    "SVD_size_effect.append([SVD_time,SVD_train_MAE,SVD_test_MAE,SVD_train_RMSE,SVD_test_RMSE])"
   ]
  },
  {
   "cell_type": "code",
   "execution_count": 342,
   "metadata": {},
   "outputs": [
    {
     "name": "stdout",
     "output_type": "stream",
     "text": [
      "Stored 'SVD_size_effect' (list)\n"
     ]
    }
   ],
   "source": [
    "%store SVD_size_effect"
   ]
  },
  {
   "cell_type": "code",
   "execution_count": 43,
   "metadata": {},
   "outputs": [
    {
     "data": {
      "text/plain": [
       "0.009000000000000001"
      ]
     },
     "execution_count": 43,
     "metadata": {},
     "output_type": "execute_result"
    }
   ],
   "source": [
    "#best learning rate\n",
    "bestlr"
   ]
  },
  {
   "cell_type": "code",
   "execution_count": 44,
   "metadata": {},
   "outputs": [
    {
     "data": {
      "text/plain": [
       "0.06999999999999999"
      ]
     },
     "execution_count": 44,
     "metadata": {},
     "output_type": "execute_result"
    }
   ],
   "source": [
    "#best regularization\n",
    "bestreg"
   ]
  },
  {
   "cell_type": "code",
   "execution_count": 45,
   "metadata": {},
   "outputs": [
    {
     "data": {
      "text/plain": [
       "[[[2.825703763961792,\n",
       "   5.547080683708191,\n",
       "   8.237026929855347,\n",
       "   11.580831670761109,\n",
       "   14.405395221710204],\n",
       "  [0.25359704368156943,\n",
       "   0.29103409744674347,\n",
       "   0.31899733066335634,\n",
       "   0.34249580940766333,\n",
       "   0.36291928616750707],\n",
       "  [0.7025067628566097,\n",
       "   0.6860331841677325,\n",
       "   0.6702736199437369,\n",
       "   0.6575217320661327,\n",
       "   0.6459514326134578],\n",
       "  [0.3227840906876074,\n",
       "   0.37227287430596406,\n",
       "   0.40943551726940647,\n",
       "   0.441195335118295,\n",
       "   0.46759323218033017],\n",
       "  [0.9126430363816462,\n",
       "   0.8927526186365793,\n",
       "   0.8721704667860543,\n",
       "   0.8586235960773985,\n",
       "   0.8441885144961937]]]"
      ]
     },
     "execution_count": 45,
     "metadata": {},
     "output_type": "execute_result"
    }
   ],
   "source": [
    "SVD_size_effect"
   ]
  },
  {
   "cell_type": "code",
   "execution_count": 46,
   "metadata": {
    "scrolled": false
   },
   "outputs": [
    {
     "data": {
      "text/plain": [
       "<matplotlib.axes._subplots.AxesSubplot at 0x1a1ee28be0>"
      ]
     },
     "execution_count": 46,
     "metadata": {},
     "output_type": "execute_result"
    },
    {
     "data": {
      "image/png": "[encoded data removed]",
      "text/plain": [
       "<Figure size 432x288 with 1 Axes>"
      ]
     },
     "metadata": {},
     "output_type": "display_data"
    }
   ],
   "source": [
    "svd_newsize_metrics = pd.DataFrame(np.column_stack([SVD_train_MAE, SVD_test_MAE,SVD_train_RMSE, SVD_test_RMSE]),\n",
    "                   columns=['SVD_train_MAE', 'SVD_test_MAE','SVD_train_RMSE', 'SVD_test_RMSE'])\n",
    "svd_newsize_metrics.index = new_size\n",
    "plt.title(\"the accuracy metrics change when changing model size\")\n",
    "plt.xlabel(\"model size\")\n",
    "plt.ylabel(\"accuracy metrics\")\n",
    "sns.lineplot(data = svd_newsize_metrics, palette=\"tab10\")"
   ]
  },
  {
   "cell_type": "markdown",
   "metadata": {},
   "source": [
    "The model overfits the training data very easily when the training set is small."
   ]
  },
  {
   "cell_type": "markdown",
   "metadata": {},
   "source": [
    "### How does sample size impact the run-time of SVD?"
   ]
  },
  {
   "cell_type": "code",
   "execution_count": 47,
   "metadata": {},
   "outputs": [
    {
     "data": {
      "text/plain": [
       "<matplotlib.axes._subplots.AxesSubplot at 0x1a1f0f0668>"
      ]
     },
     "execution_count": 47,
     "metadata": {},
     "output_type": "execute_result"
    },
    {
     "data": {
      "image/png": "[encoded data removed]",
      "text/plain": [
       "<Figure size 432x288 with 1 Axes>"
      ]
     },
     "metadata": {},
     "output_type": "display_data"
    }
   ],
   "source": [
    "SVD_newsize_time = pd.DataFrame(SVD_time,columns=['SVD_time'])\n",
    "SVD_newsize_time.index = new_size\n",
    "plt.title(\"the run-time change when changing model size\")\n",
    "plt.xlabel(\"model size\")\n",
    "plt.ylabel(\"run-time\")\n",
    "sns.lineplot(data = SVD_newsize_time, palette=\"tab10\")"
   ]
  },
  {
   "cell_type": "markdown",
   "metadata": {},
   "source": [
    "The smaller the sample size, the faster the model fits. "
   ]
  },
  {
   "cell_type": "markdown",
   "metadata": {},
   "source": [
    "### Conclusions on SVD model:\n",
    "#### Effect of hyper-parameters:\n",
    "* Running(fitting) time: The learning rate and regularization does not affect the fitting time but sample size does.\n",
    "* SVD model tends to overfit train data when sample size is small.\n",
    "* MAE and RMSE goes down as more weights on regularization and under less learning rates.\n",
    "#### Drawbacks of SVD：\n",
    "* Large number of free parameters which makes finding a good set of parameters that will work good for all cases is very hard.\n",
    "\n",
    "\n",
    "\n"
   ]
  },
  {
   "cell_type": "markdown",
   "metadata": {},
   "source": [
    "# Conclusions:\n"
   ]
  },
  {
   "cell_type": "markdown",
   "metadata": {},
   "source": [
    "\n",
    "###Although this is typical of machine learning problems, especially in this case, the experiments showed that even a single blind combination of results from very similar models gives performance almost close to the best model, which suggests that different models work good for different cases. Therefore, the only way to achieve the goal set by Netflix seems to use combinations of different models."
   ]
  },
  {
   "cell_type": "code",
   "execution_count": null,
   "metadata": {},
   "outputs": [],
   "source": []
  }
 ],
 "metadata": {
  "kernelspec": {
   "display_name": "Python 3",
   "language": "python",
   "name": "python3"
  },
  "language_info": {
   "codemirror_mode": {
    "name": "ipython",
    "version": 3
   },
   "file_extension": ".py",
   "mimetype": "text/x-python",
   "name": "python",
   "nbconvert_exporter": "python",
   "pygments_lexer": "ipython3",
   "version": "3.6.7"
  }
 },
 "nbformat": 4,
 "nbformat_minor": 2
}
