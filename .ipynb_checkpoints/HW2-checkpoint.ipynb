{
 "cells": [
  {
   "cell_type": "markdown",
   "metadata": {},
   "source": [
    "# Homework02: \n",
    "# Recommender System Using MovieLens Dataset\n",
    "\n",
    "#### The goal of this homework is making movie recommendations using two basic CF algorithms: K-NN and Matrix Factorization."
   ]
  },
  {
   "cell_type": "code",
   "execution_count": 3,
   "metadata": {},
   "outputs": [],
   "source": [
    "#Import library \n",
    "import pandas as pd\n",
    "import numpy as np\n",
    "import matplotlib.pyplot as plt\n",
    "import seaborn as sns\n",
    "import surprise\n",
    "from surprise.prediction_algorithms.knns import KNNBaseline\n",
    "from surprise.prediction_algorithms.matrix_factorization import SVD\n",
    "from surprise.model_selection import cross_validate\n",
    "from surprise.model_selection.search import GridSearchCV\n",
    "from surprise import Dataset\n",
    "from surprise import Reader\n",
    "from sklearn.model_selection import KFold\n",
    "import time as tm\n",
    "import scipy.stats as spst\n",
    "import scipy.sparse as spsp\n",
    "%matplotlib inline\n",
    "df=pd.read_csv('./ml-latest-small/ratings.csv')\n"
   ]
  },
  {
   "cell_type": "code",
   "execution_count": 4,
   "metadata": {},
   "outputs": [],
   "source": [
    "reader = Reader(line_format='user item rating', sep=',', skip_lines=3, rating_scale=(1, 5))"
   ]
  },
  {
   "cell_type": "markdown",
   "metadata": {},
   "source": [
    "### Ratings Dataset"
   ]
  },
  {
   "cell_type": "code",
   "execution_count": 5,
   "metadata": {},
   "outputs": [],
   "source": [
    "df=pd.read_csv('./ml-latest-small/ratings.csv')\n",
    "df=df.drop(['timestamp'],axis=1)\n",
    "data=Dataset.load_from_df(df,reader=reader)"
   ]
  },
  {
   "cell_type": "code",
   "execution_count": 6,
   "metadata": {},
   "outputs": [],
   "source": [
    "origin_size=len(df.values)\n",
    "gap=int(origin_size/5)\n",
    "new_size=np.arange(gap,origin_size,gap)"
   ]
  },
  {
   "cell_type": "code",
   "execution_count": 7,
   "metadata": {},
   "outputs": [
    {
     "data": {
      "text/html": [
       "<div>\n",
       "<style scoped>\n",
       "    .dataframe tbody tr th:only-of-type {\n",
       "        vertical-align: middle;\n",
       "    }\n",
       "\n",
       "    .dataframe tbody tr th {\n",
       "        vertical-align: top;\n",
       "    }\n",
       "\n",
       "    .dataframe thead th {\n",
       "        text-align: right;\n",
       "    }\n",
       "</style>\n",
       "<table border=\"1\" class=\"dataframe\">\n",
       "  <thead>\n",
       "    <tr style=\"text-align: right;\">\n",
       "      <th></th>\n",
       "      <th>userId</th>\n",
       "      <th>movieId</th>\n",
       "      <th>rating</th>\n",
       "    </tr>\n",
       "  </thead>\n",
       "  <tbody>\n",
       "    <tr>\n",
       "      <th>0</th>\n",
       "      <td>1</td>\n",
       "      <td>1</td>\n",
       "      <td>4.0</td>\n",
       "    </tr>\n",
       "    <tr>\n",
       "      <th>1</th>\n",
       "      <td>1</td>\n",
       "      <td>3</td>\n",
       "      <td>4.0</td>\n",
       "    </tr>\n",
       "    <tr>\n",
       "      <th>2</th>\n",
       "      <td>1</td>\n",
       "      <td>6</td>\n",
       "      <td>4.0</td>\n",
       "    </tr>\n",
       "    <tr>\n",
       "      <th>3</th>\n",
       "      <td>1</td>\n",
       "      <td>47</td>\n",
       "      <td>5.0</td>\n",
       "    </tr>\n",
       "    <tr>\n",
       "      <th>4</th>\n",
       "      <td>1</td>\n",
       "      <td>50</td>\n",
       "      <td>5.0</td>\n",
       "    </tr>\n",
       "    <tr>\n",
       "      <th>5</th>\n",
       "      <td>1</td>\n",
       "      <td>70</td>\n",
       "      <td>3.0</td>\n",
       "    </tr>\n",
       "  </tbody>\n",
       "</table>\n",
       "</div>"
      ],
      "text/plain": [
       "   userId  movieId  rating\n",
       "0       1        1     4.0\n",
       "1       1        3     4.0\n",
       "2       1        6     4.0\n",
       "3       1       47     5.0\n",
       "4       1       50     5.0\n",
       "5       1       70     3.0"
      ]
     },
     "execution_count": 7,
     "metadata": {},
     "output_type": "execute_result"
    }
   ],
   "source": [
    "df.head(6)"
   ]
  },
  {
   "cell_type": "code",
   "execution_count": 8,
   "metadata": {},
   "outputs": [
    {
     "data": {
      "text/plain": [
       "<matplotlib.axes._subplots.AxesSubplot at 0x1a0f7c8d68>"
      ]
     },
     "execution_count": 8,
     "metadata": {},
     "output_type": "execute_result"
    },
    {
     "data": {
      "image/png": "[encoded data removed]",
      "text/plain": [
       "<Figure size 432x288 with 1 Axes>"
      ]
     },
     "metadata": {},
     "output_type": "display_data"
    }
   ],
   "source": [
    "# Display distribution of rating\n",
    "sns.distplot(df['rating'].fillna(df['rating'].median()))"
   ]
  },
  {
   "cell_type": "markdown",
   "metadata": {},
   "source": [
    "There are more ratings in score 4 and 3 than that in other scores, showing that most of users are neutralistic. However, some users might rate their favorite movies only 4 stars while some rate it as 5 stars due to personality variance."
   ]
  },
  {
   "cell_type": "markdown",
   "metadata": {},
   "source": [
    "# Collaborative Filtering Recommendation Model\n",
    "## KNN (Self-Implementation)"
   ]
  },
  {
   "cell_type": "code",
   "execution_count": 9,
   "metadata": {},
   "outputs": [],
   "source": [
    "def trans_arr(result,data):\n",
    "    arr=np.ones(len(data))\n",
    "    for index,row in enumerate(data):\n",
    "        i = int(row[0])-1\n",
    "        j = int(row[1])-1\n",
    "        try:\n",
    "            arr[index]=result[i][j]\n",
    "        except:\n",
    "            arr[index]=0\n",
    "    return arr\n",
    "\n",
    "def MAE(arr,data):\n",
    "    return np.mean(np.abs(data[:,-1]-arr))\n",
    "def RMSE(arr,data):\n",
    "    return (np.mean((data[:,-1]-arr)**2))**0.5\n",
    "\n",
    "def get_neighbors(sim,k,i):\n",
    "    sim[i]=-float('inf')\n",
    "    return np.argsort(sim)[::-1][:k]\n",
    "    \n",
    "def knn_mean(df,k=40):\n",
    "    n_user = max(df.userId.values)\n",
    "    n_item = max(df.movieId.values)\n",
    "    data = df.values[:,:-1]\n",
    "    mu_user=df.groupby(['userId']).mean().rating.values\n",
    "    R = np.zeros((n_user,n_item))\n",
    "    result= np.zeros((n_user,n_item))\n",
    "    norm_R =np.zeros((n_user,n_item))\n",
    "    for row in data:\n",
    "        i = int(row[0])-1\n",
    "        j = int(row[1])-1\n",
    "        R[i][j]=row[2]\n",
    "        norm_R[i][j]=row[2]-mu_user[i]\n",
    "    sim_matrix = np.corrcoef(R) \n",
    "    for i,row in enumerate(R):\n",
    "        mu=mu_user[i]\n",
    "        sim=sim_matrix[i]\n",
    "        k_index=get_neighbors(sim,k,i)\n",
    "        k_sim=sim[k_index]\n",
    "        k_nb=norm_R[k_index,:]\n",
    "        result[i]=(k_sim.T@k_nb/np.sum(k_sim)+mu)\n",
    "    return result,data"
   ]
  },
  {
   "cell_type": "code",
   "execution_count": 10,
   "metadata": {},
   "outputs": [],
   "source": [
    "def knn_cv(n_splits=5,k=40,size=origin_size):\n",
    "    df=pd.read_csv('./ml-latest-small/ratings.csv')\n",
    "    df=df.iloc[:size]\n",
    "    kf = KFold(n_splits = n_splits, shuffle = True, random_state = 1)\n",
    "    knn_train_mae=[]\n",
    "    knn_train_mrse=[]\n",
    "    knn_test_mae=[]\n",
    "    knn_test_mrse=[]\n",
    "    knn_time=[]\n",
    "    for  tr,ts in kf.split(df):\n",
    "        start = tm.time()\n",
    "        train=df.iloc[tr]\n",
    "        test=df.iloc[ts]\n",
    "        result,train_data =knn_mean(train,k)\n",
    "        test_data = test.values[:,:-1]\n",
    "        train_arr=trans_arr(result,train_data)\n",
    "        test_arr=trans_arr(result,test_data)\n",
    "        knn_train_mae.append(MAE(train_arr,train_data))\n",
    "        knn_train_mrse.append(RMSE(train_arr,train_data))\n",
    "        knn_test_mae.append(MAE(test_arr,test_data))\n",
    "        knn_test_mrse.append(RMSE(test_arr,test_data))\n",
    "        end=tm.time()\n",
    "        knn_time.append(end-start)\n",
    "    return [np.mean(knn_train_mae),np.mean(knn_train_mrse),\n",
    "            np.mean(knn_test_mae),np.mean(knn_test_mrse),\n",
    "            np.mean(knn_time)]"
   ]
  },
  {
   "cell_type": "code",
   "execution_count": 11,
   "metadata": {},
   "outputs": [],
   "source": [
    "neighbor_size=np.arange(40,100,15)\n",
    "knn_result=[]\n",
    "for k in neighbor_size:\n",
    "    knn_result.append(knn_cv(5,k))"
   ]
  },
  {
   "cell_type": "markdown",
   "metadata": {},
   "source": [
    "## Evaluate Knn (Self-Implementation)"
   ]
  },
  {
   "cell_type": "code",
   "execution_count": 12,
   "metadata": {},
   "outputs": [],
   "source": [
    "knn_train_mae=[]\n",
    "knn_train_rmse=[]\n",
    "knn_test_mae=[]\n",
    "knn_test_rmse=[]\n",
    "knn_time=[]\n",
    "for i in range(0,len(knn_result)):\n",
    "    knn_train_mae.append(knn_result[i][0])\n",
    "    knn_train_rmse.append(knn_result[i][1])\n",
    "    knn_test_mae.append(knn_result[i][2])\n",
    "    knn_test_rmse.append(knn_result[i][3])\n",
    "    knn_time.append(knn_result[i][4])"
   ]
  },
  {
   "cell_type": "markdown",
   "metadata": {},
   "source": [
    "### Fitting time vs. Neighbor size "
   ]
  },
  {
   "cell_type": "code",
   "execution_count": 13,
   "metadata": {},
   "outputs": [
    {
     "data": {
      "text/plain": [
       "<matplotlib.axes._subplots.AxesSubplot at 0x106ff50f0>"
      ]
     },
     "execution_count": 13,
     "metadata": {},
     "output_type": "execute_result"
    },
    {
     "data": {
      "image/png": "[encoded data removed]",
      "text/plain": [
       "<Figure size 432x288 with 1 Axes>"
      ]
     },
     "metadata": {},
     "output_type": "display_data"
    }
   ],
   "source": [
    "plt.title(\"the change of run-time of Knn (Self-Implementation) over neighbor size\")\n",
    "plt.xlabel(\"neighbor size\")\n",
    "plt.ylabel(\"time\")\n",
    "sns.lineplot(neighbor_size, knn_time, palette=\"tab10\")"
   ]
  },
  {
   "cell_type": "markdown",
   "metadata": {},
   "source": [
    "The running time increases as k increases."
   ]
  },
  {
   "cell_type": "markdown",
   "metadata": {},
   "source": [
    "### Mean_Absolute _Error (MAE) & Root Mean Squared Error (RMSE)\n",
    "#### Primary accuracy metric : MAE"
   ]
  },
  {
   "cell_type": "code",
   "execution_count": 14,
   "metadata": {},
   "outputs": [
    {
     "data": {
      "text/plain": [
       "<matplotlib.axes._subplots.AxesSubplot at 0x1a0e50fef0>"
      ]
     },
     "execution_count": 14,
     "metadata": {},
     "output_type": "execute_result"
    },
    {
     "data": {
      "image/png": "[encoded data removed]",
      "text/plain": [
       "<Figure size 432x288 with 1 Axes>"
      ]
     },
     "metadata": {},
     "output_type": "display_data"
    }
   ],
   "source": [
    "Knn_MAE = pd.DataFrame(np.column_stack([knn_test_mae, knn_train_mae]),columns=['Knn_test_MAE', 'Knn_train_MAE'])\n",
    "Knn_MAE.index = neighbor_size\n",
    "plt.title(\"the change of MAE of Knn (Self-Implementation) over neighbor size\")\n",
    "plt.xlabel(\"neighbor size\")\n",
    "plt.ylabel(\"MAE\")\n",
    "sns.lineplot(data = Knn_MAE, palette=\"tab10\")"
   ]
  },
  {
   "cell_type": "markdown",
   "metadata": {},
   "source": [
    "Observation :\n",
    "The MAE of both train and test data increase as the neighbor size increases."
   ]
  },
  {
   "cell_type": "markdown",
   "metadata": {},
   "source": [
    "#### Secondary accuracy metric: RMSE"
   ]
  },
  {
   "cell_type": "code",
   "execution_count": 15,
   "metadata": {},
   "outputs": [
    {
     "data": {
      "text/plain": [
       "<matplotlib.axes._subplots.AxesSubplot at 0x1a0d580208>"
      ]
     },
     "execution_count": 15,
     "metadata": {},
     "output_type": "execute_result"
    },
    {
     "data": {
      "image/png": "[encoded data removed]",
      "text/plain": [
       "<Figure size 432x288 with 1 Axes>"
      ]
     },
     "metadata": {},
     "output_type": "display_data"
    }
   ],
   "source": [
    "Knn_RMSE = pd.DataFrame(np.column_stack([knn_test_rmse, knn_train_rmse]),columns=['Knn_test_RMSE', 'Knn_train_RMSE'])\n",
    "Knn_RMSE.index = neighbor_size\n",
    "plt.title(\"the change of RMSE of Knn (Self-Implementation) over neighbor size\")\n",
    "plt.xlabel(\"neighbor size\")\n",
    "plt.ylabel(\"RMSE\")\n",
    "sns.lineplot(data = Knn_RMSE, palette=\"tab10\")"
   ]
  },
  {
   "cell_type": "markdown",
   "metadata": {},
   "source": [
    "Observation :\n",
    "The RMSE of both train and test data increase as the neighbor size increases."
   ]
  },
  {
   "cell_type": "markdown",
   "metadata": {},
   "source": [
    "### How does Data size impact the accuracy of KNN (Self-implement)?"
   ]
  },
  {
   "cell_type": "code",
   "execution_count": 16,
   "metadata": {
    "scrolled": false
   },
   "outputs": [
    {
     "name": "stdout",
     "output_type": "stream",
     "text": [
      "[[0.7004784465084581, 0.9078555893471607, 0.7092094129663409, 0.919290912746671, 2.5565997123718263]]\n",
      "[[0.7004784465084581, 0.9078555893471607, 0.7092094129663409, 0.919290912746671, 2.5565997123718263], [0.6908171051190074, 0.8969130423569505, 0.700216660724117, 0.9082978780273601, 5.623656606674194]]\n",
      "[[0.7004784465084581, 0.9078555893471607, 0.7092094129663409, 0.919290912746671, 2.5565997123718263], [0.6908171051190074, 0.8969130423569505, 0.700216660724117, 0.9082978780273601, 5.623656606674194], [0.6912403938506839, 0.8954881550282213, 0.7005338493702157, 0.9062789993328021, 8.19752058982849]]\n",
      "[[0.7004784465084581, 0.9078555893471607, 0.7092094129663409, 0.919290912746671, 2.5565997123718263], [0.6908171051190074, 0.8969130423569505, 0.700216660724117, 0.9082978780273601, 5.623656606674194], [0.6912403938506839, 0.8954881550282213, 0.7005338493702157, 0.9062789993328021, 8.19752058982849], [0.6920400459225289, 0.8967619305631181, 0.7016953004015122, 0.908503908672837, 10.692498540878296]]\n",
      "[[0.7004784465084581, 0.9078555893471607, 0.7092094129663409, 0.919290912746671, 2.5565997123718263], [0.6908171051190074, 0.8969130423569505, 0.700216660724117, 0.9082978780273601, 5.623656606674194], [0.6912403938506839, 0.8954881550282213, 0.7005338493702157, 0.9062789993328021, 8.19752058982849], [0.6920400459225289, 0.8967619305631181, 0.7016953004015122, 0.908503908672837, 10.692498540878296], [0.6864997795421047, 0.8930729257891145, 0.6956023032473967, 0.9038377848382189, 13.294723606109619]]\n"
     ]
    }
   ],
   "source": [
    "knn_size_result=[]\n",
    "for n in new_size:\n",
    "    knn_size_result.append(knn_cv(5,size=n))"
   ]
  },
  {
   "cell_type": "code",
   "execution_count": 21,
   "metadata": {},
   "outputs": [
    {
     "data": {
      "text/plain": [
       "[[0.7004784465084581,\n",
       "  0.9078555893471607,\n",
       "  0.7092094129663409,\n",
       "  0.919290912746671,\n",
       "  2.5565997123718263],\n",
       " [0.6908171051190074,\n",
       "  0.8969130423569505,\n",
       "  0.700216660724117,\n",
       "  0.9082978780273601,\n",
       "  5.623656606674194],\n",
       " [0.6912403938506839,\n",
       "  0.8954881550282213,\n",
       "  0.7005338493702157,\n",
       "  0.9062789993328021,\n",
       "  8.19752058982849],\n",
       " [0.6920400459225289,\n",
       "  0.8967619305631181,\n",
       "  0.7016953004015122,\n",
       "  0.908503908672837,\n",
       "  10.692498540878296],\n",
       " [0.6864997795421047,\n",
       "  0.8930729257891145,\n",
       "  0.6956023032473967,\n",
       "  0.9038377848382189,\n",
       "  13.294723606109619]]"
      ]
     },
     "execution_count": 21,
     "metadata": {},
     "output_type": "execute_result"
    }
   ],
   "source": [
    "knn_size_result"
   ]
  },
  {
   "cell_type": "code",
   "execution_count": 27,
   "metadata": {},
   "outputs": [],
   "source": [
    "knn_train_mae=[]\n",
    "knn_train_rmse=[]\n",
    "knn_test_mae=[]\n",
    "knn_test_rmse=[]\n",
    "knn_time=[]\n",
    "for i in range(0,len(knn_size_result)):\n",
    "    knn_train_mae.append(knn_size_result[i][0])\n",
    "    knn_train_rmse.append(knn_size_result[i][1])\n",
    "    knn_test_mae.append(knn_size_result[i][2])\n",
    "    knn_test_rmse.append(knn_size_result[i][3])\n",
    "    knn_time.append(knn_size_result[i][4])"
   ]
  },
  {
   "cell_type": "code",
   "execution_count": 28,
   "metadata": {
    "scrolled": true
   },
   "outputs": [
    {
     "data": {
      "text/plain": [
       "<matplotlib.axes._subplots.AxesSubplot at 0x106f82828>"
      ]
     },
     "execution_count": 28,
     "metadata": {},
     "output_type": "execute_result"
    },
    {
     "data": {
      "image/png": "[encoded data removed]",
      "text/plain": [
       "<Figure size 432x288 with 1 Axes>"
      ]
     },
     "metadata": {},
     "output_type": "display_data"
    }
   ],
   "source": [
    "Knn_newsize_metrics = pd.DataFrame(np.column_stack([knn_test_mae, knn_train_mae,knn_test_rmse, knn_train_rmse]),\n",
    "                   columns=['Knn_test_MAE', 'Knn_train_MAE','Knn_test_RMSE', 'Knn_train_RMSE'])\n",
    "Knn_newsize_metrics.index = new_size\n",
    "plt.title(\"the evaluation metrics change when changing model size\")\n",
    "plt.xlabel(\"model size\")\n",
    "plt.ylabel(\"evaluation metrics\")\n",
    "sns.lineplot(data = Knn_newsize_metrics, palette=\"tab10\")"
   ]
  },
  {
   "cell_type": "markdown",
   "metadata": {},
   "source": [
    "The MAE and RMSE go down as sample sizes increases. "
   ]
  },
  {
   "cell_type": "markdown",
   "metadata": {},
   "source": [
    "### How does sample size impact the run-time of KNN (self-implement)?"
   ]
  },
  {
   "cell_type": "code",
   "execution_count": 29,
   "metadata": {},
   "outputs": [
    {
     "data": {
      "text/plain": [
       "<matplotlib.axes._subplots.AxesSubplot at 0x1a0db48a90>"
      ]
     },
     "execution_count": 29,
     "metadata": {},
     "output_type": "execute_result"
    },
    {
     "data": {
      "image/png": "[encoded data removed]",
      "text/plain": [
       "<Figure size 432x288 with 1 Axes>"
      ]
     },
     "metadata": {},
     "output_type": "display_data"
    }
   ],
   "source": [
    "Knn_newsize_time = pd.DataFrame(knn_time,columns=['Knn_time'])\n",
    "Knn_newsize_time.index = new_size\n",
    "plt.title(\"the run-time change when changing model size\")\n",
    "plt.xlabel(\"model size\")\n",
    "plt.ylabel(\"run-time\")\n",
    "sns.lineplot(data = Knn_newsize_time, palette=\"tab10\")"
   ]
  },
  {
   "cell_type": "markdown",
   "metadata": {},
   "source": [
    "The fitting time goes up as the sample size going up."
   ]
  },
  {
   "cell_type": "markdown",
   "metadata": {},
   "source": [
    "## KNN by surprise with baseline added"
   ]
  },
  {
   "cell_type": "code",
   "execution_count": 30,
   "metadata": {
    "scrolled": true
   },
   "outputs": [
    {
     "name": "stdout",
     "output_type": "stream",
     "text": [
      "Estimating biases using als...\n",
      "Computing the msd similarity matrix...\n",
      "Done computing similarity matrix.\n",
      "Estimating biases using als...\n",
      "Computing the msd similarity matrix...\n",
      "Done computing similarity matrix.\n",
      "Estimating biases using als...\n",
      "Computing the msd similarity matrix...\n",
      "Done computing similarity matrix.\n",
      "Estimating biases using als...\n",
      "Computing the msd similarity matrix...\n",
      "Done computing similarity matrix.\n",
      "Estimating biases using als...\n",
      "Computing the msd similarity matrix...\n",
      "Done computing similarity matrix.\n",
      "Estimating biases using als...\n",
      "Computing the msd similarity matrix...\n",
      "Done computing similarity matrix.\n",
      "Estimating biases using als...\n",
      "Computing the msd similarity matrix...\n",
      "Done computing similarity matrix.\n",
      "Estimating biases using als...\n",
      "Computing the msd similarity matrix...\n",
      "Done computing similarity matrix.\n",
      "Estimating biases using als...\n",
      "Computing the msd similarity matrix...\n",
      "Done computing similarity matrix.\n",
      "Estimating biases using als...\n",
      "Computing the msd similarity matrix...\n",
      "Done computing similarity matrix.\n",
      "Evaluating RMSE, MAE of algorithm KNNBaseline on 10 split(s).\n",
      "\n",
      "                  Fold 1  Fold 2  Fold 3  Fold 4  Fold 5  Fold 6  Fold 7  Fold 8  Fold 9  Fold 10 Mean    Std     \n",
      "RMSE (testset)    0.8699  0.8646  0.8794  0.8751  0.8584  0.8806  0.8748  0.8708  0.8563  0.8619  0.8692  0.0081  \n",
      "MAE (testset)     0.6598  0.6621  0.6690  0.6689  0.6563  0.6727  0.6719  0.6649  0.6563  0.6585  0.6640  0.0060  \n",
      "RMSE (trainset)   0.6785  0.6781  0.6766  0.6770  0.6788  0.6770  0.6774  0.6775  0.6786  0.6777  0.6777  0.0007  \n",
      "MAE (trainset)    0.5051  0.5045  0.5037  0.5038  0.5051  0.5037  0.5038  0.5040  0.5048  0.5044  0.5043  0.0005  \n",
      "Fit time          0.41    0.41    0.35    0.34    0.34    0.38    0.34    0.41    0.39    0.34    0.37    0.03    \n",
      "Test time         0.85    0.86    0.87    0.91    0.86    0.80    0.91    0.78    0.84    0.85    0.85    0.04    \n",
      "Estimating biases using als...\n",
      "Computing the msd similarity matrix...\n",
      "Done computing similarity matrix.\n",
      "Estimating biases using als...\n",
      "Computing the msd similarity matrix...\n",
      "Done computing similarity matrix.\n",
      "Estimating biases using als...\n",
      "Computing the msd similarity matrix...\n",
      "Done computing similarity matrix.\n",
      "Estimating biases using als...\n",
      "Computing the msd similarity matrix...\n",
      "Done computing similarity matrix.\n",
      "Estimating biases using als...\n",
      "Computing the msd similarity matrix...\n",
      "Done computing similarity matrix.\n",
      "Estimating biases using als...\n",
      "Computing the msd similarity matrix...\n",
      "Done computing similarity matrix.\n",
      "Estimating biases using als...\n",
      "Computing the msd similarity matrix...\n",
      "Done computing similarity matrix.\n",
      "Estimating biases using als...\n",
      "Computing the msd similarity matrix...\n",
      "Done computing similarity matrix.\n",
      "Estimating biases using als...\n",
      "Computing the msd similarity matrix...\n",
      "Done computing similarity matrix.\n",
      "Estimating biases using als...\n",
      "Computing the msd similarity matrix...\n",
      "Done computing similarity matrix.\n",
      "Evaluating RMSE, MAE of algorithm KNNBaseline on 10 split(s).\n",
      "\n",
      "                  Fold 1  Fold 2  Fold 3  Fold 4  Fold 5  Fold 6  Fold 7  Fold 8  Fold 9  Fold 10 Mean    Std     \n",
      "RMSE (testset)    0.8611  0.8648  0.8742  0.8676  0.8802  0.8811  0.8609  0.8740  0.8785  0.8552  0.8698  0.0086  \n",
      "MAE (testset)     0.6553  0.6607  0.6693  0.6632  0.6719  0.6723  0.6598  0.6676  0.6724  0.6528  0.6645  0.0068  \n",
      "RMSE (trainset)   0.6899  0.6902  0.6887  0.6901  0.6888  0.6892  0.6902  0.6888  0.6893  0.6905  0.6896  0.0007  \n",
      "MAE (trainset)    0.5138  0.5138  0.5128  0.5134  0.5126  0.5130  0.5135  0.5126  0.5131  0.5137  0.5132  0.0004  \n",
      "Fit time          0.33    0.39    0.36    0.40    0.35    0.38    0.36    0.38    0.35    0.35    0.36    0.02    \n",
      "Test time         0.96    0.82    0.86    0.84    0.96    0.94    0.92    0.88    0.90    0.90    0.90    0.05    \n",
      "Estimating biases using als...\n",
      "Computing the msd similarity matrix...\n",
      "Done computing similarity matrix.\n",
      "Estimating biases using als...\n",
      "Computing the msd similarity matrix...\n",
      "Done computing similarity matrix.\n",
      "Estimating biases using als...\n",
      "Computing the msd similarity matrix...\n",
      "Done computing similarity matrix.\n",
      "Estimating biases using als...\n",
      "Computing the msd similarity matrix...\n",
      "Done computing similarity matrix.\n",
      "Estimating biases using als...\n",
      "Computing the msd similarity matrix...\n",
      "Done computing similarity matrix.\n",
      "Estimating biases using als...\n",
      "Computing the msd similarity matrix...\n",
      "Done computing similarity matrix.\n",
      "Estimating biases using als...\n",
      "Computing the msd similarity matrix...\n",
      "Done computing similarity matrix.\n",
      "Estimating biases using als...\n",
      "Computing the msd similarity matrix...\n",
      "Done computing similarity matrix.\n",
      "Estimating biases using als...\n",
      "Computing the msd similarity matrix...\n",
      "Done computing similarity matrix.\n",
      "Estimating biases using als...\n",
      "Computing the msd similarity matrix...\n",
      "Done computing similarity matrix.\n",
      "Evaluating RMSE, MAE of algorithm KNNBaseline on 10 split(s).\n",
      "\n",
      "                  Fold 1  Fold 2  Fold 3  Fold 4  Fold 5  Fold 6  Fold 7  Fold 8  Fold 9  Fold 10 Mean    Std     \n",
      "RMSE (testset)    0.8813  0.8722  0.8676  0.8732  0.8671  0.8583  0.8701  0.8691  0.8692  0.8704  0.8698  0.0054  \n",
      "MAE (testset)     0.6745  0.6637  0.6628  0.6665  0.6620  0.6596  0.6673  0.6653  0.6624  0.6643  0.6648  0.0039  \n",
      "RMSE (trainset)   0.6949  0.6961  0.6965  0.6962  0.6964  0.6976  0.6969  0.6967  0.6963  0.6966  0.6964  0.0007  \n",
      "MAE (trainset)    0.5173  0.5183  0.5183  0.5180  0.5185  0.5193  0.5185  0.5184  0.5190  0.5188  0.5184  0.0005  \n",
      "Fit time          0.34    0.42    0.42    0.42    0.35    0.41    0.34    0.35    0.34    0.35    0.37    0.04    \n",
      "Test time         0.93    0.88    1.00    0.97    0.94    0.94    0.93    0.97    0.95    0.94    0.95    0.03    \n",
      "Estimating biases using als...\n",
      "Computing the msd similarity matrix...\n",
      "Done computing similarity matrix.\n",
      "Estimating biases using als...\n",
      "Computing the msd similarity matrix...\n",
      "Done computing similarity matrix.\n",
      "Estimating biases using als...\n",
      "Computing the msd similarity matrix...\n",
      "Done computing similarity matrix.\n",
      "Estimating biases using als...\n",
      "Computing the msd similarity matrix...\n",
      "Done computing similarity matrix.\n",
      "Estimating biases using als...\n",
      "Computing the msd similarity matrix...\n",
      "Done computing similarity matrix.\n",
      "Estimating biases using als...\n",
      "Computing the msd similarity matrix...\n",
      "Done computing similarity matrix.\n",
      "Estimating biases using als...\n",
      "Computing the msd similarity matrix...\n",
      "Done computing similarity matrix.\n",
      "Estimating biases using als...\n",
      "Computing the msd similarity matrix...\n",
      "Done computing similarity matrix.\n",
      "Estimating biases using als...\n",
      "Computing the msd similarity matrix...\n",
      "Done computing similarity matrix.\n",
      "Estimating biases using als...\n",
      "Computing the msd similarity matrix...\n",
      "Done computing similarity matrix.\n",
      "Evaluating RMSE, MAE of algorithm KNNBaseline on 10 split(s).\n",
      "\n",
      "                  Fold 1  Fold 2  Fold 3  Fold 4  Fold 5  Fold 6  Fold 7  Fold 8  Fold 9  Fold 10 Mean    Std     \n",
      "RMSE (testset)    0.8723  0.8785  0.8712  0.8689  0.8652  0.8811  0.8604  0.8626  0.8755  0.8734  0.8709  0.0064  \n",
      "MAE (testset)     0.6676  0.6706  0.6673  0.6596  0.6613  0.6746  0.6591  0.6627  0.6703  0.6637  0.6657  0.0049  \n",
      "RMSE (trainset)   0.7006  0.7001  0.7010  0.7005  0.7015  0.6996  0.7013  0.7016  0.7007  0.7011  0.7008  0.0006  \n",
      "MAE (trainset)    0.5217  0.5215  0.5218  0.5216  0.5222  0.5211  0.5221  0.5222  0.5216  0.5223  0.5218  0.0004  \n",
      "Fit time          0.40    0.35    0.41    0.33    0.40    0.39    0.40    0.42    0.36    0.34    0.38    0.03    \n",
      "Test time         0.99    0.97    0.90    0.91    0.90    0.99    1.00    0.92    0.95    0.92    0.95    0.04    \n"
     ]
    }
   ],
   "source": [
    "Knn_time = []\n",
    "Knn_train_MAE=[]\n",
    "Knn_test_MAE=[]\n",
    "Knn_train_RMSE=[]\n",
    "Knn_test_RMSE=[]\n",
    "\n",
    "for k in neighbor_size:    \n",
    "    algo=KNNBaseline(k=k)\n",
    "    c_v=cross_validate(algo, data,cv=10, verbose=True,return_train_measures =True)\n",
    "    Knn_time.append(np.mean(c_v['fit_time']))\n",
    "    Knn_train_MAE.append(np.mean(c_v['train_mae']))\n",
    "    Knn_test_MAE.append(np.mean(c_v['test_mae']))\n",
    "    Knn_train_RMSE.append(np.mean(c_v['train_rmse']))\n",
    "    Knn_test_RMSE.append(np.mean(c_v['test_rmse']))\n",
    "knn_result=[Knn_time,Knn_train_MAE,Knn_test_MAE,Knn_train_RMSE,Knn_test_RMSE]  "
   ]
  },
  {
   "cell_type": "markdown",
   "metadata": {},
   "source": [
    "## Evaluate Knn by surprise\n",
    "### Fitting time vs. Neighbor size "
   ]
  },
  {
   "cell_type": "code",
   "execution_count": 32,
   "metadata": {},
   "outputs": [
    {
     "data": {
      "text/plain": [
       "<matplotlib.axes._subplots.AxesSubplot at 0x1a0e670198>"
      ]
     },
     "execution_count": 32,
     "metadata": {},
     "output_type": "execute_result"
    },
    {
     "data": {
      "image/png": "[encoded data removed]",
      "text/plain": [
       "<Figure size 432x288 with 1 Axes>"
      ]
     },
     "metadata": {},
     "output_type": "display_data"
    }
   ],
   "source": [
    "plt.title(\"the change of run-time of Knn with surprise over neighbor size\")\n",
    "plt.xlabel(\"neighbor size\")\n",
    "plt.ylabel(\"time\")\n",
    "sns.lineplot(neighbor_size, Knn_time, palette=\"tab10\")"
   ]
  },
  {
   "cell_type": "markdown",
   "metadata": {},
   "source": [
    "As shown above, when k is around 55, the fitting time is highest, meaning that the model is most complex at this neighbor size. The lowest fitting time is at k =75 approximately. While the run time of KNN without baseline is monotonically increasing by the increment of k. \n"
   ]
  },
  {
   "cell_type": "markdown",
   "metadata": {},
   "source": [
    "### Mean_Absolute _Error (MAE) & Root Mean Squared Error (RMSE)"
   ]
  },
  {
   "cell_type": "markdown",
   "metadata": {},
   "source": [
    "#### Primary accuracy metric : MAE"
   ]
  },
  {
   "cell_type": "code",
   "execution_count": 33,
   "metadata": {},
   "outputs": [
    {
     "data": {
      "text/plain": [
       "<matplotlib.axes._subplots.AxesSubplot at 0x1a1cfd7c18>"
      ]
     },
     "execution_count": 33,
     "metadata": {},
     "output_type": "execute_result"
    },
    {
     "data": {
      "image/png": "[encoded data removed]",
      "text/plain": [
       "<Figure size 432x288 with 1 Axes>"
      ]
     },
     "metadata": {},
     "output_type": "display_data"
    }
   ],
   "source": [
    "Knn_MAE = pd.DataFrame(np.column_stack([Knn_test_MAE, Knn_train_MAE]),columns=['Knn_test_MAE', 'Knn_train_MAE'])\n",
    "Knn_MAE.index = neighbor_size\n",
    "plt.title(\"the change of MAE of Knn with own algo over neighbor size\")\n",
    "plt.xlabel(\"neighbor size\")\n",
    "plt.ylabel(\"MAE\")\n",
    "sns.lineplot(data = Knn_MAE, palette=\"tab10\")"
   ]
  },
  {
   "cell_type": "markdown",
   "metadata": {},
   "source": [
    "The MAE is around 0.67 and it changes little by the increment of neighbor size."
   ]
  },
  {
   "cell_type": "markdown",
   "metadata": {
    "scrolled": true
   },
   "source": [
    "#### Secondary accuracy metric: RMSE"
   ]
  },
  {
   "cell_type": "code",
   "execution_count": 34,
   "metadata": {},
   "outputs": [
    {
     "data": {
      "text/plain": [
       "<matplotlib.axes._subplots.AxesSubplot at 0x1a1d33f518>"
      ]
     },
     "execution_count": 34,
     "metadata": {},
     "output_type": "execute_result"
    },
    {
     "data": {
      "image/png": "[encoded data removed]",
      "text/plain": [
       "<Figure size 432x288 with 1 Axes>"
      ]
     },
     "metadata": {},
     "output_type": "display_data"
    }
   ],
   "source": [
    "Knn_RMSE = pd.DataFrame(np.column_stack([Knn_test_RMSE, Knn_train_RMSE]),columns=['Knn_test_RMSE', 'Knn_train_RMSE'])\n",
    "Knn_RMSE.index = neighbor_size\n",
    "plt.title(\"the change of RMSE of Knn with own algo over neighbor size\")\n",
    "plt.xlabel(\"neighbor size\")\n",
    "plt.ylabel(\"RMSE\")\n",
    "sns.lineplot(data = Knn_RMSE, palette=\"tab10\")"
   ]
  },
  {
   "cell_type": "markdown",
   "metadata": {},
   "source": [
    "The RMSE is around 0.873 and it changes little by the increment of neighbor size."
   ]
  },
  {
   "cell_type": "markdown",
   "metadata": {},
   "source": [
    "#### The comparison of MAE and RMSE:\n",
    "\n",
    "1. Since the errors are squared before taking averages, some large errors would be given higher weights. When large errors are undesirable, using RMSE to eveluate the model would be useful. RMSE increases with the variance of the frequency distribution of error magnitudes.\n",
    "\n",
    "2. RMSE has a tendency to be increasingly larger than MAE as the test sample size increases. So this is a problem when comparing RMSE computed from different test sample sizes. \n",
    "\n",
    "#### The results of MAE and RMSE for our model:\n",
    "We can use both MAE and RMSE to eveluate the model.\n",
    "\n",
    "As the plot showing, MAE is much less than RMSE, which is normal. This also indicates that there are some large error outliers of the results. \n",
    "\n",
    "The large errors in the results means that our recommender predict completely wrong rating scores so that some users would get recommendations on movies that they don't like, which is unexpected from us. In this case, there is a approximately 0.2 difference between MAE and RMSE, which indicates that there is about 20% variance in the individual errors in the sample.\n",
    "\n",
    "\n"
   ]
  },
  {
   "cell_type": "markdown",
   "metadata": {},
   "source": [
    "### How  does Data size impact the accuracy of KNN (by Surprise)?\n",
    "\n",
    "Now we are trying to test how this model changes by the input data size.\n",
    "\n"
   ]
  },
  {
   "cell_type": "code",
   "execution_count": 35,
   "metadata": {},
   "outputs": [
    {
     "name": "stdout",
     "output_type": "stream",
     "text": [
      "Estimating biases using als...\n",
      "Computing the msd similarity matrix...\n",
      "Done computing similarity matrix.\n",
      "Estimating biases using als...\n",
      "Computing the msd similarity matrix...\n",
      "Done computing similarity matrix.\n",
      "Estimating biases using als...\n",
      "Computing the msd similarity matrix...\n",
      "Done computing similarity matrix.\n",
      "Estimating biases using als...\n",
      "Computing the msd similarity matrix...\n",
      "Done computing similarity matrix.\n",
      "Estimating biases using als...\n",
      "Computing the msd similarity matrix...\n",
      "Done computing similarity matrix.\n",
      "Estimating biases using als...\n",
      "Computing the msd similarity matrix...\n",
      "Done computing similarity matrix.\n",
      "Estimating biases using als...\n",
      "Computing the msd similarity matrix...\n",
      "Done computing similarity matrix.\n",
      "Estimating biases using als...\n",
      "Computing the msd similarity matrix...\n",
      "Done computing similarity matrix.\n",
      "Estimating biases using als...\n",
      "Computing the msd similarity matrix...\n",
      "Done computing similarity matrix.\n",
      "Estimating biases using als...\n",
      "Computing the msd similarity matrix...\n",
      "Done computing similarity matrix.\n",
      "Estimating biases using als...\n",
      "Computing the msd similarity matrix...\n",
      "Done computing similarity matrix.\n",
      "Estimating biases using als...\n",
      "Computing the msd similarity matrix...\n",
      "Done computing similarity matrix.\n",
      "Estimating biases using als...\n",
      "Computing the msd similarity matrix...\n",
      "Done computing similarity matrix.\n",
      "Estimating biases using als...\n",
      "Computing the msd similarity matrix...\n",
      "Done computing similarity matrix.\n",
      "Estimating biases using als...\n",
      "Computing the msd similarity matrix...\n",
      "Done computing similarity matrix.\n",
      "Estimating biases using als...\n",
      "Computing the msd similarity matrix...\n",
      "Done computing similarity matrix.\n",
      "Estimating biases using als...\n",
      "Computing the msd similarity matrix...\n",
      "Done computing similarity matrix.\n",
      "Estimating biases using als...\n",
      "Computing the msd similarity matrix...\n",
      "Done computing similarity matrix.\n",
      "Estimating biases using als...\n",
      "Computing the msd similarity matrix...\n",
      "Done computing similarity matrix.\n",
      "Estimating biases using als...\n",
      "Computing the msd similarity matrix...\n",
      "Done computing similarity matrix.\n"
     ]
    }
   ],
   "source": [
    "#gridient search for optimal K value\n",
    "param_grid = {'k': neighbor_size}\n",
    "knn_gs=GridSearchCV(KNNBaseline,param_grid)\n",
    "knn_gs.fit(data)\n",
    "\n",
    "bestk = knn_gs.best_params['mae']['k']"
   ]
  },
  {
   "cell_type": "code",
   "execution_count": 36,
   "metadata": {},
   "outputs": [
    {
     "name": "stdout",
     "output_type": "stream",
     "text": [
      "Estimating biases using als...\n",
      "Computing the msd similarity matrix...\n",
      "Done computing similarity matrix.\n",
      "Estimating biases using als...\n",
      "Computing the msd similarity matrix...\n",
      "Done computing similarity matrix.\n",
      "Estimating biases using als...\n",
      "Computing the msd similarity matrix...\n",
      "Done computing similarity matrix.\n",
      "Estimating biases using als...\n",
      "Computing the msd similarity matrix...\n",
      "Done computing similarity matrix.\n",
      "Estimating biases using als...\n",
      "Computing the msd similarity matrix...\n",
      "Done computing similarity matrix.\n",
      "Estimating biases using als...\n",
      "Computing the msd similarity matrix...\n",
      "Done computing similarity matrix.\n",
      "Estimating biases using als...\n",
      "Computing the msd similarity matrix...\n",
      "Done computing similarity matrix.\n",
      "Estimating biases using als...\n",
      "Computing the msd similarity matrix...\n",
      "Done computing similarity matrix.\n",
      "Estimating biases using als...\n",
      "Computing the msd similarity matrix...\n",
      "Done computing similarity matrix.\n",
      "Estimating biases using als...\n",
      "Computing the msd similarity matrix...\n",
      "Done computing similarity matrix.\n",
      "Evaluating RMSE, MAE of algorithm KNNBaseline on 10 split(s).\n",
      "\n",
      "                  Fold 1  Fold 2  Fold 3  Fold 4  Fold 5  Fold 6  Fold 7  Fold 8  Fold 9  Fold 10 Mean    Std     \n",
      "RMSE (testset)    0.9667  0.9714  0.9836  1.0028  0.9740  1.0030  0.9795  0.9471  0.9292  1.0016  0.9759  0.0231  \n",
      "MAE (testset)     0.7366  0.7505  0.7592  0.7600  0.7538  0.7649  0.7602  0.7336  0.7119  0.7673  0.7498  0.0165  \n",
      "RMSE (trainset)   0.5006  0.4982  0.4987  0.4981  0.4982  0.4977  0.4984  0.4997  0.4995  0.4983  0.4987  0.0009  \n",
      "MAE (trainset)    0.3629  0.3620  0.3618  0.3628  0.3616  0.3606  0.3604  0.3618  0.3630  0.3614  0.3618  0.0009  \n",
      "Fit time          0.08    0.05    0.06    0.04    0.04    0.04    0.04    0.04    0.04    0.04    0.05    0.01    \n",
      "Test time         0.05    0.05    0.05    0.05    0.04    0.04    0.04    0.04    0.04    0.04    0.04    0.00    \n",
      "Estimating biases using als...\n",
      "Computing the msd similarity matrix...\n",
      "Done computing similarity matrix.\n",
      "Estimating biases using als...\n",
      "Computing the msd similarity matrix...\n",
      "Done computing similarity matrix.\n",
      "Estimating biases using als...\n",
      "Computing the msd similarity matrix...\n",
      "Done computing similarity matrix.\n",
      "Estimating biases using als...\n",
      "Computing the msd similarity matrix...\n",
      "Done computing similarity matrix.\n",
      "Estimating biases using als...\n",
      "Computing the msd similarity matrix...\n",
      "Done computing similarity matrix.\n",
      "Estimating biases using als...\n",
      "Computing the msd similarity matrix...\n",
      "Done computing similarity matrix.\n",
      "Estimating biases using als...\n",
      "Computing the msd similarity matrix...\n",
      "Done computing similarity matrix.\n",
      "Estimating biases using als...\n",
      "Computing the msd similarity matrix...\n",
      "Done computing similarity matrix.\n",
      "Estimating biases using als...\n",
      "Computing the msd similarity matrix...\n",
      "Done computing similarity matrix.\n",
      "Estimating biases using als...\n",
      "Computing the msd similarity matrix...\n",
      "Done computing similarity matrix.\n",
      "Evaluating RMSE, MAE of algorithm KNNBaseline on 10 split(s).\n",
      "\n",
      "                  Fold 1  Fold 2  Fold 3  Fold 4  Fold 5  Fold 6  Fold 7  Fold 8  Fold 9  Fold 10 Mean    Std     \n",
      "RMSE (testset)    0.9087  0.8937  0.9171  0.8882  0.8948  0.9232  0.9337  0.9078  0.9196  0.9240  0.9111  0.0143  \n",
      "MAE (testset)     0.7028  0.6818  0.7067  0.6823  0.6837  0.6967  0.7137  0.6916  0.7136  0.7093  0.6982  0.0121  \n",
      "RMSE (trainset)   0.5948  0.5947  0.5949  0.5953  0.5961  0.5932  0.5936  0.5947  0.5944  0.5936  0.5945  0.0008  \n",
      "MAE (trainset)    0.4336  0.4339  0.4342  0.4346  0.4349  0.4339  0.4332  0.4344  0.4332  0.4330  0.4339  0.0006  \n",
      "Fit time          0.10    0.11    0.11    0.11    0.12    0.11    0.11    0.10    0.11    0.11    0.11    0.00    \n",
      "Test time         0.17    0.17    0.17    0.16    0.16    0.15    0.17    0.16    0.18    0.16    0.16    0.01    \n",
      "Estimating biases using als...\n",
      "Computing the msd similarity matrix...\n",
      "Done computing similarity matrix.\n",
      "Estimating biases using als...\n",
      "Computing the msd similarity matrix...\n",
      "Done computing similarity matrix.\n",
      "Estimating biases using als...\n",
      "Computing the msd similarity matrix...\n",
      "Done computing similarity matrix.\n",
      "Estimating biases using als...\n",
      "Computing the msd similarity matrix...\n",
      "Done computing similarity matrix.\n",
      "Estimating biases using als...\n",
      "Computing the msd similarity matrix...\n",
      "Done computing similarity matrix.\n",
      "Estimating biases using als...\n",
      "Computing the msd similarity matrix...\n",
      "Done computing similarity matrix.\n",
      "Estimating biases using als...\n",
      "Computing the msd similarity matrix...\n",
      "Done computing similarity matrix.\n",
      "Estimating biases using als...\n",
      "Computing the msd similarity matrix...\n",
      "Done computing similarity matrix.\n",
      "Estimating biases using als...\n",
      "Computing the msd similarity matrix...\n",
      "Done computing similarity matrix.\n",
      "Estimating biases using als...\n",
      "Computing the msd similarity matrix...\n",
      "Done computing similarity matrix.\n",
      "Evaluating RMSE, MAE of algorithm KNNBaseline on 10 split(s).\n",
      "\n",
      "                  Fold 1  Fold 2  Fold 3  Fold 4  Fold 5  Fold 6  Fold 7  Fold 8  Fold 9  Fold 10 Mean    Std     \n",
      "RMSE (testset)    0.8999  0.8919  0.8960  0.8970  0.8922  0.8646  0.8692  0.8841  0.9074  0.8878  0.8890  0.0127  \n",
      "MAE (testset)     0.6876  0.6792  0.6855  0.6860  0.6826  0.6611  0.6657  0.6766  0.6917  0.6750  0.6791  0.0093  \n",
      "RMSE (trainset)   0.6343  0.6349  0.6341  0.6336  0.6358  0.6371  0.6369  0.6358  0.6337  0.6366  0.6353  0.0012  \n",
      "MAE (trainset)    0.4665  0.4667  0.4662  0.4660  0.4674  0.4687  0.4679  0.4679  0.4661  0.4679  0.4671  0.0009  \n",
      "Fit time          0.21    0.21    0.20    0.20    0.20    0.19    0.19    0.21    0.21    0.21    0.20    0.01    \n",
      "Test time         0.32    0.33    0.32    0.38    0.32    0.33    0.33    0.37    0.38    0.34    0.34    0.02    \n",
      "Estimating biases using als...\n",
      "Computing the msd similarity matrix...\n",
      "Done computing similarity matrix.\n",
      "Estimating biases using als...\n",
      "Computing the msd similarity matrix...\n",
      "Done computing similarity matrix.\n",
      "Estimating biases using als...\n",
      "Computing the msd similarity matrix...\n",
      "Done computing similarity matrix.\n",
      "Estimating biases using als...\n",
      "Computing the msd similarity matrix...\n",
      "Done computing similarity matrix.\n",
      "Estimating biases using als...\n",
      "Computing the msd similarity matrix...\n",
      "Done computing similarity matrix.\n",
      "Estimating biases using als...\n",
      "Computing the msd similarity matrix...\n",
      "Done computing similarity matrix.\n",
      "Estimating biases using als...\n",
      "Computing the msd similarity matrix...\n",
      "Done computing similarity matrix.\n",
      "Estimating biases using als...\n",
      "Computing the msd similarity matrix...\n",
      "Done computing similarity matrix.\n",
      "Estimating biases using als...\n",
      "Computing the msd similarity matrix...\n",
      "Done computing similarity matrix.\n",
      "Estimating biases using als...\n",
      "Computing the msd similarity matrix...\n",
      "Done computing similarity matrix.\n",
      "Evaluating RMSE, MAE of algorithm KNNBaseline on 10 split(s).\n",
      "\n",
      "                  Fold 1  Fold 2  Fold 3  Fold 4  Fold 5  Fold 6  Fold 7  Fold 8  Fold 9  Fold 10 Mean    Std     \n",
      "RMSE (testset)    0.8808  0.8732  0.8780  0.8955  0.8792  0.8897  0.8846  0.8718  0.8762  0.8624  0.8791  0.0089  \n",
      "MAE (testset)     0.6738  0.6663  0.6724  0.6812  0.6697  0.6775  0.6773  0.6691  0.6711  0.6617  0.6720  0.0055  \n",
      "RMSE (trainset)   0.6628  0.6634  0.6632  0.6611  0.6630  0.6618  0.6624  0.6633  0.6633  0.6640  0.6628  0.0008  \n",
      "MAE (trainset)    0.4905  0.4911  0.4912  0.4898  0.4909  0.4902  0.4902  0.4910  0.4914  0.4918  0.4908  0.0006  \n",
      "Fit time          0.31    0.31    0.27    0.28    0.29    0.31    0.30    0.32    0.34    0.31    0.31    0.02    \n",
      "Test time         0.57    0.58    0.57    0.59    0.55    0.54    0.55    0.61    0.59    0.54    0.57    0.02    \n",
      "Estimating biases using als...\n",
      "Computing the msd similarity matrix...\n",
      "Done computing similarity matrix.\n",
      "Estimating biases using als...\n",
      "Computing the msd similarity matrix...\n",
      "Done computing similarity matrix.\n",
      "Estimating biases using als...\n",
      "Computing the msd similarity matrix...\n",
      "Done computing similarity matrix.\n",
      "Estimating biases using als...\n",
      "Computing the msd similarity matrix...\n",
      "Done computing similarity matrix.\n",
      "Estimating biases using als...\n",
      "Computing the msd similarity matrix...\n",
      "Done computing similarity matrix.\n",
      "Estimating biases using als...\n",
      "Computing the msd similarity matrix...\n",
      "Done computing similarity matrix.\n"
     ]
    },
    {
     "name": "stdout",
     "output_type": "stream",
     "text": [
      "Estimating biases using als...\n",
      "Computing the msd similarity matrix...\n",
      "Done computing similarity matrix.\n",
      "Estimating biases using als...\n",
      "Computing the msd similarity matrix...\n",
      "Done computing similarity matrix.\n",
      "Estimating biases using als...\n",
      "Computing the msd similarity matrix...\n",
      "Done computing similarity matrix.\n",
      "Estimating biases using als...\n",
      "Computing the msd similarity matrix...\n",
      "Done computing similarity matrix.\n",
      "Evaluating RMSE, MAE of algorithm KNNBaseline on 10 split(s).\n",
      "\n",
      "                  Fold 1  Fold 2  Fold 3  Fold 4  Fold 5  Fold 6  Fold 7  Fold 8  Fold 9  Fold 10 Mean    Std     \n",
      "RMSE (testset)    0.8616  0.8719  0.8596  0.8647  0.8608  0.8734  0.8779  0.8746  0.8829  0.8626  0.8690  0.0078  \n",
      "MAE (testset)     0.6581  0.6641  0.6550  0.6596  0.6628  0.6670  0.6697  0.6676  0.6756  0.6594  0.6639  0.0059  \n",
      "RMSE (trainset)   0.6787  0.6771  0.6786  0.6779  0.6781  0.6771  0.6770  0.6777  0.6765  0.6785  0.6777  0.0007  \n",
      "MAE (trainset)    0.5049  0.5043  0.5051  0.5046  0.5044  0.5038  0.5039  0.5042  0.5032  0.5049  0.5043  0.0006  \n",
      "Fit time          0.40    0.44    0.37    0.39    0.43    0.38    0.39    0.43    0.44    0.44    0.41    0.03    \n",
      "Test time         0.77    0.82    0.79    0.86    0.84    0.87    0.87    0.82    0.85    0.79    0.83    0.03    \n"
     ]
    }
   ],
   "source": [
    "knn_size_effect=[]\n",
    "Knn_time = []\n",
    "Knn_train_MAE=[]\n",
    "Knn_test_MAE=[]\n",
    "Knn_train_RMSE=[]\n",
    "Knn_test_RMSE=[]\n",
    "for n in new_size:\n",
    "    new_df=df.sample(n=n)\n",
    "    data=Dataset.load_from_df(new_df,reader=reader)\n",
    "    algo=KNNBaseline(k=bestk)\n",
    "    c_v=cross_validate(algo, data,cv=10, verbose=True,return_train_measures =True)\n",
    "    Knn_time.append(np.mean(c_v['fit_time']))\n",
    "    Knn_train_MAE.append(np.mean(c_v['train_mae']))\n",
    "    Knn_test_MAE.append(np.mean(c_v['test_mae']))\n",
    "    Knn_train_RMSE.append(np.mean(c_v['train_rmse']))\n",
    "    Knn_test_RMSE.append(np.mean(c_v['test_rmse']))\n",
    "knn_size_effect=[Knn_time,Knn_train_MAE,Knn_test_MAE,Knn_train_RMSE,Knn_test_RMSE]  \n"
   ]
  },
  {
   "cell_type": "code",
   "execution_count": 37,
   "metadata": {
    "scrolled": true
   },
   "outputs": [
    {
     "data": {
      "text/plain": [
       "<matplotlib.axes._subplots.AxesSubplot at 0x1a0e6f5518>"
      ]
     },
     "execution_count": 37,
     "metadata": {},
     "output_type": "execute_result"
    },
    {
     "data": {
      "image/png": "[encoded data removed]",
      "text/plain": [
       "<Figure size 432x288 with 1 Axes>"
      ]
     },
     "metadata": {},
     "output_type": "display_data"
    }
   ],
   "source": [
    "Knn_newsize_metrics = pd.DataFrame(np.column_stack([Knn_test_MAE, Knn_train_MAE,Knn_test_RMSE, Knn_train_RMSE]),\n",
    "                   columns=['Knn_test_MAE', 'Knn_train_MAE','Knn_test_RMSE', 'Knn_train_RMSE'])\n",
    "Knn_newsize_metrics.index = new_size\n",
    "plt.title(\"the evaluation metrics change when changing model size\")\n",
    "plt.xlabel(\"model size\")\n",
    "plt.ylabel(\"evaluation metrics\")\n",
    "sns.lineplot(data = Knn_newsize_metrics, palette=\"tab10\")"
   ]
  },
  {
   "cell_type": "markdown",
   "metadata": {},
   "source": [
    "As the plot showing, the larger the sample size, the less MAE and RMSE.  But the MAE and RMSE of train set becomes larger as sample size increasing. \n",
    "\n",
    "The model overfits the train data when sample size is small. "
   ]
  },
  {
   "cell_type": "markdown",
   "metadata": {},
   "source": [
    "### How does Sample size impact the run-time of KNN (by Surprise)?"
   ]
  },
  {
   "cell_type": "code",
   "execution_count": 38,
   "metadata": {},
   "outputs": [
    {
     "data": {
      "text/plain": [
       "<matplotlib.axes._subplots.AxesSubplot at 0x1a1f9596d8>"
      ]
     },
     "execution_count": 38,
     "metadata": {},
     "output_type": "execute_result"
    },
    {
     "data": {
      "image/png": "[encoded data removed]",
      "text/plain": [
       "<Figure size 432x288 with 1 Axes>"
      ]
     },
     "metadata": {},
     "output_type": "display_data"
    }
   ],
   "source": [
    "Knn_newsize_time = pd.DataFrame(Knn_time,columns=['Knn_time'])\n",
    "Knn_newsize_time.index = new_size\n",
    "plt.title(\"the run-time change when changing model size\")\n",
    "plt.xlabel(\"model size\")\n",
    "plt.ylabel(\"run-time\")\n",
    "sns.lineplot(data = Knn_newsize_time, palette=\"tab10\")"
   ]
  },
  {
   "cell_type": "markdown",
   "metadata": {},
   "source": [
    "The fitting time increases monotonically as sample size getting larger."
   ]
  },
  {
   "cell_type": "markdown",
   "metadata": {},
   "source": [
    "## Conclusions on KNN:\n",
    "\n",
    "* The MAE and RMSE is not bad if we choose a larger data set.\n",
    "* KNN is easy to implement and produce reasonable prediction quality. However, there are some drawback of this approach:\n",
    "\n",
    "     * cold-start problem\n",
    "     * It can't deal with sparse data, meaning it's hard to find users that have rated the same items.\n",
    "     * It tends to recommend popular items.\n"
   ]
  },
  {
   "cell_type": "markdown",
   "metadata": {},
   "source": [
    "## Coverage on training and test data\n"
   ]
  },
  {
   "cell_type": "markdown",
   "metadata": {},
   "source": [
    "We have 610 users, 193609 items and 100836 ratings.\n"
   ]
  },
  {
   "cell_type": "markdown",
   "metadata": {},
   "source": [
    "# Model-Based Collaborative Filtering\n",
    "## NMF(Self-Implementation)"
   ]
  },
  {
   "cell_type": "code",
   "execution_count": 40,
   "metadata": {},
   "outputs": [],
   "source": [
    "def update_matrix_fast(U,V,X_list,gamma_U_params):\n",
    "    #lambda_u -> u_{i,:} -> x_ij <- (v^*)_{j,:} <- lambda_v\n",
    "    #Multiplicative method \n",
    "    A,B = gamma_U_params['a'],gamma_U_params['b']\n",
    "    m,d = U.shape\n",
    "    _,n = V.shape\n",
    "    n_obs = X_list.shape[0]\n",
    "    UV_sp = np.zeros(n_obs)\n",
    "    ind_i = X_list[:,0].astype('int')\n",
    "    ind_j = X_list[:,1].astype('int')\n",
    "    UV_sp = np.sum(U[ind_i,:]*(V[:,ind_j].T),axis=1)\n",
    "    X_UV = spsp.csc_matrix((X_list[:,-1]/UV_sp,(ind_i,ind_j)),shape = (m,n))#gradient\n",
    "    M = spsp.csc_matrix((np.ones(n_obs),(ind_i,ind_j)),shape = (m,n))\n",
    "    part1 = (A+np.multiply(U,(X_UV@(V.T))))\n",
    "    part2 = (A/B+M@(V.T))\n",
    "    U_new = part1/part2\n",
    "    return(U_new)\n",
    "\n",
    "def list_to_mat(data,dims):\n",
    "    #parse data into matrix\n",
    "    m,n = dims\n",
    "    n_obs = len(data[:,0])\n",
    "    out1 = np.zeros((m,n))\n",
    "    out2 = np.zeros((m,n))\n",
    "    for ind in range(n_obs):\n",
    "        i,j = data[ind,:2]\n",
    "        i = int(i)\n",
    "        j = int(j)\n",
    "        out1[i,j] = data[ind,-1]\n",
    "        out2[i,j] = 1   \n",
    "    return(out1,out2)\n",
    "\n",
    "def rand_col_init(X,d):\n",
    "    #random column initialization as given in Langville 2014\n",
    "    m,n = X.shape\n",
    "    shuffled_n = list(range(n))\n",
    "    np.random.shuffle(shuffled_n)\n",
    "    U = np.zeros((m,d))\n",
    "    set_size = int(m/d)\n",
    "    for i in range(d):#shuffle col for U as sum of random cols(of size m/d) in X. This will compress n into d col randomly\n",
    "        try:\n",
    "            U[:,i] = np.sum(X[:,shuffled_n[int(i*set_size):int((i+1)*set_size)]],axis = 1)\n",
    "        except IndexError:\n",
    "            U[:,i] = np.sum(X[:,shuffled_n[int(i*set_size):]],axis = 1)\n",
    "    \n",
    "    for i in range(d):#check if the whole col has 0. replace it of random variable from uniform dist.\n",
    "        bool_slice = U[:,i] == 0\n",
    "        n_neq0 = sum(bool_slice)\n",
    "        U[bool_slice,i] = spst.uniform.rvs(0,5,size = n_neq0)    \n",
    "    return(U)"
   ]
  },
  {
   "cell_type": "code",
   "execution_count": 41,
   "metadata": {},
   "outputs": [],
   "source": [
    "def Poisson_pmf(data,dims,factors,U_params={'a':1,'b':1}, V_params={'a':1,'b':1}, T=100):\n",
    "    m,n = dims\n",
    "    d = factors\n",
    "    n_obs = len(data[:,0])    \n",
    "    data_T = data[:,[1,0,2]]    \n",
    "    mat_data, mat_mask = list_to_mat(data,dims)\n",
    "    U_0=rand_col_init(mat_data,d)\n",
    "    V_0=rand_col_init(mat_data.T,d).T\n",
    "    U = U_0\n",
    "    V = V_0\n",
    "    for t in range(T):        \n",
    "        U = update_matrix_fast(U,V,data,U_params)\n",
    "        V = update_matrix_fast(V.T,U.T,data_T,V_params).T        \n",
    "    return(U,V)"
   ]
  },
  {
   "cell_type": "code",
   "execution_count": 42,
   "metadata": {},
   "outputs": [],
   "source": [
    "def predict(test_set,U,V):\n",
    "    i_obs = test_set[:,0].astype('int')\n",
    "    j_obs = test_set[:,1].astype('int')\n",
    "    UV_obs = np.sum(U[i_obs,:]*V[:,j_obs].T,axis=1)\n",
    "    diff = (test_set[:,-1]-UV_obs)\n",
    "    return(np.mean(np.abs(diff)),(np.mean(diff**2))**0.5)\n",
    "\n",
    "def nmf_cv(n_splits=5,factors=15,size=origin_size):\n",
    "    df=pd.read_csv('./ml-latest-small/ratings.csv')\n",
    "    df=df.iloc[:size]\n",
    "    ratings = df.values\n",
    "    m,n = int(ratings[:,0].max()+1),int(ratings[:,1].max()+1)\n",
    "    kf = KFold(n_splits = n_splits, shuffle = True, random_state = 1)\n",
    "    nmf_train_mae=[]\n",
    "    nmf_train_mrse=[]\n",
    "    nmf_test_mae=[]\n",
    "    nmf_test_mrse=[]\n",
    "    nmf_time=[]\n",
    "    for  tr,ts in kf.split(df):\n",
    "        start = tm.time()\n",
    "        train=df.iloc[tr].values\n",
    "        test=df.iloc[ts].values\n",
    "        train[:,:2] -= 1\n",
    "        train = train[:,:-1]\n",
    "        test[:,:2] -= 1\n",
    "        test = test[:,:-1]\n",
    "        U,V=Poisson_pmf(train,(m,n),factors,T=100)\n",
    "        ts_mae,ts_mrse=predict(test,U,V)\n",
    "        tr_mae,tr_mrse=predict(train,U,V)\n",
    "        end = tm.time()\n",
    "        nmf_train_mae.append(tr_mae)\n",
    "        nmf_train_mrse.append(tr_mrse)\n",
    "        nmf_test_mae.append(ts_mae)\n",
    "        nmf_test_mrse.append(ts_mrse)\n",
    "        nmf_time.append(end-start)\n",
    "    return [np.mean(nmf_train_mae),np.mean(nmf_train_mrse),\n",
    "            np.mean(nmf_test_mae),np.mean(nmf_test_mrse),\n",
    "            np.mean(nmf_time)]"
   ]
  },
  {
   "cell_type": "code",
   "execution_count": 11,
   "metadata": {},
   "outputs": [],
   "source": [
    "latent_dimensions=np.arange(2,20,5)\n",
    "nmf_result=[]\n",
    "for d in latent_dimensions:\n",
    "    nmf_result.append(nmf_cv(factors=d))"
   ]
  },
  {
   "cell_type": "code",
   "execution_count": 12,
   "metadata": {
    "scrolled": true
   },
   "outputs": [
    {
     "data": {
      "text/plain": [
       "[[0.5889375409692416,\n",
       "  0.7723765017214592,\n",
       "  0.6742074474795985,\n",
       "  0.88023950643188,\n",
       "  4.036520719528198],\n",
       " [0.5409264984771827,\n",
       "  0.7061217098435877,\n",
       "  0.6735395677908395,\n",
       "  0.8822570375542412,\n",
       "  7.216719388961792],\n",
       " [0.5552511439577368,\n",
       "  0.7299650872423525,\n",
       "  0.6702769440652661,\n",
       "  0.8803789889562538,\n",
       "  10.391195964813232],\n",
       " [0.5938639065012299,\n",
       "  0.7826008433495002,\n",
       "  0.6809962875303553,\n",
       "  0.8968260760772571,\n",
       "  13.51186203956604]]"
      ]
     },
     "execution_count": 12,
     "metadata": {},
     "output_type": "execute_result"
    }
   ],
   "source": [
    "nmf_result"
   ]
  },
  {
   "cell_type": "markdown",
   "metadata": {},
   "source": [
    "## Evaluate NMF (Self-Implementation)"
   ]
  },
  {
   "cell_type": "code",
   "execution_count": 15,
   "metadata": {},
   "outputs": [],
   "source": [
    "nmf_train_mae=[]\n",
    "nmf_train_rmse=[]\n",
    "nmf_test_mae=[]\n",
    "nmf_test_rmse=[]\n",
    "nmf_time=[]\n",
    "for i in range(0,len(nmf_result)):\n",
    "    nmf_train_mae.append(nmf_result[i][0])\n",
    "    nmf_train_rmse.append(nmf_result[i][1])\n",
    "    nmf_test_mae.append(nmf_result[i][2])\n",
    "    nmf_test_rmse.append(nmf_result[i][3])\n",
    "    nmf_time.append(nmf_result[i][4])"
   ]
  },
  {
   "cell_type": "markdown",
   "metadata": {},
   "source": [
    "### Fitting time vs. latent dimensions"
   ]
  },
  {
   "cell_type": "code",
   "execution_count": 22,
   "metadata": {},
   "outputs": [
    {
     "data": {
      "text/plain": [
       "<matplotlib.axes._subplots.AxesSubplot at 0x1a11df0a58>"
      ]
     },
     "execution_count": 22,
     "metadata": {},
     "output_type": "execute_result"
    },
    {
     "data": {
      "image/png": "[encoded data removed]",
      "text/plain": [
       "<Figure size 432x288 with 1 Axes>"
      ]
     },
     "metadata": {},
     "output_type": "display_data"
    }
   ],
   "source": [
    "plt.title(\"change of run-time of NMF over latent dimensions\")\n",
    "plt.xlabel(\"latent_dimensions\")\n",
    "plt.ylabel(\"time\")\n",
    "sns.lineplot(latent_dimensions, nmf_time, palette=\"tab10\")"
   ]
  },
  {
   "cell_type": "markdown",
   "metadata": {},
   "source": [
    "The higher the latent dimensions, the slower the fitting time of the model since the model gets more complex."
   ]
  },
  {
   "cell_type": "markdown",
   "metadata": {},
   "source": [
    "### Mean_Absolute _Error (MAE) & Root Mean Squared Error (RMSE)\n",
    "#### Primary accuracy metric : MAE"
   ]
  },
  {
   "cell_type": "code",
   "execution_count": 24,
   "metadata": {},
   "outputs": [
    {
     "data": {
      "text/plain": [
       "<matplotlib.axes._subplots.AxesSubplot at 0x1a1ee3eb70>"
      ]
     },
     "execution_count": 24,
     "metadata": {},
     "output_type": "execute_result"
    },
    {
     "data": {
      "image/png": "[encoded data removed]",
      "text/plain": [
       "<Figure size 432x288 with 1 Axes>"
      ]
     },
     "metadata": {},
     "output_type": "display_data"
    }
   ],
   "source": [
    "NMF_MAE = pd.DataFrame(np.column_stack([nmf_test_mae, nmf_train_mae]),columns=['NMF_test_MAE', 'NMF_train_MAE'])\n",
    "NMF_MAE.index = latent_dimensions\n",
    "plt.title(\"change of MAE of NMF over latent dimensions\")\n",
    "plt.xlabel(\"latent dimensions\")\n",
    "plt.ylabel(\"MAE\")\n",
    "sns.lineplot(data = NMF_MAE, palette=\"tab10\")"
   ]
  },
  {
   "cell_type": "markdown",
   "metadata": {},
   "source": [
    "MAE first decreases as latent dimensions increase. Then MAE increases with the increment of latent dimensions. \n",
    "\n",
    "The lowest MAE occurs at latent dimension = 12"
   ]
  },
  {
   "cell_type": "markdown",
   "metadata": {},
   "source": [
    "#### Secondary accuracy metric: RMSE"
   ]
  },
  {
   "cell_type": "code",
   "execution_count": 25,
   "metadata": {},
   "outputs": [
    {
     "data": {
      "text/plain": [
       "<matplotlib.axes._subplots.AxesSubplot at 0x1a1ee97518>"
      ]
     },
     "execution_count": 25,
     "metadata": {},
     "output_type": "execute_result"
    },
    {
     "data": {
      "image/png": "[encoded data removed]",
      "text/plain": [
       "<Figure size 432x288 with 1 Axes>"
      ]
     },
     "metadata": {},
     "output_type": "display_data"
    }
   ],
   "source": [
    "NMF_RMSE = pd.DataFrame(np.column_stack([nmf_test_rmse, nmf_train_rmse]),columns=['NMF_test_RMSE', 'NMF_train_RMSE'])\n",
    "NMF_RMSE.index = latent_dimensions\n",
    "plt.title(\"the change of RMSE of NMF over latent dimensions\")\n",
    "plt.xlabel(\"latent dimensions\")\n",
    "plt.ylabel(\"RMSE\")\n",
    "sns.lineplot(data = NMF_RMSE, palette=\"tab10\")"
   ]
  },
  {
   "cell_type": "markdown",
   "metadata": {},
   "source": [
    "The trend of RMSE by latent dimensions is similar with MAE. But the RMSE are lower at both latent dimension =2 and =12 than other values of latent dimension. "
   ]
  },
  {
   "cell_type": "markdown",
   "metadata": {},
   "source": [
    "### How does Sample size impact the accuracy of NMF?"
   ]
  },
  {
   "cell_type": "code",
   "execution_count": 43,
   "metadata": {},
   "outputs": [
    {
     "name": "stdout",
     "output_type": "stream",
     "text": [
      "[[0.46856063562877237, 0.6164629907411994, 0.7077880696108877, 0.9248019088910568, 4.119549226760864]]\n",
      "[[0.46856063562877237, 0.6164629907411994, 0.7077880696108877, 0.9248019088910568, 4.119549226760864], [0.5096920330800271, 0.6670736431876044, 0.6925410585192845, 0.9050256267843768, 4.83940110206604]]\n",
      "[[0.46856063562877237, 0.6164629907411994, 0.7077880696108877, 0.9248019088910568, 4.119549226760864], [0.5096920330800271, 0.6670736431876044, 0.6925410585192845, 0.9050256267843768, 4.83940110206604], [0.5256388039965315, 0.68523774943602, 0.68788261674889, 0.8980217231513545, 5.81422119140625]]\n",
      "[[0.46856063562877237, 0.6164629907411994, 0.7077880696108877, 0.9248019088910568, 4.119549226760864], [0.5096920330800271, 0.6670736431876044, 0.6925410585192845, 0.9050256267843768, 4.83940110206604], [0.5256388039965315, 0.68523774943602, 0.68788261674889, 0.8980217231513545, 5.81422119140625], [0.5337956113359941, 0.6963602355097984, 0.6798734311471554, 0.8868220204211837, 6.350070667266846]]\n",
      "[[0.46856063562877237, 0.6164629907411994, 0.7077880696108877, 0.9248019088910568, 4.119549226760864], [0.5096920330800271, 0.6670736431876044, 0.6925410585192845, 0.9050256267843768, 4.83940110206604], [0.5256388039965315, 0.68523774943602, 0.68788261674889, 0.8980217231513545, 5.81422119140625], [0.5337956113359941, 0.6963602355097984, 0.6798734311471554, 0.8868220204211837, 6.350070667266846], [0.5396351735084993, 0.7053520962241654, 0.6710940123443315, 0.8794948557214213, 6.8980169773101805]]\n"
     ]
    }
   ],
   "source": [
    "nmf_size_result=[]\n",
    "for n in new_size:\n",
    "    nmf_size_result.append(nmf_cv(factors=7,size=n))\n",
    "    print(nmf_size_result)"
   ]
  },
  {
   "cell_type": "code",
   "execution_count": 45,
   "metadata": {},
   "outputs": [],
   "source": [
    "nmf_train_mae=[]\n",
    "nmf_train_rmse=[]\n",
    "nmf_test_mae=[]\n",
    "nmf_test_rmse=[]\n",
    "nmf_time=[]\n",
    "for i in range(0,len(nmf_size_result)):\n",
    "    nmf_train_mae.append(nmf_size_result[i][0])\n",
    "    nmf_train_rmse.append(nmf_size_result[i][1])\n",
    "    nmf_test_mae.append(nmf_size_result[i][2])\n",
    "    nmf_test_rmse.append(nmf_size_result[i][3])\n",
    "    nmf_time.append(nmf_size_result[i][4])"
   ]
  },
  {
   "cell_type": "code",
   "execution_count": 46,
   "metadata": {},
   "outputs": [
    {
     "data": {
      "text/plain": [
       "<matplotlib.axes._subplots.AxesSubplot at 0x1a1b5bec88>"
      ]
     },
     "execution_count": 46,
     "metadata": {},
     "output_type": "execute_result"
    },
    {
     "data": {
      "image/png": "[encoded data removed]",
      "text/plain": [
       "<Figure size 432x288 with 1 Axes>"
      ]
     },
     "metadata": {},
     "output_type": "display_data"
    }
   ],
   "source": [
    "nmf_newsize_metrics = pd.DataFrame(np.column_stack([nmf_train_mae, nmf_test_mae,nmf_train_rmse, nmf_test_rmse]),\n",
    "                   columns=['NMF_train_MAE', 'NMF_test_MAE','NMF_train_RMSE', 'NMF_test_RMSE'])\n",
    "nmf_newsize_metrics.index = new_size\n",
    "plt.title(\"the accuracy metrics change when changing model size\")\n",
    "plt.xlabel(\"model size\")\n",
    "plt.ylabel(\"accuracy metrics\")\n",
    "sns.lineplot(data = nmf_newsize_metrics, palette=\"tab10\")"
   ]
  },
  {
   "cell_type": "markdown",
   "metadata": {},
   "source": [
    "When sample size is small, the model overfit the train data. "
   ]
  },
  {
   "cell_type": "markdown",
   "metadata": {},
   "source": [
    "### How does Data size impact the run-time of NMF?"
   ]
  },
  {
   "cell_type": "code",
   "execution_count": 47,
   "metadata": {},
   "outputs": [
    {
     "data": {
      "text/plain": [
       "<matplotlib.axes._subplots.AxesSubplot at 0x1a1cffe588>"
      ]
     },
     "execution_count": 47,
     "metadata": {},
     "output_type": "execute_result"
    },
    {
     "data": {
      "image/png": "[encoded data removed]",
      "text/plain": [
       "<Figure size 432x288 with 1 Axes>"
      ]
     },
     "metadata": {},
     "output_type": "display_data"
    }
   ],
   "source": [
    "nmf_newsize_time = pd.DataFrame(nmf_time,columns=['NMF_time'])\n",
    "nmf_newsize_time.index = new_size\n",
    "plt.title(\"the run-time change when changing model size\")\n",
    "plt.xlabel(\"model size\")\n",
    "plt.ylabel(\"run-time\")\n",
    "sns.lineplot(data = nmf_newsize_time, palette=\"tab10\")"
   ]
  },
  {
   "cell_type": "markdown",
   "metadata": {},
   "source": [
    "As the sample size increases, the model is getting more complex. "
   ]
  },
  {
   "cell_type": "markdown",
   "metadata": {},
   "source": [
    "### Conclusions:\n",
    "* The average MAE of test data is around 0.67, which is similar with the results from KNN.\n",
    "* However, NMF can capture the multi cause confounding factors that influences the rating scores.\n",
    "\n"
   ]
  },
  {
   "cell_type": "markdown",
   "metadata": {},
   "source": [
    "# SVD by surprise"
   ]
  },
  {
   "cell_type": "code",
   "execution_count": 27,
   "metadata": {},
   "outputs": [
    {
     "name": "stdout",
     "output_type": "stream",
     "text": [
      "Evaluating RMSE, MAE of algorithm SVD on 10 split(s).\n",
      "\n",
      "                  Fold 1  Fold 2  Fold 3  Fold 4  Fold 5  Fold 6  Fold 7  Fold 8  Fold 9  Fold 10 Mean    Std     \n",
      "RMSE (testset)    0.8730  0.8637  0.8863  0.8840  0.8887  0.8776  0.8880  0.8734  0.8913  0.8742  0.8800  0.0085  \n",
      "MAE (testset)     0.6702  0.6692  0.6835  0.6828  0.6863  0.6733  0.6835  0.6720  0.6824  0.6728  0.6776  0.0063  \n",
      "RMSE (trainset)   0.7622  0.7634  0.7605  0.7595  0.7576  0.7582  0.7604  0.7610  0.7606  0.7625  0.7606  0.0017  \n",
      "MAE (trainset)    0.5888  0.5890  0.5872  0.5865  0.5851  0.5859  0.5877  0.5877  0.5876  0.5886  0.5874  0.0012  \n",
      "Fit time          15.07   15.24   15.14   15.08   15.32   14.71   14.77   15.12   15.22   14.71   15.04   0.21    \n",
      "Test time         0.07    0.06    0.12    0.13    0.06    0.06    0.07    0.06    0.07    0.06    0.08    0.02    \n",
      "Evaluating RMSE, MAE of algorithm SVD on 10 split(s).\n",
      "\n",
      "                  Fold 1  Fold 2  Fold 3  Fold 4  Fold 5  Fold 6  Fold 7  Fold 8  Fold 9  Fold 10 Mean    Std     \n",
      "RMSE (testset)    0.8735  0.8716  0.8759  0.8927  0.8763  0.8758  0.8665  0.8825  0.8813  0.8729  0.8769  0.0068  \n",
      "MAE (testset)     0.6734  0.6707  0.6772  0.6862  0.6748  0.6673  0.6709  0.6843  0.6774  0.6722  0.6754  0.0057  \n",
      "RMSE (trainset)   0.7842  0.7849  0.7842  0.7838  0.7845  0.7838  0.7843  0.7850  0.7854  0.7854  0.7846  0.0006  \n",
      "MAE (trainset)    0.6057  0.6065  0.6059  0.6052  0.6058  0.6060  0.6059  0.6060  0.6068  0.6071  0.6061  0.0005  \n",
      "Fit time          15.22   15.10   14.41   15.50   15.75   13.39   14.72   15.36   13.90   15.03   14.84   0.70    \n",
      "Test time         0.06    0.06    0.06    0.12    0.11    0.12    0.06    0.06    0.06    0.11    0.08    0.03    \n",
      "Evaluating RMSE, MAE of algorithm SVD on 10 split(s).\n",
      "\n",
      "                  Fold 1  Fold 2  Fold 3  Fold 4  Fold 5  Fold 6  Fold 7  Fold 8  Fold 9  Fold 10 Mean    Std     \n",
      "RMSE (testset)    0.8690  0.8752  0.8700  0.8742  0.8670  0.9006  0.8772  0.8810  0.8652  0.8811  0.8761  0.0097  \n",
      "MAE (testset)     0.6703  0.6711  0.6735  0.6748  0.6749  0.6915  0.6772  0.6752  0.6674  0.6753  0.6751  0.0061  \n",
      "RMSE (trainset)   0.8006  0.7990  0.8000  0.7992  0.7997  0.7963  0.7992  0.7991  0.8005  0.7990  0.7993  0.0011  \n",
      "MAE (trainset)    0.6180  0.6180  0.6178  0.6175  0.6173  0.6155  0.6170  0.6175  0.6181  0.6174  0.6174  0.0007  \n",
      "Fit time          14.89   14.94   15.65   14.65   13.47   13.41   13.65   13.29   13.29   13.67   14.09   0.81    \n",
      "Test time         0.12    0.06    0.07    0.13    0.12    0.12    0.05    0.05    0.13    0.05    0.09    0.03    \n",
      "Evaluating RMSE, MAE of algorithm SVD on 10 split(s).\n",
      "\n",
      "                  Fold 1  Fold 2  Fold 3  Fold 4  Fold 5  Fold 6  Fold 7  Fold 8  Fold 9  Fold 10 Mean    Std     \n",
      "RMSE (testset)    0.8767  0.8729  0.8797  0.8836  0.8705  0.8809  0.8745  0.8674  0.8848  0.8678  0.8759  0.0060  \n",
      "MAE (testset)     0.6745  0.6709  0.6788  0.6801  0.6698  0.6800  0.6749  0.6702  0.6810  0.6708  0.6751  0.0043  \n",
      "RMSE (trainset)   0.8096  0.8087  0.8085  0.8084  0.8096  0.8087  0.8104  0.8104  0.8084  0.8101  0.8093  0.0008  \n",
      "MAE (trainset)    0.6252  0.6249  0.6245  0.6247  0.6256  0.6247  0.6258  0.6261  0.6245  0.6256  0.6252  0.0005  \n",
      "Fit time          13.36   13.35   13.30   13.34   14.01   13.35   13.28   13.29   13.32   13.37   13.40   0.21    \n",
      "Test time         0.05    0.05    0.05    0.05    0.06    0.05    0.05    0.12    0.05    0.06    0.06    0.02    \n",
      "Evaluating RMSE, MAE of algorithm SVD on 10 split(s).\n",
      "\n",
      "                  Fold 1  Fold 2  Fold 3  Fold 4  Fold 5  Fold 6  Fold 7  Fold 8  Fold 9  Fold 10 Mean    Std     \n",
      "RMSE (testset)    0.8746  0.8785  0.8854  0.8705  0.8810  0.8811  0.8786  0.8783  0.8839  0.8533  0.8765  0.0087  \n",
      "MAE (testset)     0.6744  0.6776  0.6828  0.6737  0.6797  0.6767  0.6798  0.6719  0.6818  0.6573  0.6756  0.0069  \n",
      "RMSE (trainset)   0.8165  0.8162  0.8159  0.8178  0.8166  0.8162  0.8174  0.8169  0.8158  0.8189  0.8168  0.0009  \n",
      "MAE (trainset)    0.6309  0.6304  0.6303  0.6315  0.6304  0.6306  0.6311  0.6310  0.6302  0.6326  0.6309  0.0007  \n",
      "Fit time          13.30   13.81   13.38   13.33   13.48   13.39   13.33   13.34   13.35   13.33   13.40   0.14    \n",
      "Test time         0.05    0.12    0.12    0.05    0.05    0.05    0.12    0.12    0.05    0.05    0.08    0.03    \n",
      "Evaluating RMSE, MAE of algorithm SVD on 10 split(s).\n",
      "\n",
      "                  Fold 1  Fold 2  Fold 3  Fold 4  Fold 5  Fold 6  Fold 7  Fold 8  Fold 9  Fold 10 Mean    Std     \n",
      "RMSE (testset)    0.8881  0.8900  0.8774  0.8854  0.8875  0.8910  0.8929  0.8827  0.8826  0.8794  0.8857  0.0048  \n",
      "MAE (testset)     0.6839  0.6840  0.6778  0.6780  0.6784  0.6812  0.6868  0.6739  0.6776  0.6778  0.6799  0.0037  \n",
      "RMSE (trainset)   0.4259  0.4268  0.4251  0.4256  0.4243  0.4263  0.4265  0.4258  0.4258  0.4259  0.4258  0.0007  \n",
      "MAE (trainset)    0.3275  0.3292  0.3275  0.3273  0.3264  0.3281  0.3279  0.3282  0.3270  0.3275  0.3277  0.0007  \n",
      "Fit time          13.50   14.97   14.82   13.33   13.36   14.30   15.22   15.17   15.12   15.34   14.51   0.78    \n",
      "Test time         0.06    0.12    0.06    0.05    0.11    0.12    0.12    0.06    0.06    0.11    0.09    0.03    \n",
      "Evaluating RMSE, MAE of algorithm SVD on 10 split(s).\n",
      "\n",
      "                  Fold 1  Fold 2  Fold 3  Fold 4  Fold 5  Fold 6  Fold 7  Fold 8  Fold 9  Fold 10 Mean    Std     \n",
      "RMSE (testset)    0.8729  0.8604  0.8631  0.8607  0.8623  0.8595  0.8527  0.8551  0.8663  0.8536  0.8606  0.0058  \n",
      "MAE (testset)     0.6713  0.6588  0.6647  0.6588  0.6594  0.6584  0.6561  0.6527  0.6633  0.6547  0.6598  0.0051  \n",
      "RMSE (trainset)   0.5441  0.5436  0.5450  0.5443  0.5460  0.5437  0.5448  0.5442  0.5462  0.5417  0.5444  0.0012  \n",
      "MAE (trainset)    0.4250  0.4243  0.4261  0.4246  0.4266  0.4246  0.4254  0.4251  0.4263  0.4231  0.4251  0.0010  \n",
      "Fit time          15.51   15.09   15.27   13.49   14.21   15.25   15.17   15.01   15.40   15.19   14.96   0.59    \n",
      "Test time         0.12    0.11    0.11    0.05    0.06    0.06    0.07    0.06    0.07    0.06    0.08    0.03    \n",
      "Evaluating RMSE, MAE of algorithm SVD on 10 split(s).\n",
      "\n",
      "                  Fold 1  Fold 2  Fold 3  Fold 4  Fold 5  Fold 6  Fold 7  Fold 8  Fold 9  Fold 10 Mean    Std     \n",
      "RMSE (testset)    0.8587  0.8538  0.8625  0.8616  0.8584  0.8453  0.8547  0.8615  0.8521  0.8518  0.8560  0.0052  \n",
      "MAE (testset)     0.6600  0.6547  0.6632  0.6606  0.6581  0.6466  0.6564  0.6623  0.6546  0.6501  0.6567  0.0051  \n",
      "RMSE (trainset)   0.6330  0.6308  0.6349  0.6325  0.6336  0.6329  0.6324  0.6315  0.6314  0.6330  0.6326  0.0011  \n",
      "MAE (trainset)    0.4931  0.4920  0.4954  0.4931  0.4942  0.4936  0.4931  0.4925  0.4921  0.4935  0.4933  0.0009  \n",
      "Fit time          15.11   15.43   14.94   15.33   15.20   15.03   15.08   15.40   15.31   14.67   15.15   0.22    \n",
      "Test time         0.06    0.06    0.06    0.06    0.12    0.06    0.06    0.06    0.12    0.14    0.08    0.03    \n",
      "Evaluating RMSE, MAE of algorithm SVD on 10 split(s).\n",
      "\n",
      "                  Fold 1  Fold 2  Fold 3  Fold 4  Fold 5  Fold 6  Fold 7  Fold 8  Fold 9  Fold 10 Mean    Std     \n",
      "RMSE (testset)    0.8507  0.8613  0.8677  0.8509  0.8640  0.8554  0.8595  0.8638  0.8452  0.8596  0.8578  0.0067  \n",
      "MAE (testset)     0.6558  0.6603  0.6602  0.6533  0.6628  0.6598  0.6560  0.6659  0.6517  0.6602  0.6586  0.0041  \n",
      "RMSE (trainset)   0.6942  0.6940  0.6939  0.6928  0.6938  0.6926  0.6915  0.6947  0.6950  0.6930  0.6935  0.0010  \n",
      "MAE (trainset)    0.5400  0.5399  0.5403  0.5392  0.5399  0.5385  0.5379  0.5402  0.5407  0.5390  0.5396  0.0008  \n",
      "Fit time          14.84   14.95   15.13   14.88   13.65   14.53   14.29   14.61   14.34   14.20   14.54   0.42    \n",
      "Test time         0.06    0.06    0.06    0.12    0.11    0.06    0.05    0.13    0.12    0.11    0.09    0.03    \n",
      "Evaluating RMSE, MAE of algorithm SVD on 10 split(s).\n",
      "\n",
      "                  Fold 1  Fold 2  Fold 3  Fold 4  Fold 5  Fold 6  Fold 7  Fold 8  Fold 9  Fold 10 Mean    Std     \n",
      "RMSE (testset)    0.8606  0.8561  0.8479  0.8699  0.8657  0.8679  0.8640  0.8587  0.8614  0.8549  0.8607  0.0063  \n",
      "MAE (testset)     0.6585  0.6600  0.6527  0.6657  0.6653  0.6664  0.6659  0.6598  0.6599  0.6580  0.6612  0.0043  \n",
      "RMSE (trainset)   0.7347  0.7353  0.7374  0.7378  0.7354  0.7349  0.7349  0.7365  0.7349  0.7363  0.7358  0.0011  \n",
      "MAE (trainset)    0.5705  0.5704  0.5720  0.5729  0.5708  0.5703  0.5701  0.5715  0.5708  0.5716  0.5711  0.0008  \n",
      "Fit time          14.43   14.41   13.32   14.96   15.19   15.10   14.93   14.28   14.98   15.41   14.70   0.58    \n",
      "Test time         0.05    0.05    0.07    0.12    0.13    0.13    0.06    0.06    0.06    0.06    0.08    0.03    \n"
     ]
    },
    {
     "ename": "KeyboardInterrupt",
     "evalue": "",
     "output_type": "error",
     "traceback": [
      "\u001b[0;31m---------------------------------------------------------------------------\u001b[0m",
      "\u001b[0;31mKeyboardInterrupt\u001b[0m                         Traceback (most recent call last)",
      "\u001b[0;32m<ipython-input-27-c7d98aee07bf>\u001b[0m in \u001b[0;36m<module>\u001b[0;34m()\u001b[0m\n\u001b[1;32m     14\u001b[0m     \u001b[0;32mfor\u001b[0m \u001b[0mreg\u001b[0m \u001b[0;32min\u001b[0m \u001b[0mregularization\u001b[0m\u001b[0;34m:\u001b[0m\u001b[0;34m\u001b[0m\u001b[0m\n\u001b[1;32m     15\u001b[0m         \u001b[0malgo\u001b[0m\u001b[0;34m=\u001b[0m\u001b[0mSVD\u001b[0m\u001b[0;34m(\u001b[0m\u001b[0mn_epochs\u001b[0m \u001b[0;34m=\u001b[0m\u001b[0;36m50\u001b[0m\u001b[0;34m,\u001b[0m\u001b[0mlr_all\u001b[0m\u001b[0;34m=\u001b[0m\u001b[0mlr\u001b[0m\u001b[0;34m,\u001b[0m\u001b[0mreg_all\u001b[0m\u001b[0;34m=\u001b[0m\u001b[0mreg\u001b[0m\u001b[0;34m)\u001b[0m\u001b[0;34m\u001b[0m\u001b[0m\n\u001b[0;32m---> 16\u001b[0;31m         \u001b[0mc_v\u001b[0m\u001b[0;34m=\u001b[0m\u001b[0mcross_validate\u001b[0m\u001b[0;34m(\u001b[0m\u001b[0malgo\u001b[0m\u001b[0;34m,\u001b[0m \u001b[0mdata\u001b[0m\u001b[0;34m,\u001b[0m\u001b[0mcv\u001b[0m\u001b[0;34m=\u001b[0m\u001b[0;36m10\u001b[0m\u001b[0;34m,\u001b[0m \u001b[0mverbose\u001b[0m\u001b[0;34m=\u001b[0m\u001b[0;32mTrue\u001b[0m\u001b[0;34m,\u001b[0m\u001b[0mreturn_train_measures\u001b[0m \u001b[0;34m=\u001b[0m\u001b[0;32mTrue\u001b[0m\u001b[0;34m)\u001b[0m\u001b[0;34m\u001b[0m\u001b[0m\n\u001b[0m\u001b[1;32m     17\u001b[0m         \u001b[0mSVD_time\u001b[0m\u001b[0;34m.\u001b[0m\u001b[0mappend\u001b[0m\u001b[0;34m(\u001b[0m\u001b[0mnp\u001b[0m\u001b[0;34m.\u001b[0m\u001b[0mmean\u001b[0m\u001b[0;34m(\u001b[0m\u001b[0mc_v\u001b[0m\u001b[0;34m[\u001b[0m\u001b[0;34m'fit_time'\u001b[0m\u001b[0;34m]\u001b[0m\u001b[0;34m)\u001b[0m\u001b[0;34m)\u001b[0m\u001b[0;34m\u001b[0m\u001b[0m\n\u001b[1;32m     18\u001b[0m         \u001b[0mSVD_train_MAE\u001b[0m\u001b[0;34m.\u001b[0m\u001b[0mappend\u001b[0m\u001b[0;34m(\u001b[0m\u001b[0mnp\u001b[0m\u001b[0;34m.\u001b[0m\u001b[0mmean\u001b[0m\u001b[0;34m(\u001b[0m\u001b[0mc_v\u001b[0m\u001b[0;34m[\u001b[0m\u001b[0;34m'train_mae'\u001b[0m\u001b[0;34m]\u001b[0m\u001b[0;34m)\u001b[0m\u001b[0;34m)\u001b[0m\u001b[0;34m\u001b[0m\u001b[0m\n",
      "\u001b[0;32m~/anaconda3/lib/python3.6/site-packages/surprise/model_selection/validation.py\u001b[0m in \u001b[0;36mcross_validate\u001b[0;34m(algo, data, measures, cv, return_train_measures, n_jobs, pre_dispatch, verbose)\u001b[0m\n\u001b[1;32m     99\u001b[0m                                            return_train_measures)\n\u001b[1;32m    100\u001b[0m                     for (trainset, testset) in cv.split(data))\n\u001b[0;32m--> 101\u001b[0;31m     \u001b[0mout\u001b[0m \u001b[0;34m=\u001b[0m \u001b[0mParallel\u001b[0m\u001b[0;34m(\u001b[0m\u001b[0mn_jobs\u001b[0m\u001b[0;34m=\u001b[0m\u001b[0mn_jobs\u001b[0m\u001b[0;34m,\u001b[0m \u001b[0mpre_dispatch\u001b[0m\u001b[0;34m=\u001b[0m\u001b[0mpre_dispatch\u001b[0m\u001b[0;34m)\u001b[0m\u001b[0;34m(\u001b[0m\u001b[0mdelayed_list\u001b[0m\u001b[0;34m)\u001b[0m\u001b[0;34m\u001b[0m\u001b[0m\n\u001b[0m\u001b[1;32m    102\u001b[0m \u001b[0;34m\u001b[0m\u001b[0m\n\u001b[1;32m    103\u001b[0m     (test_measures_dicts,\n",
      "\u001b[0;32m~/anaconda3/lib/python3.6/site-packages/joblib/parallel.py\u001b[0m in \u001b[0;36m__call__\u001b[0;34m(self, iterable)\u001b[0m\n\u001b[1;32m    984\u001b[0m                 \u001b[0mself\u001b[0m\u001b[0;34m.\u001b[0m\u001b[0m_iterating\u001b[0m \u001b[0;34m=\u001b[0m \u001b[0mself\u001b[0m\u001b[0;34m.\u001b[0m\u001b[0m_original_iterator\u001b[0m \u001b[0;32mis\u001b[0m \u001b[0;32mnot\u001b[0m \u001b[0;32mNone\u001b[0m\u001b[0;34m\u001b[0m\u001b[0m\n\u001b[1;32m    985\u001b[0m \u001b[0;34m\u001b[0m\u001b[0m\n\u001b[0;32m--> 986\u001b[0;31m             \u001b[0;32mwhile\u001b[0m \u001b[0mself\u001b[0m\u001b[0;34m.\u001b[0m\u001b[0mdispatch_one_batch\u001b[0m\u001b[0;34m(\u001b[0m\u001b[0miterator\u001b[0m\u001b[0;34m)\u001b[0m\u001b[0;34m:\u001b[0m\u001b[0;34m\u001b[0m\u001b[0m\n\u001b[0m\u001b[1;32m    987\u001b[0m                 \u001b[0;32mpass\u001b[0m\u001b[0;34m\u001b[0m\u001b[0m\n\u001b[1;32m    988\u001b[0m \u001b[0;34m\u001b[0m\u001b[0m\n",
      "\u001b[0;32m~/anaconda3/lib/python3.6/site-packages/joblib/parallel.py\u001b[0m in \u001b[0;36mdispatch_one_batch\u001b[0;34m(self, iterator)\u001b[0m\n\u001b[1;32m    823\u001b[0m                 \u001b[0;32mreturn\u001b[0m \u001b[0;32mFalse\u001b[0m\u001b[0;34m\u001b[0m\u001b[0m\n\u001b[1;32m    824\u001b[0m             \u001b[0;32melse\u001b[0m\u001b[0;34m:\u001b[0m\u001b[0;34m\u001b[0m\u001b[0m\n\u001b[0;32m--> 825\u001b[0;31m                 \u001b[0mself\u001b[0m\u001b[0;34m.\u001b[0m\u001b[0m_dispatch\u001b[0m\u001b[0;34m(\u001b[0m\u001b[0mtasks\u001b[0m\u001b[0;34m)\u001b[0m\u001b[0;34m\u001b[0m\u001b[0m\n\u001b[0m\u001b[1;32m    826\u001b[0m                 \u001b[0;32mreturn\u001b[0m \u001b[0;32mTrue\u001b[0m\u001b[0;34m\u001b[0m\u001b[0m\n\u001b[1;32m    827\u001b[0m \u001b[0;34m\u001b[0m\u001b[0m\n",
      "\u001b[0;32m~/anaconda3/lib/python3.6/site-packages/joblib/parallel.py\u001b[0m in \u001b[0;36m_dispatch\u001b[0;34m(self, batch)\u001b[0m\n\u001b[1;32m    780\u001b[0m         \u001b[0;32mwith\u001b[0m \u001b[0mself\u001b[0m\u001b[0;34m.\u001b[0m\u001b[0m_lock\u001b[0m\u001b[0;34m:\u001b[0m\u001b[0;34m\u001b[0m\u001b[0m\n\u001b[1;32m    781\u001b[0m             \u001b[0mjob_idx\u001b[0m \u001b[0;34m=\u001b[0m \u001b[0mlen\u001b[0m\u001b[0;34m(\u001b[0m\u001b[0mself\u001b[0m\u001b[0;34m.\u001b[0m\u001b[0m_jobs\u001b[0m\u001b[0;34m)\u001b[0m\u001b[0;34m\u001b[0m\u001b[0m\n\u001b[0;32m--> 782\u001b[0;31m             \u001b[0mjob\u001b[0m \u001b[0;34m=\u001b[0m \u001b[0mself\u001b[0m\u001b[0;34m.\u001b[0m\u001b[0m_backend\u001b[0m\u001b[0;34m.\u001b[0m\u001b[0mapply_async\u001b[0m\u001b[0;34m(\u001b[0m\u001b[0mbatch\u001b[0m\u001b[0;34m,\u001b[0m \u001b[0mcallback\u001b[0m\u001b[0;34m=\u001b[0m\u001b[0mcb\u001b[0m\u001b[0;34m)\u001b[0m\u001b[0;34m\u001b[0m\u001b[0m\n\u001b[0m\u001b[1;32m    783\u001b[0m             \u001b[0;31m# A job can complete so quickly than its callback is\u001b[0m\u001b[0;34m\u001b[0m\u001b[0;34m\u001b[0m\u001b[0m\n\u001b[1;32m    784\u001b[0m             \u001b[0;31m# called before we get here, causing self._jobs to\u001b[0m\u001b[0;34m\u001b[0m\u001b[0;34m\u001b[0m\u001b[0m\n",
      "\u001b[0;32m~/anaconda3/lib/python3.6/site-packages/joblib/_parallel_backends.py\u001b[0m in \u001b[0;36mapply_async\u001b[0;34m(self, func, callback)\u001b[0m\n\u001b[1;32m    180\u001b[0m     \u001b[0;32mdef\u001b[0m \u001b[0mapply_async\u001b[0m\u001b[0;34m(\u001b[0m\u001b[0mself\u001b[0m\u001b[0;34m,\u001b[0m \u001b[0mfunc\u001b[0m\u001b[0;34m,\u001b[0m \u001b[0mcallback\u001b[0m\u001b[0;34m=\u001b[0m\u001b[0;32mNone\u001b[0m\u001b[0;34m)\u001b[0m\u001b[0;34m:\u001b[0m\u001b[0;34m\u001b[0m\u001b[0m\n\u001b[1;32m    181\u001b[0m         \u001b[0;34m\"\"\"Schedule a func to be run\"\"\"\u001b[0m\u001b[0;34m\u001b[0m\u001b[0m\n\u001b[0;32m--> 182\u001b[0;31m         \u001b[0mresult\u001b[0m \u001b[0;34m=\u001b[0m \u001b[0mImmediateResult\u001b[0m\u001b[0;34m(\u001b[0m\u001b[0mfunc\u001b[0m\u001b[0;34m)\u001b[0m\u001b[0;34m\u001b[0m\u001b[0m\n\u001b[0m\u001b[1;32m    183\u001b[0m         \u001b[0;32mif\u001b[0m \u001b[0mcallback\u001b[0m\u001b[0;34m:\u001b[0m\u001b[0;34m\u001b[0m\u001b[0m\n\u001b[1;32m    184\u001b[0m             \u001b[0mcallback\u001b[0m\u001b[0;34m(\u001b[0m\u001b[0mresult\u001b[0m\u001b[0;34m)\u001b[0m\u001b[0;34m\u001b[0m\u001b[0m\n",
      "\u001b[0;32m~/anaconda3/lib/python3.6/site-packages/joblib/_parallel_backends.py\u001b[0m in \u001b[0;36m__init__\u001b[0;34m(self, batch)\u001b[0m\n\u001b[1;32m    543\u001b[0m         \u001b[0;31m# Don't delay the application, to avoid keeping the input\u001b[0m\u001b[0;34m\u001b[0m\u001b[0;34m\u001b[0m\u001b[0m\n\u001b[1;32m    544\u001b[0m         \u001b[0;31m# arguments in memory\u001b[0m\u001b[0;34m\u001b[0m\u001b[0;34m\u001b[0m\u001b[0m\n\u001b[0;32m--> 545\u001b[0;31m         \u001b[0mself\u001b[0m\u001b[0;34m.\u001b[0m\u001b[0mresults\u001b[0m \u001b[0;34m=\u001b[0m \u001b[0mbatch\u001b[0m\u001b[0;34m(\u001b[0m\u001b[0;34m)\u001b[0m\u001b[0;34m\u001b[0m\u001b[0m\n\u001b[0m\u001b[1;32m    546\u001b[0m \u001b[0;34m\u001b[0m\u001b[0m\n\u001b[1;32m    547\u001b[0m     \u001b[0;32mdef\u001b[0m \u001b[0mget\u001b[0m\u001b[0;34m(\u001b[0m\u001b[0mself\u001b[0m\u001b[0;34m)\u001b[0m\u001b[0;34m:\u001b[0m\u001b[0;34m\u001b[0m\u001b[0m\n",
      "\u001b[0;32m~/anaconda3/lib/python3.6/site-packages/joblib/parallel.py\u001b[0m in \u001b[0;36m__call__\u001b[0;34m(self)\u001b[0m\n\u001b[1;32m    259\u001b[0m         \u001b[0;32mwith\u001b[0m \u001b[0mparallel_backend\u001b[0m\u001b[0;34m(\u001b[0m\u001b[0mself\u001b[0m\u001b[0;34m.\u001b[0m\u001b[0m_backend\u001b[0m\u001b[0;34m)\u001b[0m\u001b[0;34m:\u001b[0m\u001b[0;34m\u001b[0m\u001b[0m\n\u001b[1;32m    260\u001b[0m             return [func(*args, **kwargs)\n\u001b[0;32m--> 261\u001b[0;31m                     for func, args, kwargs in self.items]\n\u001b[0m\u001b[1;32m    262\u001b[0m \u001b[0;34m\u001b[0m\u001b[0m\n\u001b[1;32m    263\u001b[0m     \u001b[0;32mdef\u001b[0m \u001b[0m__len__\u001b[0m\u001b[0;34m(\u001b[0m\u001b[0mself\u001b[0m\u001b[0;34m)\u001b[0m\u001b[0;34m:\u001b[0m\u001b[0;34m\u001b[0m\u001b[0m\n",
      "\u001b[0;32m~/anaconda3/lib/python3.6/site-packages/joblib/parallel.py\u001b[0m in \u001b[0;36m<listcomp>\u001b[0;34m(.0)\u001b[0m\n\u001b[1;32m    259\u001b[0m         \u001b[0;32mwith\u001b[0m \u001b[0mparallel_backend\u001b[0m\u001b[0;34m(\u001b[0m\u001b[0mself\u001b[0m\u001b[0;34m.\u001b[0m\u001b[0m_backend\u001b[0m\u001b[0;34m)\u001b[0m\u001b[0;34m:\u001b[0m\u001b[0;34m\u001b[0m\u001b[0m\n\u001b[1;32m    260\u001b[0m             return [func(*args, **kwargs)\n\u001b[0;32m--> 261\u001b[0;31m                     for func, args, kwargs in self.items]\n\u001b[0m\u001b[1;32m    262\u001b[0m \u001b[0;34m\u001b[0m\u001b[0m\n\u001b[1;32m    263\u001b[0m     \u001b[0;32mdef\u001b[0m \u001b[0m__len__\u001b[0m\u001b[0;34m(\u001b[0m\u001b[0mself\u001b[0m\u001b[0;34m)\u001b[0m\u001b[0;34m:\u001b[0m\u001b[0;34m\u001b[0m\u001b[0m\n",
      "\u001b[0;32m~/anaconda3/lib/python3.6/site-packages/surprise/model_selection/validation.py\u001b[0m in \u001b[0;36mfit_and_score\u001b[0;34m(algo, trainset, testset, measures, return_train_measures)\u001b[0m\n\u001b[1;32m    162\u001b[0m \u001b[0;34m\u001b[0m\u001b[0m\n\u001b[1;32m    163\u001b[0m     \u001b[0mstart_fit\u001b[0m \u001b[0;34m=\u001b[0m \u001b[0mtime\u001b[0m\u001b[0;34m.\u001b[0m\u001b[0mtime\u001b[0m\u001b[0;34m(\u001b[0m\u001b[0;34m)\u001b[0m\u001b[0;34m\u001b[0m\u001b[0m\n\u001b[0;32m--> 164\u001b[0;31m     \u001b[0malgo\u001b[0m\u001b[0;34m.\u001b[0m\u001b[0mfit\u001b[0m\u001b[0;34m(\u001b[0m\u001b[0mtrainset\u001b[0m\u001b[0;34m)\u001b[0m\u001b[0;34m\u001b[0m\u001b[0m\n\u001b[0m\u001b[1;32m    165\u001b[0m     \u001b[0mfit_time\u001b[0m \u001b[0;34m=\u001b[0m \u001b[0mtime\u001b[0m\u001b[0;34m.\u001b[0m\u001b[0mtime\u001b[0m\u001b[0;34m(\u001b[0m\u001b[0;34m)\u001b[0m \u001b[0;34m-\u001b[0m \u001b[0mstart_fit\u001b[0m\u001b[0;34m\u001b[0m\u001b[0m\n\u001b[1;32m    166\u001b[0m     \u001b[0mstart_test\u001b[0m \u001b[0;34m=\u001b[0m \u001b[0mtime\u001b[0m\u001b[0;34m.\u001b[0m\u001b[0mtime\u001b[0m\u001b[0;34m(\u001b[0m\u001b[0;34m)\u001b[0m\u001b[0;34m\u001b[0m\u001b[0m\n",
      "\u001b[0;32m~/anaconda3/lib/python3.6/site-packages/surprise/prediction_algorithms/matrix_factorization.pyx\u001b[0m in \u001b[0;36msurprise.prediction_algorithms.matrix_factorization.SVD.fit\u001b[0;34m()\u001b[0m\n",
      "\u001b[0;32m~/anaconda3/lib/python3.6/site-packages/surprise/prediction_algorithms/matrix_factorization.pyx\u001b[0m in \u001b[0;36msurprise.prediction_algorithms.matrix_factorization.SVD.sgd\u001b[0;34m()\u001b[0m\n",
      "\u001b[0;32m~/anaconda3/lib/python3.6/site-packages/surprise/trainset.py\u001b[0m in \u001b[0;36mall_ratings\u001b[0;34m(self)\u001b[0m\n\u001b[1;32m    188\u001b[0m         \u001b[0;32mfor\u001b[0m \u001b[0mu\u001b[0m\u001b[0;34m,\u001b[0m \u001b[0mu_ratings\u001b[0m \u001b[0;32min\u001b[0m \u001b[0miteritems\u001b[0m\u001b[0;34m(\u001b[0m\u001b[0mself\u001b[0m\u001b[0;34m.\u001b[0m\u001b[0mur\u001b[0m\u001b[0;34m)\u001b[0m\u001b[0;34m:\u001b[0m\u001b[0;34m\u001b[0m\u001b[0m\n\u001b[1;32m    189\u001b[0m             \u001b[0;32mfor\u001b[0m \u001b[0mi\u001b[0m\u001b[0;34m,\u001b[0m \u001b[0mr\u001b[0m \u001b[0;32min\u001b[0m \u001b[0mu_ratings\u001b[0m\u001b[0;34m:\u001b[0m\u001b[0;34m\u001b[0m\u001b[0m\n\u001b[0;32m--> 190\u001b[0;31m                 \u001b[0;32myield\u001b[0m \u001b[0mu\u001b[0m\u001b[0;34m,\u001b[0m \u001b[0mi\u001b[0m\u001b[0;34m,\u001b[0m \u001b[0mr\u001b[0m\u001b[0;34m\u001b[0m\u001b[0m\n\u001b[0m\u001b[1;32m    191\u001b[0m \u001b[0;34m\u001b[0m\u001b[0m\n\u001b[1;32m    192\u001b[0m     \u001b[0;32mdef\u001b[0m \u001b[0mbuild_testset\u001b[0m\u001b[0;34m(\u001b[0m\u001b[0mself\u001b[0m\u001b[0;34m)\u001b[0m\u001b[0;34m:\u001b[0m\u001b[0;34m\u001b[0m\u001b[0m\n",
      "\u001b[0;31mKeyboardInterrupt\u001b[0m: "
     ]
    }
   ],
   "source": [
    "learning_rate=np.arange(0.001,0.01,0.002)\n",
    "regularization=np.arange(0.01,0.1,0.02)\n",
    "n_factors=np.arange(50,200,50)\n",
    "n_epochs=np.arange(10,100,20)\n",
    "\n",
    "svd_result=[]\n",
    "for lr in learning_rate:\n",
    "    SVD_time = []\n",
    "    SVD_train_MAE=[]\n",
    "    SVD_test_MAE=[]\n",
    "    SVD_train_RMSE=[]\n",
    "    SVD_test_RMSE=[]\n",
    "    \n",
    "    for reg in regularization:\n",
    "        algo=SVD(n_epochs =50,lr_all=lr,reg_all=reg)\n",
    "        c_v=cross_validate(algo, data,cv=10, verbose=True,return_train_measures =True)\n",
    "        SVD_time.append(np.mean(c_v['fit_time']))\n",
    "        SVD_train_MAE.append(np.mean(c_v['train_mae']))\n",
    "        SVD_test_MAE.append(np.mean(c_v['test_mae']))\n",
    "        SVD_train_RMSE.append(np.mean(c_v['train_rmse']))\n",
    "        SVD_test_RMSE.append(np.mean(c_v['test_rmse']))\n",
    "    svd_result.append([SVD_time,SVD_train_MAE,SVD_test_MAE,SVD_train_RMSE,SVD_test_RMSE])\n"
   ]
  },
  {
   "cell_type": "code",
   "execution_count": 29,
   "metadata": {},
   "outputs": [
    {
     "data": {
      "text/plain": [
       "[[[15.293750190734864,\n",
       "   14.94609625339508,\n",
       "   14.946623635292053,\n",
       "   14.976887035369874,\n",
       "   14.889759254455566],\n",
       "  [0.5878614863561233,\n",
       "   0.606283734843424,\n",
       "   0.6174699439785853,\n",
       "   0.6252736268212058,\n",
       "   0.6308323111069642],\n",
       "  [0.6768896006221607,\n",
       "   0.6751037754826635,\n",
       "   0.6752811370158377,\n",
       "   0.6750017440552366,\n",
       "   0.6756663356229016],\n",
       "  [0.7614167909815415,\n",
       "   0.7849014210413776,\n",
       "   0.7994625893790019,\n",
       "   0.8094448863568615,\n",
       "   0.816580190690957],\n",
       "  [0.8793295542076776,\n",
       "   0.8764455277370816,\n",
       "   0.8765410887708927,\n",
       "   0.876090822781871,\n",
       "   0.8763894673389556]],\n",
       " [[14.83118748664856,\n",
       "   15.415873265266418,\n",
       "   15.11498761177063,\n",
       "   14.540412735939025,\n",
       "   14.364144492149354],\n",
       "  [0.3281862596663627,\n",
       "   0.4250137473129982,\n",
       "   0.4938101659966515,\n",
       "   0.5394943473554509,\n",
       "   0.5709045294991356],\n",
       "  [0.6788651514395333,\n",
       "   0.6612879908149056,\n",
       "   0.6577744226058407,\n",
       "   0.6585936401964241,\n",
       "   0.661093546395092],\n",
       "  [0.4266278234119424,\n",
       "   0.544297532401491,\n",
       "   0.6329143638043581,\n",
       "   0.6934390145143939,\n",
       "   0.7355565250490289],\n",
       "  [0.8840647190584109,\n",
       "   0.862856538890389,\n",
       "   0.8575522896688345,\n",
       "   0.8583555214309297,\n",
       "   0.860628834166619]],\n",
       " [[14.592603182792663,\n",
       "   14.50132930278778,\n",
       "   14.76993408203125,\n",
       "   15.34159746170044,\n",
       "   14.922067594528198],\n",
       "  [0.19511190897175607,\n",
       "   0.2993022580024219,\n",
       "   0.3862270899332767,\n",
       "   0.456041685156139,\n",
       "   0.5104268433011873],\n",
       "  [0.6892667339300675,\n",
       "   0.6607364537619476,\n",
       "   0.6511599752283801,\n",
       "   0.6497781781868501,\n",
       "   0.6527596402471254],\n",
       "  [0.2568714852642221,\n",
       "   0.3832530373195531,\n",
       "   0.4934656774405012,\n",
       "   0.5833023121344774,\n",
       "   0.6540838154660227],\n",
       "  [0.8972835670852335,\n",
       "   0.8633422628393328,\n",
       "   0.8504714109668715,\n",
       "   0.8486800547001628,\n",
       "   0.8504948297715194]],\n",
       " [[14.648702549934388,\n",
       "   14.73521032333374,\n",
       "   14.604305863380432,\n",
       "   14.617889356613158,\n",
       "   14.766364240646363],\n",
       "  [0.1371484386068916,\n",
       "   0.2360133343174291,\n",
       "   0.32332540829855294,\n",
       "   0.3993394061561587,\n",
       "   0.461989966094624],\n",
       "  [0.6942160684611018,\n",
       "   0.6620433686740116,\n",
       "   0.6513867491453242,\n",
       "   0.6478822973344617,\n",
       "   0.6480889224450141],\n",
       "  [0.1834050932822584,\n",
       "   0.304077796933346,\n",
       "   0.4148525782866804,\n",
       "   0.5117461547986127,\n",
       "   0.5923180230440235],\n",
       "  [0.9026013257244314,\n",
       "   0.8643578506694535,\n",
       "   0.8513602926908771,\n",
       "   0.8466803801577395,\n",
       "   0.8460822301474245]],\n",
       " [[14.90623643398285,\n",
       "   14.40275137424469,\n",
       "   14.831049227714539,\n",
       "   15.052697372436523,\n",
       "   15.01232407093048],\n",
       "  [0.1085361730883185,\n",
       "   0.20119478610229904,\n",
       "   0.28624959257345034,\n",
       "   0.363055949254638,\n",
       "   0.4290879140632075],\n",
       "  [0.6917975570900883,\n",
       "   0.661221011931569,\n",
       "   0.6502432216441377,\n",
       "   0.646710529248089,\n",
       "   0.6467110025616818],\n",
       "  [0.14832142183039793,\n",
       "   0.2623665667132419,\n",
       "   0.37048958008087024,\n",
       "   0.4676771719441667,\n",
       "   0.551347561016281],\n",
       "  [0.8997387999773375,\n",
       "   0.8631357059822256,\n",
       "   0.8504671953915333,\n",
       "   0.8456386267118738,\n",
       "   0.8443584265144795]]]"
      ]
     },
     "execution_count": 29,
     "metadata": {},
     "output_type": "execute_result"
    }
   ],
   "source": [
    "svd_result"
   ]
  },
  {
   "cell_type": "markdown",
   "metadata": {},
   "source": [
    "## Evaluate SVD by surprise"
   ]
  },
  {
   "cell_type": "code",
   "execution_count": 30,
   "metadata": {},
   "outputs": [],
   "source": [
    "svd_time = []\n",
    "svd_train_MAE = []\n",
    "svd_test_MAE = []\n",
    "svd_train_RMSE = []\n",
    "svd_test_RMSE = []\n",
    "for row in svd_result:\n",
    "    svd_time.append(row[0])\n",
    "    svd_train_MAE.append(row[1])\n",
    "    svd_test_MAE.append(row[2])\n",
    "    svd_train_RMSE.append(row[3])\n",
    "    svd_test_RMSE.append(row[4])"
   ]
  },
  {
   "cell_type": "markdown",
   "metadata": {},
   "source": [
    "### Fitting time vs. hyper-parameters"
   ]
  },
  {
   "cell_type": "code",
   "execution_count": 31,
   "metadata": {
    "scrolled": true
   },
   "outputs": [],
   "source": [
    "svd_time = pd.DataFrame(svd_time)\n",
    "svd_time.index = learning_rate.round(3)\n",
    "svd_time.index.name = 'learning_rate'\n",
    "svd_time.columns = regularization.round(2)\n",
    "svd_time.columns.name = 'regularization'"
   ]
  },
  {
   "cell_type": "code",
   "execution_count": 32,
   "metadata": {
    "scrolled": true
   },
   "outputs": [
    {
     "data": {
      "text/plain": [
       "<matplotlib.axes._subplots.AxesSubplot at 0x1a202733c8>"
      ]
     },
     "execution_count": 32,
     "metadata": {},
     "output_type": "execute_result"
    },
    {
     "data": {
      "image/png": "[encoded data removed]",
      "text/plain": [
       "<Figure size 432x288 with 2 Axes>"
      ]
     },
     "metadata": {},
     "output_type": "display_data"
    }
   ],
   "source": [
    "sns.heatmap(data = svd_time,cbar_kws={'label': 'time'})"
   ]
  },
  {
   "cell_type": "markdown",
   "metadata": {},
   "source": [
    "As the plot showing, there is no pattern of relationships between fitting time and learning rate at a fixed regularization. The SVD model's fitting time has no strong relations with the learning rate and regularization."
   ]
  },
  {
   "cell_type": "markdown",
   "metadata": {},
   "source": [
    "### Mean_Absolute _Error (MAE) & Root Mean Squared Error (RMSE)\n",
    "#### primary accuracy metric : MAE"
   ]
  },
  {
   "cell_type": "code",
   "execution_count": 33,
   "metadata": {},
   "outputs": [],
   "source": [
    "svd_test_MAE = pd.DataFrame(svd_test_MAE)\n",
    "svd_test_MAE.index = learning_rate.round(3)\n",
    "svd_test_MAE.index.name = 'learning_rate'\n",
    "svd_test_MAE.columns = regularization.round(2)\n",
    "svd_test_MAE.columns.name = 'regularization'"
   ]
  },
  {
   "cell_type": "code",
   "execution_count": 34,
   "metadata": {},
   "outputs": [
    {
     "data": {
      "text/plain": [
       "<matplotlib.axes._subplots.AxesSubplot at 0x1a206377b8>"
      ]
     },
     "execution_count": 34,
     "metadata": {},
     "output_type": "execute_result"
    },
    {
     "data": {
      "image/png": "[encoded data removed]",
      "text/plain": [
       "<Figure size 432x288 with 2 Axes>"
      ]
     },
     "metadata": {},
     "output_type": "display_data"
    }
   ],
   "source": [
    "sns.heatmap(data = svd_test_MAE,cbar_kws={'label': 'MAE'})"
   ]
  },
  {
   "cell_type": "markdown",
   "metadata": {},
   "source": [
    "As we can clearly see in the plot, increasing learning rate causes lower MAE on test data at each level of regularization. The heavier weight of the regularization, the lower the MAE."
   ]
  },
  {
   "cell_type": "markdown",
   "metadata": {},
   "source": [
    "#### secondary accuracy metric : RMSE"
   ]
  },
  {
   "cell_type": "code",
   "execution_count": 35,
   "metadata": {},
   "outputs": [],
   "source": [
    "svd_test_RMSE = pd.DataFrame(svd_test_RMSE)\n",
    "svd_test_RMSE.index = learning_rate.round(3)\n",
    "svd_test_RMSE.index.name = 'learning_rate'\n",
    "svd_test_RMSE.columns = regularization.round(2)\n",
    "svd_test_RMSE.columns.name = 'regularization'"
   ]
  },
  {
   "cell_type": "code",
   "execution_count": 36,
   "metadata": {},
   "outputs": [
    {
     "data": {
      "text/plain": [
       "<matplotlib.axes._subplots.AxesSubplot at 0x1a20357390>"
      ]
     },
     "execution_count": 36,
     "metadata": {},
     "output_type": "execute_result"
    },
    {
     "data": {
      "image/png": "[encoded data removed]",
      "text/plain": [
       "<Figure size 432x288 with 2 Axes>"
      ]
     },
     "metadata": {},
     "output_type": "display_data"
    }
   ],
   "source": [
    "sns.heatmap(data = svd_test_RMSE,cbar_kws={'label': 'RMSE'})"
   ]
  },
  {
   "cell_type": "markdown",
   "metadata": {},
   "source": [
    "The trend of RMSE is similar with MAE. RMSE goes down as more regularization is enforced."
   ]
  },
  {
   "cell_type": "markdown",
   "metadata": {},
   "source": [
    "### How does Data size impact the accuracy of SVD?"
   ]
  },
  {
   "cell_type": "code",
   "execution_count": 60,
   "metadata": {},
   "outputs": [],
   "source": [
    "param_grid = {'lr_all': learning_rate,'reg_all':regularization}\n",
    "svd_gs=GridSearchCV(SVD,param_grid)\n",
    "svd_gs.fit(data)\n",
    "\n",
    "bestlr = svd_gs.best_params['mae']['lr_all']\n",
    "bestreg=svd_gs.best_params['mae']['reg_all']"
   ]
  },
  {
   "cell_type": "code",
   "execution_count": 42,
   "metadata": {},
   "outputs": [
    {
     "name": "stdout",
     "output_type": "stream",
     "text": [
      "Evaluating RMSE, MAE of algorithm SVD on 10 split(s).\n",
      "\n",
      "                  Fold 1  Fold 2  Fold 3  Fold 4  Fold 5  Fold 6  Fold 7  Fold 8  Fold 9  Fold 10 Mean    Std     \n",
      "RMSE (testset)    0.9031  0.9199  0.9220  0.9106  0.9321  0.9018  0.8951  0.9387  0.8871  0.9161  0.9126  0.0154  \n",
      "MAE (testset)     0.6987  0.7053  0.7144  0.7023  0.7111  0.6912  0.6806  0.7167  0.6957  0.7090  0.7025  0.0107  \n",
      "RMSE (trainset)   0.3246  0.3214  0.3247  0.3215  0.3230  0.3218  0.3221  0.3227  0.3220  0.3240  0.3228  0.0012  \n",
      "MAE (trainset)    0.2550  0.2532  0.2552  0.2523  0.2538  0.2530  0.2530  0.2534  0.2527  0.2544  0.2536  0.0009  \n",
      "Fit time          2.81    2.63    2.68    2.71    2.82    2.99    3.21    2.79    2.77    2.84    2.83    0.16    \n",
      "Test time         0.01    0.01    0.01    0.01    0.01    0.01    0.01    0.01    0.01    0.01    0.01    0.00    \n",
      "Evaluating RMSE, MAE of algorithm SVD on 10 split(s).\n",
      "\n",
      "                  Fold 1  Fold 2  Fold 3  Fold 4  Fold 5  Fold 6  Fold 7  Fold 8  Fold 9  Fold 10 Mean    Std     \n",
      "RMSE (testset)    0.8723  0.8827  0.8918  0.9077  0.9139  0.8960  0.8943  0.8989  0.8829  0.8871  0.8928  0.0117  \n",
      "MAE (testset)     0.6726  0.6827  0.6797  0.6985  0.7033  0.6859  0.6821  0.6928  0.6783  0.6844  0.6860  0.0090  \n",
      "RMSE (trainset)   0.3710  0.3724  0.3724  0.3719  0.3712  0.3734  0.3706  0.3727  0.3741  0.3729  0.3723  0.0010  \n",
      "MAE (trainset)    0.2902  0.2906  0.2914  0.2906  0.2905  0.2918  0.2895  0.2914  0.2926  0.2916  0.2910  0.0008  \n",
      "Fit time          5.52    5.45    5.53    6.23    5.41    5.70    5.38    5.41    5.39    5.45    5.55    0.24    \n",
      "Test time         0.02    0.02    0.02    0.02    0.02    0.02    0.02    0.02    0.02    0.02    0.02    0.00    \n",
      "Evaluating RMSE, MAE of algorithm SVD on 10 split(s).\n",
      "\n",
      "                  Fold 1  Fold 2  Fold 3  Fold 4  Fold 5  Fold 6  Fold 7  Fold 8  Fold 9  Fold 10 Mean    Std     \n",
      "RMSE (testset)    0.8710  0.8822  0.8584  0.8810  0.8688  0.8756  0.8739  0.8617  0.8621  0.8869  0.8722  0.0091  \n",
      "MAE (testset)     0.6707  0.6758  0.6589  0.6770  0.6710  0.6731  0.6757  0.6602  0.6625  0.6780  0.6703  0.0068  \n",
      "RMSE (trainset)   0.4092  0.4093  0.4098  0.4102  0.4093  0.4103  0.4081  0.4107  0.4079  0.4097  0.4094  0.0009  \n",
      "MAE (trainset)    0.3188  0.3189  0.3189  0.3197  0.3187  0.3199  0.3176  0.3203  0.3176  0.3195  0.3190  0.0009  \n",
      "Fit time          8.16    8.12    8.12    8.12    8.09    8.14    8.78    8.12    8.12    8.59    8.24    0.23    \n",
      "Test time         0.03    0.03    0.03    0.03    0.03    0.03    0.04    0.03    0.03    0.04    0.03    0.00    \n",
      "Evaluating RMSE, MAE of algorithm SVD on 10 split(s).\n",
      "\n",
      "                  Fold 1  Fold 2  Fold 3  Fold 4  Fold 5  Fold 6  Fold 7  Fold 8  Fold 9  Fold 10 Mean    Std     \n",
      "RMSE (testset)    0.8562  0.8677  0.8586  0.8521  0.8673  0.8590  0.8635  0.8460  0.8544  0.8614  0.8586  0.0064  \n",
      "MAE (testset)     0.6560  0.6640  0.6584  0.6491  0.6635  0.6561  0.6620  0.6513  0.6517  0.6631  0.6575  0.0053  \n",
      "RMSE (trainset)   0.4406  0.4400  0.4407  0.4421  0.4425  0.4411  0.4411  0.4416  0.4404  0.4419  0.4412  0.0008  \n",
      "MAE (trainset)    0.3422  0.3415  0.3417  0.3433  0.3436  0.3423  0.3429  0.3425  0.3421  0.3429  0.3425  0.0006  \n",
      "Fit time          12.62   12.40   12.01   11.32   10.96   11.39   10.92   10.94   11.19   12.06   11.58   0.61    \n",
      "Test time         0.11    0.05    0.05    0.05    0.04    0.04    0.04    0.04    0.06    0.05    0.05    0.02    \n",
      "Evaluating RMSE, MAE of algorithm SVD on 10 split(s).\n",
      "\n",
      "                  Fold 1  Fold 2  Fold 3  Fold 4  Fold 5  Fold 6  Fold 7  Fold 8  Fold 9  Fold 10 Mean    Std     \n",
      "RMSE (testset)    0.8319  0.8400  0.8465  0.8600  0.8444  0.8405  0.8418  0.8473  0.8470  0.8425  0.8442  0.0068  \n",
      "MAE (testset)     0.6372  0.6434  0.6488  0.6583  0.6460  0.6434  0.6455  0.6467  0.6466  0.6436  0.6460  0.0051  \n",
      "RMSE (trainset)   0.4678  0.4674  0.4680  0.4667  0.4675  0.4687  0.4688  0.4670  0.4676  0.4664  0.4676  0.0007  \n",
      "MAE (trainset)    0.3633  0.3630  0.3630  0.3621  0.3628  0.3639  0.3638  0.3625  0.3627  0.3622  0.3629  0.0006  \n",
      "Fit time          15.45   15.55   15.05   13.65   13.67   13.85   14.95   13.87   14.24   13.78   14.41   0.72    \n",
      "Test time         0.12    0.06    0.05    0.06    0.05    0.12    0.05    0.06    0.06    0.05    0.07    0.03    \n"
     ]
    }
   ],
   "source": [
    "SVD_time = []\n",
    "SVD_train_MAE=[]\n",
    "SVD_test_MAE=[]\n",
    "SVD_train_RMSE=[]\n",
    "SVD_test_RMSE=[]\n",
    "SVD_size_effect=[]\n",
    "for n in new_size:\n",
    "    new_df=df.sample(n=n)\n",
    "    data=Dataset.load_from_df(new_df,reader=reader)\n",
    "    algo=SVD(n_epochs =50,lr_all=bestlr,reg_all=bestreg)\n",
    "    c_v=cross_validate(algo, data,cv=10, verbose=True,return_train_measures =True)\n",
    "    SVD_time.append(np.mean(c_v['fit_time']))\n",
    "    SVD_train_MAE.append(np.mean(c_v['train_mae']))\n",
    "    SVD_test_MAE.append(np.mean(c_v['test_mae']))\n",
    "    SVD_train_RMSE.append(np.mean(c_v['train_rmse']))\n",
    "    SVD_test_RMSE.append(np.mean(c_v['test_rmse']))\n",
    "SVD_size_effect.append([SVD_time,SVD_train_MAE,SVD_test_MAE,SVD_train_RMSE,SVD_test_RMSE])"
   ]
  },
  {
   "cell_type": "code",
   "execution_count": 342,
   "metadata": {},
   "outputs": [
    {
     "name": "stdout",
     "output_type": "stream",
     "text": [
      "Stored 'SVD_size_effect' (list)\n"
     ]
    }
   ],
   "source": [
    "%store SVD_size_effect"
   ]
  },
  {
   "cell_type": "code",
   "execution_count": 43,
   "metadata": {},
   "outputs": [
    {
     "data": {
      "text/plain": [
       "0.009000000000000001"
      ]
     },
     "execution_count": 43,
     "metadata": {},
     "output_type": "execute_result"
    }
   ],
   "source": [
    "bestlr"
   ]
  },
  {
   "cell_type": "code",
   "execution_count": 44,
   "metadata": {},
   "outputs": [
    {
     "data": {
      "text/plain": [
       "0.06999999999999999"
      ]
     },
     "execution_count": 44,
     "metadata": {},
     "output_type": "execute_result"
    }
   ],
   "source": [
    "bestreg"
   ]
  },
  {
   "cell_type": "code",
   "execution_count": 71,
   "metadata": {
    "scrolled": true
   },
   "outputs": [
    {
     "data": {
      "text/plain": [
       "[[2.825703763961792,\n",
       "  5.547080683708191,\n",
       "  8.237026929855347,\n",
       "  11.580831670761109,\n",
       "  14.405395221710204],\n",
       " [0.25359704368156943,\n",
       "  0.29103409744674347,\n",
       "  0.31899733066335634,\n",
       "  0.34249580940766333,\n",
       "  0.36291928616750707],\n",
       " [0.7025067628566097,\n",
       "  0.6860331841677325,\n",
       "  0.6702736199437369,\n",
       "  0.6575217320661327,\n",
       "  0.6459514326134578],\n",
       " [0.3227840906876074,\n",
       "  0.37227287430596406,\n",
       "  0.40943551726940647,\n",
       "  0.441195335118295,\n",
       "  0.46759323218033017],\n",
       " [0.9126430363816462,\n",
       "  0.8927526186365793,\n",
       "  0.8721704667860543,\n",
       "  0.8586235960773985,\n",
       "  0.8441885144961937]]"
      ]
     },
     "execution_count": 71,
     "metadata": {},
     "output_type": "execute_result"
    }
   ],
   "source": [
    "SVD_size_effect"
   ]
  },
  {
   "cell_type": "code",
   "execution_count": 74,
   "metadata": {
    "scrolled": false
   },
   "outputs": [
    {
     "data": {
      "text/plain": [
       "<matplotlib.axes._subplots.AxesSubplot at 0x1a21d908d0>"
      ]
     },
     "execution_count": 74,
     "metadata": {},
     "output_type": "execute_result"
    },
    {
     "data": {
      "image/png": "[encoded data removed]",
      "text/plain": [
       "<Figure size 432x288 with 1 Axes>"
      ]
     },
     "metadata": {},
     "output_type": "display_data"
    }
   ],
   "source": [
    "svd_newsize_metrics = pd.DataFrame(np.column_stack([SVD_train_MAE, SVD_test_MAE,SVD_train_RMSE, SVD_test_RMSE]),\n",
    "                   columns=['SVD_train_MAE', 'SVD_test_MAE','SVD_train_RMSE', 'SVD_test_RMSE'])\n",
    "svd_newsize_metrics.index = new_size\n",
    "plt.title(\"the accuracy metrics change when changing model size\")\n",
    "plt.xlabel(\"model size\")\n",
    "plt.ylabel(\"accuracy metrics\")\n",
    "sns.lineplot(data = svd_newsize_metrics, palette=\"tab10\")"
   ]
  },
  {
   "cell_type": "markdown",
   "metadata": {},
   "source": [
    "The model overfits the training data very easily when the training set is small. \n",
    "MAE and RMSE is getting smaller when sample size increases."
   ]
  },
  {
   "cell_type": "markdown",
   "metadata": {},
   "source": [
    "### How does Data size impact the run-time of SVD?"
   ]
  },
  {
   "cell_type": "code",
   "execution_count": 47,
   "metadata": {},
   "outputs": [
    {
     "data": {
      "text/plain": [
       "<matplotlib.axes._subplots.AxesSubplot at 0x1a1f0f0668>"
      ]
     },
     "execution_count": 47,
     "metadata": {},
     "output_type": "execute_result"
    },
    {
     "data": {
      "image/png": "[encoded data removed]",
      "text/plain": [
       "<Figure size 432x288 with 1 Axes>"
      ]
     },
     "metadata": {},
     "output_type": "display_data"
    }
   ],
   "source": [
    "SVD_newsize_time = pd.DataFrame(SVD_time,columns=['SVD_time'])\n",
    "SVD_newsize_time.index = new_size\n",
    "plt.title(\"the run-time change when changing model size\")\n",
    "plt.xlabel(\"model size\")\n",
    "plt.ylabel(\"run-time\")\n",
    "sns.lineplot(data = SVD_newsize_time, palette=\"tab10\")"
   ]
  },
  {
   "cell_type": "markdown",
   "metadata": {},
   "source": [
    "The smaller the sample size, the faster the model fits. "
   ]
  },
  {
   "cell_type": "markdown",
   "metadata": {},
   "source": [
    "### Conclusions on SVD model:\n",
    "#### Effect of hyper-parameters:\n",
    "* Running(fitting) time: The learning rate and regularization does not affect the fitting time but sample size does.\n",
    "* SVD model tends to overfit train data when sample size is small.\n",
    "* MAE and RMSE goes down as more weights on regularization and under less learning rates.\n",
    "#### Drawbacks of SVD：\n",
    "* Large number of free parameters which makes finding a good set of parameters that will work good for all cases is very hard.\n",
    "\n",
    "\n"
   ]
  },
  {
   "cell_type": "markdown",
   "metadata": {},
   "source": [
    "# Conclusions:"
   ]
  },
  {
   "cell_type": "markdown",
   "metadata": {},
   "source": [
    "### Factors that matter in a recommendation algorithms in HW2:\n",
    "#### * Accuracy: \n",
    "       * It matters that the accuracy of a recommender is good, since we wouldn't like the users receives a recommendation that he don't like, which would cause the reduction of engagement of users.\n",
    "#### * Fitting time:\n",
    "       * In a real world project, the dataset is usually large. It's significant that the fitting time is as efficient as possible without hurt of performance.\n",
    "\n",
    "#### * The best parameters:\n",
    "       * In order to having good performance, we need to train the model by finding a good set of parameters. \n",
    "       \n",
    "\n",
    "#### In order to make business decision on choosing a recommender, we need to leverage these three factors to choose our models.\n",
    "\n",
    "* Accuracy: The average MAE of KNN, NMF, and SVD in this case are all around 0.67.\n",
    "* Fitting time: \n",
    " \n",
    "      When sample size is small (20000) : The fitting time of KNN and SVD are faster than NMF.\n",
    "      When sample size gets larger (100000) : The fitting time of NMF are less than other two models.\n",
    "* Hyper-parameters:\n",
    "      SVD has lots of free parameters. If we are facing a large dataset, it will take lots of time and efforts to find a set of parameters that best fit the model. \n",
    "      For KNN, since the dataset we use is small, the MAE or RMSE does not change much when neighbor size gets larger. For a real world problem with a large or a sparse dataset, it's hard to find users that have rated the same items.\n",
    "      \n"
   ]
  }
 ],
 "metadata": {
  "kernelspec": {
   "display_name": "Python 3",
   "language": "python",
   "name": "python3"
  },
  "language_info": {
   "codemirror_mode": {
    "name": "ipython",
    "version": 3
   },
   "file_extension": ".py",
   "mimetype": "text/x-python",
   "name": "python",
   "nbconvert_exporter": "python",
   "pygments_lexer": "ipython3",
   "version": "3.6.7"
  }
 },
 "nbformat": 4,
 "nbformat_minor": 2
}
