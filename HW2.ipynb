{
 "cells": [
  {
   "cell_type": "code",
   "execution_count": 5,
   "metadata": {},
   "outputs": [],
   "source": [
    "import pandas as pd\n",
    "import numpy as np\n",
    "import matplotlib.pyplot as plt\n",
    "import seaborn as sns\n",
    "import surprise\n",
    "from surprise.prediction_algorithms.knns import KNNBaseline\n",
    "from surprise.prediction_algorithms.matrix_factorization import SVD\n",
    "from surprise.model_selection import cross_validate\n",
    "from surprise.model_selection.search import GridSearchCV\n",
    "from surprise import Dataset\n",
    "from surprise import Reader\n",
    "%matplotlib inline"
   ]
  },
  {
   "cell_type": "code",
   "execution_count": 6,
   "metadata": {},
   "outputs": [],
   "source": [
    "reader = Reader(line_format='user item rating', sep=',', skip_lines=3, rating_scale=(1, 5))"
   ]
  },
  {
   "cell_type": "code",
   "execution_count": 7,
   "metadata": {},
   "outputs": [],
   "source": [
    "df=pd.read_csv('./ml-latest-small/ratings.csv')\n",
    "df=df.drop(['timestamp'],axis=1)\n",
    "data=Dataset.load_from_df(df,reader=reader)"
   ]
  },
  {
   "cell_type": "code",
   "execution_count": 8,
   "metadata": {},
   "outputs": [],
   "source": [
    "origin_size=len(df.values)\n",
    "gap=int(origin_size/5)\n",
    "new_size=np.arange(gap,origin_size,gap)"
   ]
  },
  {
   "cell_type": "code",
   "execution_count": 9,
   "metadata": {},
   "outputs": [],
   "source": [
    "neighbor_size=np.arange(5,100,10)"
   ]
  },
  {
   "cell_type": "markdown",
   "metadata": {},
   "source": [
    "## Knn"
   ]
  },
  {
   "cell_type": "code",
   "execution_count": 40,
   "metadata": {
    "scrolled": true
   },
   "outputs": [
    {
     "name": "stdout",
     "output_type": "stream",
     "text": [
      "Estimating biases using als...\n",
      "Computing the msd similarity matrix...\n",
      "Done computing similarity matrix.\n",
      "Estimating biases using als...\n",
      "Computing the msd similarity matrix...\n",
      "Done computing similarity matrix.\n",
      "Estimating biases using als...\n",
      "Computing the msd similarity matrix...\n",
      "Done computing similarity matrix.\n",
      "Estimating biases using als...\n",
      "Computing the msd similarity matrix...\n",
      "Done computing similarity matrix.\n",
      "Estimating biases using als...\n",
      "Computing the msd similarity matrix...\n",
      "Done computing similarity matrix.\n",
      "Estimating biases using als...\n",
      "Computing the msd similarity matrix...\n",
      "Done computing similarity matrix.\n",
      "Estimating biases using als...\n",
      "Computing the msd similarity matrix...\n",
      "Done computing similarity matrix.\n",
      "Estimating biases using als...\n",
      "Computing the msd similarity matrix...\n",
      "Done computing similarity matrix.\n",
      "Estimating biases using als...\n",
      "Computing the msd similarity matrix...\n",
      "Done computing similarity matrix.\n",
      "Estimating biases using als...\n",
      "Computing the msd similarity matrix...\n",
      "Done computing similarity matrix.\n",
      "Evaluating RMSE, MAE of algorithm KNNBaseline on 10 split(s).\n",
      "\n",
      "                  Fold 1  Fold 2  Fold 3  Fold 4  Fold 5  Fold 6  Fold 7  Fold 8  Fold 9  Fold 10 Mean    Std     \n",
      "RMSE (testset)    0.9000  0.9082  0.8913  0.8900  0.9022  0.9104  0.8940  0.8794  0.8956  0.8875  0.8959  0.0091  \n",
      "MAE (testset)     0.6873  0.7027  0.6846  0.6819  0.6907  0.7014  0.6820  0.6718  0.6863  0.6777  0.6866  0.0092  \n",
      "RMSE (trainset)   0.4861  0.4855  0.4866  0.4858  0.4864  0.4860  0.4862  0.4866  0.4871  0.4878  0.4864  0.0006  \n",
      "MAE (trainset)    0.3663  0.3657  0.3669  0.3654  0.3661  0.3658  0.3662  0.3663  0.3664  0.3673  0.3662  0.0005  \n",
      "Fit time          0.36    0.32    0.34    0.34    0.32    0.34    0.33    0.31    0.33    0.32    0.33    0.01    \n",
      "Test time         0.47    0.46    0.52    0.48    0.47    0.51    0.48    0.48    0.47    0.47    0.48    0.02    \n",
      "Estimating biases using als...\n",
      "Computing the msd similarity matrix...\n",
      "Done computing similarity matrix.\n",
      "Estimating biases using als...\n",
      "Computing the msd similarity matrix...\n",
      "Done computing similarity matrix.\n",
      "Estimating biases using als...\n",
      "Computing the msd similarity matrix...\n",
      "Done computing similarity matrix.\n",
      "Estimating biases using als...\n",
      "Computing the msd similarity matrix...\n",
      "Done computing similarity matrix.\n",
      "Estimating biases using als...\n",
      "Computing the msd similarity matrix...\n",
      "Done computing similarity matrix.\n",
      "Estimating biases using als...\n",
      "Computing the msd similarity matrix...\n",
      "Done computing similarity matrix.\n",
      "Estimating biases using als...\n",
      "Computing the msd similarity matrix...\n",
      "Done computing similarity matrix.\n",
      "Estimating biases using als...\n",
      "Computing the msd similarity matrix...\n",
      "Done computing similarity matrix.\n",
      "Estimating biases using als...\n",
      "Computing the msd similarity matrix...\n",
      "Done computing similarity matrix.\n",
      "Estimating biases using als...\n",
      "Computing the msd similarity matrix...\n",
      "Done computing similarity matrix.\n",
      "Evaluating RMSE, MAE of algorithm KNNBaseline on 10 split(s).\n",
      "\n",
      "                  Fold 1  Fold 2  Fold 3  Fold 4  Fold 5  Fold 6  Fold 7  Fold 8  Fold 9  Fold 10 Mean    Std     \n",
      "RMSE (testset)    0.8591  0.8763  0.8737  0.8692  0.8658  0.8685  0.8587  0.8816  0.8802  0.8761  0.8709  0.0077  \n",
      "MAE (testset)     0.6573  0.6684  0.6665  0.6665  0.6613  0.6634  0.6609  0.6741  0.6710  0.6673  0.6657  0.0048  \n",
      "RMSE (trainset)   0.6170  0.6152  0.6157  0.6162  0.6163  0.6165  0.6163  0.6147  0.6156  0.6160  0.6160  0.0006  \n",
      "MAE (trainset)    0.4598  0.4582  0.4589  0.4590  0.4593  0.4597  0.4594  0.4584  0.4594  0.4593  0.4591  0.0005  \n",
      "Fit time          0.31    0.32    0.32    0.32    0.42    0.34    0.34    0.33    0.33    0.32    0.33    0.03    \n",
      "Test time         0.61    0.60    0.66    0.60    0.65    0.62    0.62    0.65    0.63    0.58    0.62    0.02    \n",
      "Estimating biases using als...\n",
      "Computing the msd similarity matrix...\n",
      "Done computing similarity matrix.\n",
      "Estimating biases using als...\n",
      "Computing the msd similarity matrix...\n",
      "Done computing similarity matrix.\n",
      "Estimating biases using als...\n",
      "Computing the msd similarity matrix...\n",
      "Done computing similarity matrix.\n",
      "Estimating biases using als...\n",
      "Computing the msd similarity matrix...\n",
      "Done computing similarity matrix.\n",
      "Estimating biases using als...\n",
      "Computing the msd similarity matrix...\n",
      "Done computing similarity matrix.\n",
      "Estimating biases using als...\n",
      "Computing the msd similarity matrix...\n",
      "Done computing similarity matrix.\n",
      "Estimating biases using als...\n",
      "Computing the msd similarity matrix...\n",
      "Done computing similarity matrix.\n",
      "Estimating biases using als...\n",
      "Computing the msd similarity matrix...\n",
      "Done computing similarity matrix.\n",
      "Estimating biases using als...\n",
      "Computing the msd similarity matrix...\n",
      "Done computing similarity matrix.\n",
      "Estimating biases using als...\n",
      "Computing the msd similarity matrix...\n",
      "Done computing similarity matrix.\n",
      "Evaluating RMSE, MAE of algorithm KNNBaseline on 10 split(s).\n",
      "\n",
      "                  Fold 1  Fold 2  Fold 3  Fold 4  Fold 5  Fold 6  Fold 7  Fold 8  Fold 9  Fold 10 Mean    Std     \n",
      "RMSE (testset)    0.8627  0.8697  0.8736  0.8664  0.8763  0.8731  0.8693  0.8707  0.8633  0.8644  0.8689  0.0044  \n",
      "MAE (testset)     0.6600  0.6685  0.6663  0.6596  0.6724  0.6631  0.6658  0.6649  0.6628  0.6554  0.6639  0.0046  \n",
      "RMSE (trainset)   0.6538  0.6531  0.6529  0.6539  0.6528  0.6527  0.6538  0.6528  0.6535  0.6532  0.6532  0.0004  \n",
      "MAE (trainset)    0.4865  0.4857  0.4862  0.4869  0.4853  0.4863  0.4863  0.4858  0.4864  0.4868  0.4862  0.0005  \n",
      "Fit time          0.33    0.32    0.35    0.35    0.32    0.32    0.43    0.33    0.31    0.32    0.34    0.03    \n",
      "Test time         0.71    0.70    0.71    0.76    0.72    0.76    0.73    0.72    0.70    0.71    0.72    0.02    \n",
      "Estimating biases using als...\n",
      "Computing the msd similarity matrix...\n",
      "Done computing similarity matrix.\n",
      "Estimating biases using als...\n",
      "Computing the msd similarity matrix...\n",
      "Done computing similarity matrix.\n",
      "Estimating biases using als...\n",
      "Computing the msd similarity matrix...\n",
      "Done computing similarity matrix.\n",
      "Estimating biases using als...\n",
      "Computing the msd similarity matrix...\n",
      "Done computing similarity matrix.\n",
      "Estimating biases using als...\n",
      "Computing the msd similarity matrix...\n",
      "Done computing similarity matrix.\n",
      "Estimating biases using als...\n",
      "Computing the msd similarity matrix...\n",
      "Done computing similarity matrix.\n",
      "Estimating biases using als...\n",
      "Computing the msd similarity matrix...\n",
      "Done computing similarity matrix.\n",
      "Estimating biases using als...\n",
      "Computing the msd similarity matrix...\n",
      "Done computing similarity matrix.\n",
      "Estimating biases using als...\n",
      "Computing the msd similarity matrix...\n",
      "Done computing similarity matrix.\n",
      "Estimating biases using als...\n",
      "Computing the msd similarity matrix...\n",
      "Done computing similarity matrix.\n",
      "Evaluating RMSE, MAE of algorithm KNNBaseline on 10 split(s).\n",
      "\n",
      "                  Fold 1  Fold 2  Fold 3  Fold 4  Fold 5  Fold 6  Fold 7  Fold 8  Fold 9  Fold 10 Mean    Std     \n",
      "RMSE (testset)    0.8693  0.8612  0.8675  0.8694  0.8628  0.8826  0.8685  0.8737  0.8586  0.8724  0.8686  0.0066  \n",
      "MAE (testset)     0.6647  0.6530  0.6656  0.6640  0.6595  0.6751  0.6633  0.6700  0.6557  0.6641  0.6635  0.0061  \n",
      "RMSE (trainset)   0.6721  0.6720  0.6712  0.6715  0.6720  0.6702  0.6713  0.6714  0.6724  0.6716  0.6716  0.0006  \n",
      "MAE (trainset)    0.5001  0.5008  0.4995  0.4992  0.5001  0.4985  0.4997  0.4996  0.5003  0.4995  0.4997  0.0006  \n",
      "Fit time          0.35    0.32    0.44    0.33    0.32    0.34    0.32    0.34    0.31    0.35    0.34    0.03    \n",
      "Test time         0.76    0.78    0.89    0.77    0.76    0.78    0.78    0.79    0.77    0.77    0.79    0.04    \n",
      "Estimating biases using als...\n",
      "Computing the msd similarity matrix...\n",
      "Done computing similarity matrix.\n",
      "Estimating biases using als...\n",
      "Computing the msd similarity matrix...\n",
      "Done computing similarity matrix.\n",
      "Estimating biases using als...\n",
      "Computing the msd similarity matrix...\n",
      "Done computing similarity matrix.\n",
      "Estimating biases using als...\n",
      "Computing the msd similarity matrix...\n",
      "Done computing similarity matrix.\n",
      "Estimating biases using als...\n",
      "Computing the msd similarity matrix...\n",
      "Done computing similarity matrix.\n",
      "Estimating biases using als...\n",
      "Computing the msd similarity matrix...\n",
      "Done computing similarity matrix.\n"
     ]
    },
    {
     "name": "stdout",
     "output_type": "stream",
     "text": [
      "Estimating biases using als...\n",
      "Computing the msd similarity matrix...\n",
      "Done computing similarity matrix.\n",
      "Estimating biases using als...\n",
      "Computing the msd similarity matrix...\n",
      "Done computing similarity matrix.\n",
      "Estimating biases using als...\n",
      "Computing the msd similarity matrix...\n",
      "Done computing similarity matrix.\n",
      "Estimating biases using als...\n",
      "Computing the msd similarity matrix...\n",
      "Done computing similarity matrix.\n",
      "Evaluating RMSE, MAE of algorithm KNNBaseline on 10 split(s).\n",
      "\n",
      "                  Fold 1  Fold 2  Fold 3  Fold 4  Fold 5  Fold 6  Fold 7  Fold 8  Fold 9  Fold 10 Mean    Std     \n",
      "RMSE (testset)    0.8775  0.8571  0.8779  0.8625  0.8772  0.8726  0.8739  0.8629  0.8664  0.8735  0.8701  0.0070  \n",
      "MAE (testset)     0.6713  0.6568  0.6709  0.6633  0.6658  0.6635  0.6645  0.6596  0.6624  0.6705  0.6648  0.0046  \n",
      "RMSE (trainset)   0.6814  0.6836  0.6818  0.6826  0.6819  0.6824  0.6824  0.6829  0.6834  0.6825  0.6825  0.0007  \n",
      "MAE (trainset)    0.5071  0.5085  0.5074  0.5077  0.5075  0.5077  0.5083  0.5082  0.5085  0.5077  0.5079  0.0005  \n",
      "Fit time          0.30    0.32    0.33    0.37    0.39    0.43    0.34    0.42    0.40    0.32    0.36    0.04    \n",
      "Test time         0.84    0.84    0.83    0.88    0.82    0.81    0.82    0.85    0.83    0.82    0.83    0.02    \n",
      "Estimating biases using als...\n",
      "Computing the msd similarity matrix...\n",
      "Done computing similarity matrix.\n",
      "Estimating biases using als...\n",
      "Computing the msd similarity matrix...\n",
      "Done computing similarity matrix.\n",
      "Estimating biases using als...\n",
      "Computing the msd similarity matrix...\n",
      "Done computing similarity matrix.\n",
      "Estimating biases using als...\n",
      "Computing the msd similarity matrix...\n",
      "Done computing similarity matrix.\n",
      "Estimating biases using als...\n",
      "Computing the msd similarity matrix...\n",
      "Done computing similarity matrix.\n",
      "Estimating biases using als...\n",
      "Computing the msd similarity matrix...\n",
      "Done computing similarity matrix.\n",
      "Estimating biases using als...\n",
      "Computing the msd similarity matrix...\n",
      "Done computing similarity matrix.\n",
      "Estimating biases using als...\n",
      "Computing the msd similarity matrix...\n",
      "Done computing similarity matrix.\n",
      "Estimating biases using als...\n",
      "Computing the msd similarity matrix...\n",
      "Done computing similarity matrix.\n",
      "Estimating biases using als...\n",
      "Computing the msd similarity matrix...\n",
      "Done computing similarity matrix.\n",
      "Evaluating RMSE, MAE of algorithm KNNBaseline on 10 split(s).\n",
      "\n",
      "                  Fold 1  Fold 2  Fold 3  Fold 4  Fold 5  Fold 6  Fold 7  Fold 8  Fold 9  Fold 10 Mean    Std     \n",
      "RMSE (testset)    0.8640  0.8673  0.8623  0.8674  0.8662  0.8768  0.8674  0.8737  0.8832  0.8697  0.8698  0.0060  \n",
      "MAE (testset)     0.6604  0.6647  0.6591  0.6664  0.6623  0.6694  0.6639  0.6631  0.6717  0.6669  0.6648  0.0037  \n",
      "RMSE (trainset)   0.6898  0.6895  0.6898  0.6900  0.6897  0.6889  0.6906  0.6887  0.6888  0.6894  0.6895  0.0005  \n",
      "MAE (trainset)    0.5134  0.5130  0.5134  0.5134  0.5133  0.5127  0.5137  0.5128  0.5128  0.5130  0.5132  0.0003  \n",
      "Fit time          0.31    0.32    0.43    0.31    0.33    0.34    0.38    0.32    0.42    0.32    0.35    0.04    \n",
      "Test time         0.86    0.88    0.88    0.86    0.86    0.86    0.85    0.85    0.89    0.87    0.87    0.01    \n",
      "Estimating biases using als...\n",
      "Computing the msd similarity matrix...\n",
      "Done computing similarity matrix.\n",
      "Estimating biases using als...\n",
      "Computing the msd similarity matrix...\n",
      "Done computing similarity matrix.\n",
      "Estimating biases using als...\n",
      "Computing the msd similarity matrix...\n",
      "Done computing similarity matrix.\n",
      "Estimating biases using als...\n",
      "Computing the msd similarity matrix...\n",
      "Done computing similarity matrix.\n",
      "Estimating biases using als...\n",
      "Computing the msd similarity matrix...\n",
      "Done computing similarity matrix.\n",
      "Estimating biases using als...\n",
      "Computing the msd similarity matrix...\n",
      "Done computing similarity matrix.\n",
      "Estimating biases using als...\n",
      "Computing the msd similarity matrix...\n",
      "Done computing similarity matrix.\n",
      "Estimating biases using als...\n",
      "Computing the msd similarity matrix...\n",
      "Done computing similarity matrix.\n",
      "Estimating biases using als...\n",
      "Computing the msd similarity matrix...\n",
      "Done computing similarity matrix.\n",
      "Estimating biases using als...\n",
      "Computing the msd similarity matrix...\n",
      "Done computing similarity matrix.\n",
      "Evaluating RMSE, MAE of algorithm KNNBaseline on 10 split(s).\n",
      "\n",
      "                  Fold 1  Fold 2  Fold 3  Fold 4  Fold 5  Fold 6  Fold 7  Fold 8  Fold 9  Fold 10 Mean    Std     \n",
      "RMSE (testset)    0.8730  0.8891  0.8670  0.8626  0.8726  0.8728  0.8704  0.8739  0.8622  0.8672  0.8711  0.0073  \n",
      "MAE (testset)     0.6657  0.6773  0.6632  0.6620  0.6599  0.6656  0.6650  0.6689  0.6608  0.6664  0.6655  0.0047  \n",
      "RMSE (trainset)   0.6942  0.6927  0.6950  0.6954  0.6942  0.6944  0.6944  0.6944  0.6947  0.6953  0.6945  0.0007  \n",
      "MAE (trainset)    0.5168  0.5157  0.5173  0.5170  0.5171  0.5171  0.5169  0.5171  0.5171  0.5173  0.5169  0.0004  \n",
      "Fit time          0.32    0.31    0.32    0.34    0.32    0.33    0.36    0.32    0.35    0.34    0.33    0.01    \n",
      "Test time         0.88    0.89    0.88    0.91    0.92    0.95    0.93    0.91    0.93    0.89    0.91    0.02    \n",
      "Estimating biases using als...\n",
      "Computing the msd similarity matrix...\n",
      "Done computing similarity matrix.\n",
      "Estimating biases using als...\n",
      "Computing the msd similarity matrix...\n",
      "Done computing similarity matrix.\n",
      "Estimating biases using als...\n",
      "Computing the msd similarity matrix...\n",
      "Done computing similarity matrix.\n",
      "Estimating biases using als...\n",
      "Computing the msd similarity matrix...\n",
      "Done computing similarity matrix.\n",
      "Estimating biases using als...\n",
      "Computing the msd similarity matrix...\n",
      "Done computing similarity matrix.\n",
      "Estimating biases using als...\n",
      "Computing the msd similarity matrix...\n",
      "Done computing similarity matrix.\n",
      "Estimating biases using als...\n",
      "Computing the msd similarity matrix...\n",
      "Done computing similarity matrix.\n",
      "Estimating biases using als...\n",
      "Computing the msd similarity matrix...\n",
      "Done computing similarity matrix.\n",
      "Estimating biases using als...\n",
      "Computing the msd similarity matrix...\n",
      "Done computing similarity matrix.\n",
      "Estimating biases using als...\n",
      "Computing the msd similarity matrix...\n",
      "Done computing similarity matrix.\n",
      "Evaluating RMSE, MAE of algorithm KNNBaseline on 10 split(s).\n",
      "\n",
      "                  Fold 1  Fold 2  Fold 3  Fold 4  Fold 5  Fold 6  Fold 7  Fold 8  Fold 9  Fold 10 Mean    Std     \n",
      "RMSE (testset)    0.8670  0.8672  0.8672  0.8611  0.8726  0.8804  0.8663  0.8814  0.8755  0.8641  0.8703  0.0065  \n",
      "MAE (testset)     0.6609  0.6615  0.6650  0.6607  0.6643  0.6704  0.6671  0.6706  0.6668  0.6645  0.6652  0.0034  \n",
      "RMSE (trainset)   0.6983  0.6989  0.6981  0.6987  0.6980  0.6975  0.6989  0.6972  0.6972  0.6983  0.6981  0.0006  \n",
      "MAE (trainset)    0.5200  0.5203  0.5194  0.5200  0.5199  0.5196  0.5199  0.5194  0.5192  0.5196  0.5197  0.0003  \n",
      "Fit time          0.31    0.34    0.34    0.32    0.32    0.32    0.33    0.31    0.33    0.34    0.33    0.01    \n",
      "Test time         0.89    0.93    0.92    0.93    0.98    0.94    0.92    0.96    0.91    0.94    0.93    0.03    \n",
      "Estimating biases using als...\n",
      "Computing the msd similarity matrix...\n",
      "Done computing similarity matrix.\n",
      "Estimating biases using als...\n",
      "Computing the msd similarity matrix...\n",
      "Done computing similarity matrix.\n",
      "Estimating biases using als...\n",
      "Computing the msd similarity matrix...\n",
      "Done computing similarity matrix.\n",
      "Estimating biases using als...\n",
      "Computing the msd similarity matrix...\n",
      "Done computing similarity matrix.\n",
      "Estimating biases using als...\n",
      "Computing the msd similarity matrix...\n",
      "Done computing similarity matrix.\n",
      "Estimating biases using als...\n",
      "Computing the msd similarity matrix...\n",
      "Done computing similarity matrix.\n",
      "Estimating biases using als...\n",
      "Computing the msd similarity matrix...\n",
      "Done computing similarity matrix.\n",
      "Estimating biases using als...\n",
      "Computing the msd similarity matrix...\n",
      "Done computing similarity matrix.\n",
      "Estimating biases using als...\n",
      "Computing the msd similarity matrix...\n",
      "Done computing similarity matrix.\n",
      "Estimating biases using als...\n",
      "Computing the msd similarity matrix...\n",
      "Done computing similarity matrix.\n",
      "Evaluating RMSE, MAE of algorithm KNNBaseline on 10 split(s).\n",
      "\n",
      "                  Fold 1  Fold 2  Fold 3  Fold 4  Fold 5  Fold 6  Fold 7  Fold 8  Fold 9  Fold 10 Mean    Std     \n",
      "RMSE (testset)    0.8698  0.8769  0.8614  0.8671  0.8730  0.8756  0.8727  0.8703  0.8708  0.8685  0.8706  0.0042  \n",
      "MAE (testset)     0.6659  0.6742  0.6586  0.6657  0.6676  0.6705  0.6643  0.6592  0.6636  0.6659  0.6656  0.0045  \n",
      "RMSE (trainset)   0.7011  0.7005  0.7011  0.7013  0.7006  0.7008  0.7009  0.7008  0.7004  0.7007  0.7008  0.0003  \n",
      "MAE (trainset)    0.5217  0.5214  0.5223  0.5219  0.5217  0.5219  0.5221  0.5221  0.5214  0.5219  0.5218  0.0003  \n",
      "Fit time          0.31    0.41    0.33    0.33    0.33    0.41    0.36    0.34    0.32    0.37    0.35    0.03    \n",
      "Test time         0.93    0.88    0.92    0.93    1.03    1.16    1.11    1.01    0.95    0.96    0.99    0.08    \n",
      "Estimating biases using als...\n"
     ]
    },
    {
     "name": "stdout",
     "output_type": "stream",
     "text": [
      "Computing the msd similarity matrix...\n",
      "Done computing similarity matrix.\n",
      "Estimating biases using als...\n",
      "Computing the msd similarity matrix...\n",
      "Done computing similarity matrix.\n",
      "Estimating biases using als...\n",
      "Computing the msd similarity matrix...\n",
      "Done computing similarity matrix.\n",
      "Estimating biases using als...\n",
      "Computing the msd similarity matrix...\n",
      "Done computing similarity matrix.\n",
      "Estimating biases using als...\n",
      "Computing the msd similarity matrix...\n",
      "Done computing similarity matrix.\n",
      "Estimating biases using als...\n",
      "Computing the msd similarity matrix...\n",
      "Done computing similarity matrix.\n",
      "Estimating biases using als...\n",
      "Computing the msd similarity matrix...\n",
      "Done computing similarity matrix.\n",
      "Estimating biases using als...\n",
      "Computing the msd similarity matrix...\n",
      "Done computing similarity matrix.\n",
      "Estimating biases using als...\n",
      "Computing the msd similarity matrix...\n",
      "Done computing similarity matrix.\n",
      "Estimating biases using als...\n",
      "Computing the msd similarity matrix...\n",
      "Done computing similarity matrix.\n",
      "Evaluating RMSE, MAE of algorithm KNNBaseline on 10 split(s).\n",
      "\n",
      "                  Fold 1  Fold 2  Fold 3  Fold 4  Fold 5  Fold 6  Fold 7  Fold 8  Fold 9  Fold 10 Mean    Std     \n",
      "RMSE (testset)    0.8751  0.8586  0.8711  0.8755  0.8724  0.8901  0.8597  0.8712  0.8814  0.8605  0.8716  0.0095  \n",
      "MAE (testset)     0.6711  0.6541  0.6660  0.6730  0.6637  0.6753  0.6589  0.6687  0.6735  0.6566  0.6661  0.0072  \n",
      "RMSE (trainset)   0.7022  0.7044  0.7027  0.7028  0.7031  0.7013  0.7034  0.7024  0.7024  0.7038  0.7029  0.0008  \n",
      "MAE (trainset)    0.5228  0.5245  0.5235  0.5231  0.5239  0.5225  0.5236  0.5231  0.5227  0.5244  0.5234  0.0007  \n",
      "Fit time          0.34    0.35    0.36    0.32    0.32    0.35    0.42    0.34    0.32    0.32    0.34    0.03    \n",
      "Test time         1.05    0.99    0.99    0.98    0.98    0.94    1.05    1.06    0.94    0.95    0.99    0.04    \n"
     ]
    }
   ],
   "source": [
    "Knn_time = []\n",
    "Knn_train_MAE=[]\n",
    "Knn_test_MAE=[]\n",
    "Knn_train_RMSE=[]\n",
    "Knn_test_RMSE=[]\n",
    "\n",
    "for k in neighbor_size:    \n",
    "    algo=KNNBaseline(k=k)\n",
    "    c_v=cross_validate(algo, data,cv=10, verbose=True,return_train_measures =True)\n",
    "    Knn_time.append(np.mean(c_v['fit_time']))\n",
    "    Knn_train_MAE.append(np.mean(c_v['train_mae']))\n",
    "    Knn_test_MAE.append(np.mean(c_v['test_mae']))\n",
    "    Knn_train_RMSE.append(np.mean(c_v['train_rmse']))\n",
    "    Knn_test_RMSE.append(np.mean(c_v['test_rmse']))\n",
    "knn_result=[Knn_time,Knn_train_MAE,Knn_test_MAE,Knn_train_RMSE,Knn_test_RMSE]  "
   ]
  },
  {
   "cell_type": "code",
   "execution_count": 41,
   "metadata": {},
   "outputs": [
    {
     "name": "stdout",
     "output_type": "stream",
     "text": [
      "Stored 'knn_result' (list)\n"
     ]
    }
   ],
   "source": [
    "#store result to prevent from running it again\n",
    "%store knn_result"
   ]
  },
  {
   "cell_type": "code",
   "execution_count": 42,
   "metadata": {},
   "outputs": [
    {
     "data": {
      "text/plain": [
       "<matplotlib.axes._subplots.AxesSubplot at 0x1a24862b70>"
      ]
     },
     "execution_count": 42,
     "metadata": {},
     "output_type": "execute_result"
    },
    {
     "data": {
      "image/png": "[encoded data removed]",
      "text/plain": [
       "<Figure size 432x288 with 1 Axes>"
      ]
     },
     "metadata": {},
     "output_type": "display_data"
    }
   ],
   "source": [
    "#knn-time\n",
    "sns.lineplot(neighbor_size, Knn_time, palette=\"tab10\")"
   ]
  },
  {
   "cell_type": "code",
   "execution_count": 43,
   "metadata": {},
   "outputs": [],
   "source": [
    "#选择困难：不知道是画两个还是画一个图，所以就先都画了一遍\n",
    "Knn_MAE = pd.DataFrame(np.column_stack([Knn_test_MAE, Knn_train_MAE]),columns=['Knn_test_MAE', 'Knn_train_MAE'])\n",
    "Knn_MAE.index = neighbor_size\n",
    "Knn_RMSE = pd.DataFrame(np.column_stack([Knn_test_RMSE, Knn_train_RMSE]),columns=['Knn_test_RMSE', 'Knn_train_RMSE'])\n",
    "Knn_RMSE.index = neighbor_size"
   ]
  },
  {
   "cell_type": "code",
   "execution_count": 46,
   "metadata": {
    "scrolled": true
   },
   "outputs": [
    {
     "data": {
      "text/plain": [
       "<matplotlib.axes._subplots.AxesSubplot at 0x1a228bd710>"
      ]
     },
     "execution_count": 46,
     "metadata": {},
     "output_type": "execute_result"
    },
    {
     "data": {
      "image/png": "[encoded data removed]",
      "text/plain": [
       "<Figure size 432x288 with 2 Axes>"
      ]
     },
     "metadata": {},
     "output_type": "display_data"
    }
   ],
   "source": [
    "fig, axs = plt.subplots(ncols=2)\n",
    "sns.lineplot(data = Knn_MAE, palette=\"tab10\",ax = axs[0])\n",
    "sns.lineplot(data = Knn_RMSE, palette=\"tab10\",ax = axs[1])"
   ]
  },
  {
   "cell_type": "code",
   "execution_count": 45,
   "metadata": {},
   "outputs": [
    {
     "data": {
      "text/plain": [
       "<matplotlib.axes._subplots.AxesSubplot at 0x1a23307cc0>"
      ]
     },
     "execution_count": 45,
     "metadata": {},
     "output_type": "execute_result"
    },
    {
     "data": {
      "image/png": "[encoded data removed]",
      "text/plain": [
       "<Figure size 432x288 with 1 Axes>"
      ]
     },
     "metadata": {},
     "output_type": "display_data"
    }
   ],
   "source": [
    "Knn = pd.DataFrame(np.column_stack([Knn_test_MAE, Knn_train_MAE,Knn_test_RMSE, Knn_train_RMSE]),\n",
    "                   columns=['Knn_test_MAE', 'Knn_train_MAE','Knn_test_RMSE', 'Knn_train_RMSE'])\n",
    "Knn.index = neighbor_size\n",
    "sns.lineplot(data = Knn, palette=\"tab10\")"
   ]
  },
  {
   "cell_type": "markdown",
   "metadata": {},
   "source": [
    "### Knn - size"
   ]
  },
  {
   "cell_type": "code",
   "execution_count": 30,
   "metadata": {},
   "outputs": [
    {
     "name": "stdout",
     "output_type": "stream",
     "text": [
      "Estimating biases using als...\n",
      "Computing the msd similarity matrix...\n",
      "Done computing similarity matrix.\n",
      "Estimating biases using als...\n",
      "Computing the msd similarity matrix...\n",
      "Done computing similarity matrix.\n",
      "Estimating biases using als...\n",
      "Computing the msd similarity matrix...\n",
      "Done computing similarity matrix.\n",
      "Estimating biases using als...\n",
      "Computing the msd similarity matrix...\n",
      "Done computing similarity matrix.\n",
      "Estimating biases using als...\n",
      "Computing the msd similarity matrix...\n",
      "Done computing similarity matrix.\n",
      "Estimating biases using als...\n",
      "Computing the msd similarity matrix...\n",
      "Done computing similarity matrix.\n",
      "Estimating biases using als...\n",
      "Computing the msd similarity matrix...\n",
      "Done computing similarity matrix.\n",
      "Estimating biases using als...\n",
      "Computing the msd similarity matrix...\n",
      "Done computing similarity matrix.\n",
      "Estimating biases using als...\n",
      "Computing the msd similarity matrix...\n",
      "Done computing similarity matrix.\n",
      "Estimating biases using als...\n",
      "Computing the msd similarity matrix...\n",
      "Done computing similarity matrix.\n",
      "Estimating biases using als...\n",
      "Computing the msd similarity matrix...\n",
      "Done computing similarity matrix.\n",
      "Estimating biases using als...\n",
      "Computing the msd similarity matrix...\n",
      "Done computing similarity matrix.\n",
      "Estimating biases using als...\n",
      "Computing the msd similarity matrix...\n",
      "Done computing similarity matrix.\n",
      "Estimating biases using als...\n",
      "Computing the msd similarity matrix...\n",
      "Done computing similarity matrix.\n",
      "Estimating biases using als...\n",
      "Computing the msd similarity matrix...\n",
      "Done computing similarity matrix.\n",
      "Estimating biases using als...\n",
      "Computing the msd similarity matrix...\n",
      "Done computing similarity matrix.\n",
      "Estimating biases using als...\n",
      "Computing the msd similarity matrix...\n",
      "Done computing similarity matrix.\n",
      "Estimating biases using als...\n",
      "Computing the msd similarity matrix...\n",
      "Done computing similarity matrix.\n",
      "Estimating biases using als...\n",
      "Computing the msd similarity matrix...\n",
      "Done computing similarity matrix.\n",
      "Estimating biases using als...\n",
      "Computing the msd similarity matrix...\n",
      "Done computing similarity matrix.\n",
      "Estimating biases using als...\n",
      "Computing the msd similarity matrix...\n",
      "Done computing similarity matrix.\n",
      "Estimating biases using als...\n",
      "Computing the msd similarity matrix...\n",
      "Done computing similarity matrix.\n",
      "Estimating biases using als...\n",
      "Computing the msd similarity matrix...\n",
      "Done computing similarity matrix.\n",
      "Estimating biases using als...\n",
      "Computing the msd similarity matrix...\n",
      "Done computing similarity matrix.\n",
      "Estimating biases using als...\n",
      "Computing the msd similarity matrix...\n",
      "Done computing similarity matrix.\n",
      "Estimating biases using als...\n",
      "Computing the msd similarity matrix...\n",
      "Done computing similarity matrix.\n",
      "Estimating biases using als...\n",
      "Computing the msd similarity matrix...\n",
      "Done computing similarity matrix.\n",
      "Estimating biases using als...\n",
      "Computing the msd similarity matrix...\n",
      "Done computing similarity matrix.\n",
      "Estimating biases using als...\n",
      "Computing the msd similarity matrix...\n",
      "Done computing similarity matrix.\n",
      "Estimating biases using als...\n",
      "Computing the msd similarity matrix...\n",
      "Done computing similarity matrix.\n",
      "Estimating biases using als...\n",
      "Computing the msd similarity matrix...\n",
      "Done computing similarity matrix.\n",
      "Estimating biases using als...\n",
      "Computing the msd similarity matrix...\n",
      "Done computing similarity matrix.\n",
      "Estimating biases using als...\n",
      "Computing the msd similarity matrix...\n",
      "Done computing similarity matrix.\n",
      "Estimating biases using als...\n",
      "Computing the msd similarity matrix...\n",
      "Done computing similarity matrix.\n",
      "Estimating biases using als...\n",
      "Computing the msd similarity matrix...\n",
      "Done computing similarity matrix.\n",
      "Estimating biases using als...\n",
      "Computing the msd similarity matrix...\n",
      "Done computing similarity matrix.\n",
      "Estimating biases using als...\n",
      "Computing the msd similarity matrix...\n",
      "Done computing similarity matrix.\n",
      "Estimating biases using als...\n",
      "Computing the msd similarity matrix...\n",
      "Done computing similarity matrix.\n",
      "Estimating biases using als...\n",
      "Computing the msd similarity matrix...\n",
      "Done computing similarity matrix.\n",
      "Estimating biases using als...\n",
      "Computing the msd similarity matrix...\n",
      "Done computing similarity matrix.\n",
      "Estimating biases using als...\n",
      "Computing the msd similarity matrix...\n",
      "Done computing similarity matrix.\n",
      "Estimating biases using als...\n",
      "Computing the msd similarity matrix...\n",
      "Done computing similarity matrix.\n",
      "Estimating biases using als...\n",
      "Computing the msd similarity matrix...\n",
      "Done computing similarity matrix.\n",
      "Estimating biases using als...\n",
      "Computing the msd similarity matrix...\n",
      "Done computing similarity matrix.\n",
      "Estimating biases using als...\n",
      "Computing the msd similarity matrix...\n",
      "Done computing similarity matrix.\n",
      "Estimating biases using als...\n",
      "Computing the msd similarity matrix...\n",
      "Done computing similarity matrix.\n",
      "Estimating biases using als...\n",
      "Computing the msd similarity matrix...\n",
      "Done computing similarity matrix.\n",
      "Estimating biases using als...\n",
      "Computing the msd similarity matrix...\n",
      "Done computing similarity matrix.\n",
      "Estimating biases using als...\n",
      "Computing the msd similarity matrix...\n",
      "Done computing similarity matrix.\n",
      "Estimating biases using als...\n",
      "Computing the msd similarity matrix...\n",
      "Done computing similarity matrix.\n"
     ]
    }
   ],
   "source": [
    "param_grid = {'k': neighbor_size}\n",
    "knn_gs=GridSearchCV(KNNBaseline,param_grid)\n",
    "knn_gs.fit(data)\n",
    "\n",
    "bestk = knn_gs.best_params['mae']['k']"
   ]
  },
  {
   "cell_type": "code",
   "execution_count": 31,
   "metadata": {},
   "outputs": [
    {
     "name": "stdout",
     "output_type": "stream",
     "text": [
      "Estimating biases using als...\n",
      "Computing the msd similarity matrix...\n",
      "Done computing similarity matrix.\n",
      "Estimating biases using als...\n",
      "Computing the msd similarity matrix...\n",
      "Done computing similarity matrix.\n",
      "Estimating biases using als...\n",
      "Computing the msd similarity matrix...\n",
      "Done computing similarity matrix.\n",
      "Estimating biases using als...\n",
      "Computing the msd similarity matrix...\n",
      "Done computing similarity matrix.\n",
      "Estimating biases using als...\n",
      "Computing the msd similarity matrix...\n",
      "Done computing similarity matrix.\n",
      "Estimating biases using als...\n",
      "Computing the msd similarity matrix...\n",
      "Done computing similarity matrix.\n",
      "Estimating biases using als...\n",
      "Computing the msd similarity matrix...\n",
      "Done computing similarity matrix.\n",
      "Estimating biases using als...\n",
      "Computing the msd similarity matrix...\n",
      "Done computing similarity matrix.\n",
      "Estimating biases using als...\n",
      "Computing the msd similarity matrix...\n",
      "Done computing similarity matrix.\n",
      "Estimating biases using als...\n",
      "Computing the msd similarity matrix...\n",
      "Done computing similarity matrix.\n",
      "Evaluating RMSE, MAE of algorithm KNNBaseline on 10 split(s).\n",
      "\n",
      "                  Fold 1  Fold 2  Fold 3  Fold 4  Fold 5  Fold 6  Fold 7  Fold 8  Fold 9  Fold 10 Mean    Std     \n",
      "RMSE (testset)    0.9657  0.9395  0.9735  0.9563  0.9781  0.9969  0.9235  0.9549  0.9639  0.9769  0.9629  0.0198  \n",
      "MAE (testset)     0.7434  0.7249  0.7519  0.7398  0.7495  0.7669  0.7088  0.7390  0.7410  0.7499  0.7415  0.0150  \n",
      "RMSE (trainset)   0.4953  0.4976  0.4972  0.4968  0.4960  0.4943  0.4974  0.4965  0.4951  0.4975  0.4964  0.0011  \n",
      "MAE (trainset)    0.3570  0.3582  0.3580  0.3577  0.3575  0.3559  0.3578  0.3579  0.3568  0.3582  0.3575  0.0007  \n",
      "Fit time          0.05    0.04    0.04    0.04    0.04    0.05    0.04    0.04    0.04    0.04    0.04    0.00    \n",
      "Test time         0.04    0.05    0.04    0.04    0.05    0.05    0.05    0.04    0.04    0.04    0.04    0.00    \n",
      "Estimating biases using als...\n",
      "Computing the msd similarity matrix...\n",
      "Done computing similarity matrix.\n",
      "Estimating biases using als...\n",
      "Computing the msd similarity matrix...\n",
      "Done computing similarity matrix.\n",
      "Estimating biases using als...\n",
      "Computing the msd similarity matrix...\n",
      "Done computing similarity matrix.\n",
      "Estimating biases using als...\n",
      "Computing the msd similarity matrix...\n",
      "Done computing similarity matrix.\n",
      "Estimating biases using als...\n",
      "Computing the msd similarity matrix...\n",
      "Done computing similarity matrix.\n",
      "Estimating biases using als...\n",
      "Computing the msd similarity matrix...\n",
      "Done computing similarity matrix.\n",
      "Estimating biases using als...\n",
      "Computing the msd similarity matrix...\n",
      "Done computing similarity matrix.\n",
      "Estimating biases using als...\n",
      "Computing the msd similarity matrix...\n",
      "Done computing similarity matrix.\n",
      "Estimating biases using als...\n",
      "Computing the msd similarity matrix...\n",
      "Done computing similarity matrix.\n",
      "Estimating biases using als...\n",
      "Computing the msd similarity matrix...\n",
      "Done computing similarity matrix.\n",
      "Evaluating RMSE, MAE of algorithm KNNBaseline on 10 split(s).\n",
      "\n",
      "                  Fold 1  Fold 2  Fold 3  Fold 4  Fold 5  Fold 6  Fold 7  Fold 8  Fold 9  Fold 10 Mean    Std     \n",
      "RMSE (testset)    0.9216  0.9324  0.9127  0.8943  0.9234  0.9409  0.9120  0.8978  0.9288  0.9094  0.9173  0.0141  \n",
      "MAE (testset)     0.7063  0.7083  0.7015  0.6834  0.7059  0.7231  0.7014  0.6892  0.7175  0.6920  0.7029  0.0117  \n",
      "RMSE (trainset)   0.5922  0.5920  0.5924  0.5928  0.5924  0.5906  0.5917  0.5919  0.5918  0.5925  0.5920  0.0006  \n",
      "MAE (trainset)    0.4328  0.4325  0.4323  0.4330  0.4318  0.4312  0.4318  0.4329  0.4320  0.4334  0.4324  0.0006  \n",
      "Fit time          0.11    0.10    0.10    0.11    0.11    0.11    0.13    0.11    0.11    0.11    0.11    0.01    \n",
      "Test time         0.17    0.16    0.16    0.16    0.16    0.16    0.17    0.16    0.17    0.17    0.16    0.01    \n",
      "Estimating biases using als...\n",
      "Computing the msd similarity matrix...\n",
      "Done computing similarity matrix.\n",
      "Estimating biases using als...\n",
      "Computing the msd similarity matrix...\n",
      "Done computing similarity matrix.\n",
      "Estimating biases using als...\n",
      "Computing the msd similarity matrix...\n",
      "Done computing similarity matrix.\n",
      "Estimating biases using als...\n",
      "Computing the msd similarity matrix...\n",
      "Done computing similarity matrix.\n",
      "Estimating biases using als...\n",
      "Computing the msd similarity matrix...\n",
      "Done computing similarity matrix.\n",
      "Estimating biases using als...\n",
      "Computing the msd similarity matrix...\n",
      "Done computing similarity matrix.\n",
      "Estimating biases using als...\n",
      "Computing the msd similarity matrix...\n",
      "Done computing similarity matrix.\n",
      "Estimating biases using als...\n",
      "Computing the msd similarity matrix...\n",
      "Done computing similarity matrix.\n",
      "Estimating biases using als...\n",
      "Computing the msd similarity matrix...\n",
      "Done computing similarity matrix.\n",
      "Estimating biases using als...\n",
      "Computing the msd similarity matrix...\n",
      "Done computing similarity matrix.\n",
      "Evaluating RMSE, MAE of algorithm KNNBaseline on 10 split(s).\n",
      "\n",
      "                  Fold 1  Fold 2  Fold 3  Fold 4  Fold 5  Fold 6  Fold 7  Fold 8  Fold 9  Fold 10 Mean    Std     \n",
      "RMSE (testset)    0.9221  0.8726  0.8791  0.8935  0.9067  0.9006  0.8964  0.9029  0.8964  0.8906  0.8961  0.0132  \n",
      "MAE (testset)     0.7076  0.6715  0.6702  0.6824  0.6971  0.6867  0.6847  0.6902  0.6912  0.6778  0.6859  0.0108  \n",
      "RMSE (trainset)   0.6317  0.6344  0.6334  0.6337  0.6326  0.6331  0.6336  0.6329  0.6337  0.6337  0.6333  0.0007  \n",
      "MAE (trainset)    0.4654  0.4673  0.4673  0.4675  0.4659  0.4664  0.4671  0.4662  0.4666  0.4670  0.4667  0.0006  \n",
      "Fit time          0.21    0.21    0.22    0.20    0.25    0.18    0.26    0.24    0.22    0.18    0.22    0.03    \n",
      "Test time         0.32    0.32    0.33    0.33    0.36    0.35    0.37    0.39    0.35    0.35    0.35    0.02    \n",
      "Estimating biases using als...\n",
      "Computing the msd similarity matrix...\n",
      "Done computing similarity matrix.\n",
      "Estimating biases using als...\n",
      "Computing the msd similarity matrix...\n",
      "Done computing similarity matrix.\n",
      "Estimating biases using als...\n",
      "Computing the msd similarity matrix...\n",
      "Done computing similarity matrix.\n",
      "Estimating biases using als...\n",
      "Computing the msd similarity matrix...\n",
      "Done computing similarity matrix.\n",
      "Estimating biases using als...\n",
      "Computing the msd similarity matrix...\n",
      "Done computing similarity matrix.\n",
      "Estimating biases using als...\n",
      "Computing the msd similarity matrix...\n",
      "Done computing similarity matrix.\n",
      "Estimating biases using als...\n",
      "Computing the msd similarity matrix...\n",
      "Done computing similarity matrix.\n",
      "Estimating biases using als...\n",
      "Computing the msd similarity matrix...\n",
      "Done computing similarity matrix.\n",
      "Estimating biases using als...\n",
      "Computing the msd similarity matrix...\n",
      "Done computing similarity matrix.\n",
      "Estimating biases using als...\n",
      "Computing the msd similarity matrix...\n",
      "Done computing similarity matrix.\n",
      "Evaluating RMSE, MAE of algorithm KNNBaseline on 10 split(s).\n",
      "\n",
      "                  Fold 1  Fold 2  Fold 3  Fold 4  Fold 5  Fold 6  Fold 7  Fold 8  Fold 9  Fold 10 Mean    Std     \n",
      "RMSE (testset)    0.8723  0.8763  0.8757  0.8755  0.8801  0.8813  0.8697  0.8748  0.8811  0.8798  0.8767  0.0037  \n",
      "MAE (testset)     0.6701  0.6707  0.6657  0.6710  0.6743  0.6721  0.6662  0.6710  0.6683  0.6718  0.6701  0.0025  \n",
      "RMSE (trainset)   0.6553  0.6557  0.6548  0.6555  0.6546  0.6556  0.6556  0.6556  0.6554  0.6551  0.6553  0.0003  \n",
      "MAE (trainset)    0.4849  0.4854  0.4851  0.4847  0.4846  0.4858  0.4856  0.4853  0.4854  0.4851  0.4852  0.0004  \n",
      "Fit time          0.26    0.27    0.33    0.26    0.31    0.31    0.33    0.29    0.32    0.32    0.30    0.03    \n",
      "Test time         0.56    0.59    0.50    0.55    0.52    0.51    0.52    0.50    0.50    0.51    0.53    0.03    \n",
      "Estimating biases using als...\n",
      "Computing the msd similarity matrix...\n",
      "Done computing similarity matrix.\n",
      "Estimating biases using als...\n",
      "Computing the msd similarity matrix...\n",
      "Done computing similarity matrix.\n",
      "Estimating biases using als...\n",
      "Computing the msd similarity matrix...\n",
      "Done computing similarity matrix.\n",
      "Estimating biases using als...\n",
      "Computing the msd similarity matrix...\n",
      "Done computing similarity matrix.\n",
      "Estimating biases using als...\n",
      "Computing the msd similarity matrix...\n",
      "Done computing similarity matrix.\n",
      "Estimating biases using als...\n",
      "Computing the msd similarity matrix...\n",
      "Done computing similarity matrix.\n"
     ]
    },
    {
     "name": "stdout",
     "output_type": "stream",
     "text": [
      "Estimating biases using als...\n",
      "Computing the msd similarity matrix...\n",
      "Done computing similarity matrix.\n",
      "Estimating biases using als...\n",
      "Computing the msd similarity matrix...\n",
      "Done computing similarity matrix.\n",
      "Estimating biases using als...\n",
      "Computing the msd similarity matrix...\n",
      "Done computing similarity matrix.\n",
      "Estimating biases using als...\n",
      "Computing the msd similarity matrix...\n",
      "Done computing similarity matrix.\n",
      "Evaluating RMSE, MAE of algorithm KNNBaseline on 10 split(s).\n",
      "\n",
      "                  Fold 1  Fold 2  Fold 3  Fold 4  Fold 5  Fold 6  Fold 7  Fold 8  Fold 9  Fold 10 Mean    Std     \n",
      "RMSE (testset)    0.8730  0.8770  0.8644  0.8660  0.8737  0.8675  0.8635  0.8653  0.8717  0.8651  0.8687  0.0045  \n",
      "MAE (testset)     0.6693  0.6698  0.6605  0.6658  0.6663  0.6634  0.6557  0.6607  0.6638  0.6614  0.6637  0.0041  \n",
      "RMSE (trainset)   0.6708  0.6713  0.6716  0.6715  0.6711  0.6713  0.6716  0.6724  0.6719  0.6719  0.6715  0.0004  \n",
      "MAE (trainset)    0.4991  0.4994  0.4996  0.4996  0.4991  0.4994  0.5003  0.5006  0.5000  0.5000  0.4997  0.0005  \n",
      "Fit time          0.40    0.41    0.44    0.46    0.46    0.43    0.43    0.44    0.45    0.42    0.43    0.02    \n",
      "Test time         0.79    0.73    0.75    0.73    0.73    0.73    0.74    0.72    0.73    0.74    0.74    0.02    \n"
     ]
    }
   ],
   "source": [
    "knn_size_effect=[]\n",
    "Knn_time = []\n",
    "Knn_train_MAE=[]\n",
    "Knn_test_MAE=[]\n",
    "Knn_train_RMSE=[]\n",
    "Knn_test_RMSE=[]\n",
    "for n in new_size:\n",
    "    new_df=df.sample(n=n)\n",
    "    data=Dataset.load_from_df(new_df,reader=reader)\n",
    "    algo=KNNBaseline(k=bestk)\n",
    "    c_v=cross_validate(algo, data,cv=10, verbose=True,return_train_measures =True)\n",
    "    Knn_time.append(np.mean(c_v['fit_time']))\n",
    "    Knn_train_MAE.append(np.mean(c_v['train_mae']))\n",
    "    Knn_test_MAE.append(np.mean(c_v['test_mae']))\n",
    "    Knn_train_RMSE.append(np.mean(c_v['train_rmse']))\n",
    "    Knn_test_RMSE.append(np.mean(c_v['test_rmse']))\n",
    "knn_size_effect=[Knn_time,Knn_train_MAE,Knn_test_MAE,Knn_train_RMSE,Knn_test_RMSE]  \n"
   ]
  },
  {
   "cell_type": "code",
   "execution_count": 35,
   "metadata": {},
   "outputs": [
    {
     "data": {
      "text/plain": [
       "<matplotlib.axes._subplots.AxesSubplot at 0x10d45d438>"
      ]
     },
     "execution_count": 35,
     "metadata": {},
     "output_type": "execute_result"
    },
    {
     "data": {
      "image/png": "[encoded data removed]",
      "text/plain": [
       "<Figure size 432x288 with 1 Axes>"
      ]
     },
     "metadata": {},
     "output_type": "display_data"
    }
   ],
   "source": [
    "Knn_newsize = pd.DataFrame(np.column_stack([Knn_test_MAE, Knn_train_MAE,Knn_test_RMSE, Knn_train_RMSE]),\n",
    "                   columns=['Knn_test_MAE', 'Knn_train_MAE','Knn_test_RMSE', 'Knn_train_RMSE'])\n",
    "Knn_newsize.index = new_size\n",
    "sns.lineplot(data = Knn_newsize, palette=\"tab10\")"
   ]
  },
  {
   "cell_type": "markdown",
   "metadata": {},
   "source": [
    "## SVD"
   ]
  },
  {
   "cell_type": "code",
   "execution_count": 10,
   "metadata": {},
   "outputs": [
    {
     "name": "stdout",
     "output_type": "stream",
     "text": [
      "Evaluating RMSE, MAE of algorithm SVD on 10 split(s).\n",
      "\n",
      "                  Fold 1  Fold 2  Fold 3  Fold 4  Fold 5  Fold 6  Fold 7  Fold 8  Fold 9  Fold 10 Mean    Std     \n",
      "RMSE (testset)    0.8895  0.8820  0.8800  0.8784  0.8864  0.8734  0.8834  0.8748  0.8752  0.8701  0.8793  0.0058  \n",
      "MAE (testset)     0.6844  0.6793  0.6780  0.6812  0.6758  0.6762  0.6760  0.6741  0.6742  0.6696  0.6769  0.0039  \n",
      "RMSE (trainset)   0.7621  0.7620  0.7614  0.7602  0.7597  0.7598  0.7608  0.7629  0.7633  0.7620  0.7614  0.0012  \n",
      "MAE (trainset)    0.5881  0.5884  0.5874  0.5862  0.5872  0.5868  0.5875  0.5891  0.5891  0.5889  0.5879  0.0010  \n",
      "Fit time          14.88   15.07   14.75   15.26   15.33   15.17   15.82   15.86   15.31   15.49   15.29   0.34    \n",
      "Test time         0.12    0.06    0.06    0.06    0.06    0.11    0.06    0.07    0.06    0.07    0.07    0.02    \n",
      "Evaluating RMSE, MAE of algorithm SVD on 10 split(s).\n",
      "\n",
      "                  Fold 1  Fold 2  Fold 3  Fold 4  Fold 5  Fold 6  Fold 7  Fold 8  Fold 9  Fold 10 Mean    Std     \n",
      "RMSE (testset)    0.8743  0.8789  0.8777  0.8773  0.8796  0.8880  0.8697  0.8670  0.8732  0.8787  0.8764  0.0055  \n",
      "MAE (testset)     0.6742  0.6761  0.6746  0.6735  0.6800  0.6839  0.6704  0.6699  0.6732  0.6753  0.6751  0.0040  \n",
      "RMSE (trainset)   0.7858  0.7843  0.7848  0.7843  0.7841  0.7829  0.7854  0.7864  0.7858  0.7852  0.7849  0.0010  \n",
      "MAE (trainset)    0.6069  0.6057  0.6064  0.6058  0.6051  0.6049  0.6066  0.6076  0.6071  0.6067  0.6063  0.0008  \n",
      "Fit time          15.46   14.68   14.72   14.77   14.93   14.84   14.89   14.78   15.48   14.90   14.95   0.27    \n",
      "Test time         0.06    0.06    0.06    0.06    0.06    0.06    0.05    0.05    0.06    0.06    0.06    0.00    \n",
      "Evaluating RMSE, MAE of algorithm SVD on 10 split(s).\n",
      "\n",
      "                  Fold 1  Fold 2  Fold 3  Fold 4  Fold 5  Fold 6  Fold 7  Fold 8  Fold 9  Fold 10 Mean    Std     \n",
      "RMSE (testset)    0.8770  0.8773  0.8774  0.8834  0.8741  0.8693  0.8869  0.8774  0.8759  0.8667  0.8765  0.0056  \n",
      "MAE (testset)     0.6757  0.6740  0.6726  0.6819  0.6753  0.6678  0.6852  0.6713  0.6754  0.6737  0.6753  0.0047  \n",
      "RMSE (trainset)   0.8003  0.7997  0.7998  0.7994  0.7998  0.7999  0.7982  0.7986  0.7993  0.7995  0.7995  0.0006  \n",
      "MAE (trainset)    0.6183  0.6177  0.6176  0.6172  0.6174  0.6186  0.6166  0.6169  0.6172  0.6171  0.6175  0.0006  \n",
      "Fit time          14.84   14.89   15.05   14.93   14.97   14.85   14.89   14.88   15.22   14.95   14.95   0.11    \n",
      "Test time         0.06    0.06    0.06    0.06    0.06    0.06    0.06    0.06    0.12    0.06    0.07    0.02    \n",
      "Evaluating RMSE, MAE of algorithm SVD on 10 split(s).\n",
      "\n",
      "                  Fold 1  Fold 2  Fold 3  Fold 4  Fold 5  Fold 6  Fold 7  Fold 8  Fold 9  Fold 10 Mean    Std     \n",
      "RMSE (testset)    0.8744  0.8878  0.8671  0.8770  0.8750  0.8761  0.8763  0.8772  0.8851  0.8650  0.8761  0.0065  \n",
      "MAE (testset)     0.6730  0.6807  0.6681  0.6755  0.6717  0.6780  0.6736  0.6803  0.6823  0.6667  0.6750  0.0051  \n",
      "RMSE (trainset)   0.8098  0.8083  0.8104  0.8092  0.8100  0.8085  0.8095  0.8094  0.8093  0.8101  0.8094  0.0006  \n",
      "MAE (trainset)    0.6258  0.6245  0.6262  0.6254  0.6260  0.6244  0.6253  0.6246  0.6249  0.6257  0.6253  0.0006  \n",
      "Fit time          14.91   14.85   15.01   14.95   15.07   15.26   14.92   14.98   14.94   14.87   14.98   0.11    \n",
      "Test time         0.06    0.06    0.12    0.06    0.06    0.06    0.06    0.06    0.07    0.06    0.07    0.02    \n",
      "Evaluating RMSE, MAE of algorithm SVD on 10 split(s).\n",
      "\n",
      "                  Fold 1  Fold 2  Fold 3  Fold 4  Fold 5  Fold 6  Fold 7  Fold 8  Fold 9  Fold 10 Mean    Std     \n",
      "RMSE (testset)    0.8800  0.8833  0.8803  0.8751  0.8685  0.8648  0.8828  0.8656  0.8857  0.8778  0.8764  0.0072  \n",
      "MAE (testset)     0.6794  0.6836  0.6763  0.6749  0.6699  0.6647  0.6783  0.6695  0.6824  0.6776  0.6757  0.0057  \n",
      "RMSE (trainset)   0.8165  0.8156  0.8156  0.8169  0.8178  0.8178  0.8161  0.8175  0.8159  0.8161  0.8166  0.0008  \n",
      "MAE (trainset)    0.6306  0.6301  0.6304  0.6311  0.6314  0.6318  0.6306  0.6315  0.6303  0.6304  0.6308  0.0006  \n",
      "Fit time          14.95   14.88   14.85   14.92   14.84   14.80   14.77   14.85   14.94   15.09   14.89   0.09    \n",
      "Test time         0.06    0.06    0.06    0.06    0.06    0.05    0.06    0.06    0.06    0.06    0.06    0.00    \n",
      "Evaluating RMSE, MAE of algorithm SVD on 10 split(s).\n",
      "\n",
      "                  Fold 1  Fold 2  Fold 3  Fold 4  Fold 5  Fold 6  Fold 7  Fold 8  Fold 9  Fold 10 Mean    Std     \n",
      "RMSE (testset)    0.8759  0.8894  0.8860  0.8811  0.8822  0.8835  0.8903  0.8876  0.8848  0.8798  0.8841  0.0043  \n",
      "MAE (testset)     0.6699  0.6838  0.6805  0.6795  0.6756  0.6774  0.6840  0.6805  0.6798  0.6777  0.6789  0.0039  \n",
      "RMSE (trainset)   0.4265  0.4231  0.4286  0.4268  0.4289  0.4240  0.4270  0.4292  0.4255  0.4267  0.4266  0.0019  \n",
      "MAE (trainset)    0.3279  0.3256  0.3303  0.3285  0.3292  0.3262  0.3283  0.3300  0.3271  0.3287  0.3282  0.0015  \n",
      "Fit time          14.84   14.87   14.93   15.17   15.03   14.87   14.38   14.42   14.35   15.46   14.83   0.34    \n",
      "Test time         0.06    0.06    0.06    0.06    0.06    0.06    0.06    0.06    0.11    0.06    0.07    0.02    \n",
      "Evaluating RMSE, MAE of algorithm SVD on 10 split(s).\n",
      "\n",
      "                  Fold 1  Fold 2  Fold 3  Fold 4  Fold 5  Fold 6  Fold 7  Fold 8  Fold 9  Fold 10 Mean    Std     \n",
      "RMSE (testset)    0.8671  0.8529  0.8741  0.8723  0.8592  0.8551  0.8724  0.8620  0.8555  0.8580  0.8629  0.0076  \n",
      "MAE (testset)     0.6697  0.6579  0.6659  0.6661  0.6539  0.6581  0.6656  0.6619  0.6545  0.6592  0.6613  0.0051  \n",
      "RMSE (trainset)   0.5440  0.5431  0.5445  0.5465  0.5449  0.5425  0.5449  0.5430  0.5451  0.5446  0.5443  0.0011  \n",
      "MAE (trainset)    0.4252  0.4240  0.4253  0.4266  0.4255  0.4234  0.4255  0.4238  0.4255  0.4252  0.4250  0.0009  \n",
      "Fit time          14.86   14.96   14.98   14.97   15.50   15.78   16.01   15.79   15.89   15.42   15.42   0.42    \n",
      "Test time         0.06    0.06    0.12    0.06    0.06    0.06    0.06    0.06    0.06    0.06    0.07    0.02    \n",
      "Evaluating RMSE, MAE of algorithm SVD on 10 split(s).\n",
      "\n",
      "                  Fold 1  Fold 2  Fold 3  Fold 4  Fold 5  Fold 6  Fold 7  Fold 8  Fold 9  Fold 10 Mean    Std     \n",
      "RMSE (testset)    0.8467  0.8578  0.8498  0.8604  0.8619  0.8592  0.8596  0.8506  0.8663  0.8634  0.8576  0.0061  \n",
      "MAE (testset)     0.6449  0.6593  0.6521  0.6598  0.6623  0.6600  0.6603  0.6566  0.6639  0.6585  0.6578  0.0053  \n",
      "RMSE (trainset)   0.6309  0.6356  0.6321  0.6316  0.6371  0.6313  0.6307  0.6322  0.6342  0.6336  0.6329  0.0020  \n",
      "MAE (trainset)    0.4924  0.4959  0.4934  0.4924  0.4968  0.4926  0.4920  0.4933  0.4947  0.4947  0.4938  0.0015  \n",
      "Fit time          15.90   14.41   15.66   14.47   14.52   15.35   15.16   15.58   15.05   15.04   15.11   0.50    \n",
      "Test time         0.06    0.06    0.06    0.06    0.05    0.06    0.07    0.06    0.06    0.06    0.06    0.00    \n",
      "Evaluating RMSE, MAE of algorithm SVD on 10 split(s).\n",
      "\n",
      "                  Fold 1  Fold 2  Fold 3  Fold 4  Fold 5  Fold 6  Fold 7  Fold 8  Fold 9  Fold 10 Mean    Std     \n",
      "RMSE (testset)    0.8608  0.8648  0.8547  0.8734  0.8534  0.8407  0.8584  0.8615  0.8508  0.8650  0.8584  0.0086  \n",
      "MAE (testset)     0.6634  0.6643  0.6571  0.6681  0.6546  0.6457  0.6554  0.6599  0.6553  0.6621  0.6586  0.0060  \n",
      "RMSE (trainset)   0.6937  0.6932  0.6941  0.6928  0.6931  0.6946  0.6933  0.6942  0.6940  0.6913  0.6934  0.0009  \n",
      "MAE (trainset)    0.5399  0.5390  0.5398  0.5394  0.5395  0.5403  0.5396  0.5400  0.5396  0.5378  0.5395  0.0007  \n",
      "Fit time          15.65   14.42   14.65   14.37   14.87   14.12   14.23   14.32   14.45   14.33   14.54   0.42    \n",
      "Test time         0.05    0.06    0.06    0.06    0.05    0.06    0.06    0.05    0.12    0.06    0.06    0.02    \n",
      "Evaluating RMSE, MAE of algorithm SVD on 10 split(s).\n",
      "\n",
      "                  Fold 1  Fold 2  Fold 3  Fold 4  Fold 5  Fold 6  Fold 7  Fold 8  Fold 9  Fold 10 Mean    Std     \n",
      "RMSE (testset)    0.8567  0.8598  0.8666  0.8586  0.8461  0.8629  0.8642  0.8530  0.8619  0.8765  0.8606  0.0077  \n",
      "MAE (testset)     0.6590  0.6605  0.6641  0.6584  0.6527  0.6638  0.6626  0.6529  0.6619  0.6749  0.6611  0.0060  \n",
      "RMSE (trainset)   0.7368  0.7354  0.7356  0.7355  0.7359  0.7352  0.7354  0.7346  0.7357  0.7353  0.7356  0.0005  \n",
      "MAE (trainset)    0.5715  0.5708  0.5710  0.5710  0.5712  0.5706  0.5711  0.5703  0.5710  0.5706  0.5709  0.0003  \n",
      "Fit time          13.73   14.27   14.34   14.35   14.48   14.32   14.35   14.55   14.68   14.59   14.36   0.25    \n",
      "Test time         0.05    0.05    0.11    0.06    0.06    0.06    0.06    0.06    0.06    0.06    0.06    0.02    \n"
     ]
    },
    {
     "name": "stdout",
     "output_type": "stream",
     "text": [
      "Evaluating RMSE, MAE of algorithm SVD on 10 split(s).\n",
      "\n",
      "                  Fold 1  Fold 2  Fold 3  Fold 4  Fold 5  Fold 6  Fold 7  Fold 8  Fold 9  Fold 10 Mean    Std     \n",
      "RMSE (testset)    0.9012  0.8987  0.8913  0.8942  0.8939  0.9080  0.8913  0.8989  0.8931  0.9023  0.8973  0.0052  \n",
      "MAE (testset)     0.6928  0.6916  0.6867  0.6840  0.6877  0.6970  0.6875  0.6928  0.6843  0.6883  0.6893  0.0039  \n",
      "RMSE (trainset)   0.2549  0.2567  0.2576  0.2570  0.2568  0.2577  0.2572  0.2570  0.2564  0.2573  0.2569  0.0007  \n",
      "MAE (trainset)    0.1934  0.1948  0.1955  0.1952  0.1952  0.1961  0.1953  0.1954  0.1949  0.1953  0.1951  0.0007  \n",
      "Fit time          14.91   14.66   14.66   14.38   14.55   14.56   14.64   14.62   14.55   14.39   14.59   0.14    \n",
      "Test time         0.06    0.06    0.06    0.06    0.06    0.06    0.06    0.06    0.06    0.05    0.06    0.00    \n",
      "Evaluating RMSE, MAE of algorithm SVD on 10 split(s).\n",
      "\n",
      "                  Fold 1  Fold 2  Fold 3  Fold 4  Fold 5  Fold 6  Fold 7  Fold 8  Fold 9  Fold 10 Mean    Std     \n",
      "RMSE (testset)    0.8585  0.8574  0.8567  0.8641  0.8575  0.8611  0.8785  0.8653  0.8732  0.8612  0.8633  0.0069  \n",
      "MAE (testset)     0.6621  0.6567  0.6557  0.6590  0.6590  0.6592  0.6716  0.6589  0.6666  0.6586  0.6607  0.0046  \n",
      "RMSE (trainset)   0.3819  0.3821  0.3824  0.3833  0.3845  0.3825  0.3819  0.3851  0.3842  0.3846  0.3833  0.0012  \n",
      "MAE (trainset)    0.2982  0.2985  0.2987  0.2997  0.3000  0.2988  0.2979  0.3007  0.2999  0.3004  0.2993  0.0009  \n",
      "Fit time          14.29   14.40   14.57   14.76   14.42   14.83   14.60   14.47   14.34   14.33   14.50   0.18    \n",
      "Test time         0.06    0.05    0.06    0.06    0.06    0.05    0.06    0.06    0.11    0.06    0.06    0.02    \n",
      "Evaluating RMSE, MAE of algorithm SVD on 10 split(s).\n",
      "\n",
      "                  Fold 1  Fold 2  Fold 3  Fold 4  Fold 5  Fold 6  Fold 7  Fold 8  Fold 9  Fold 10 Mean    Std     \n",
      "RMSE (testset)    0.8506  0.8363  0.8650  0.8526  0.8478  0.8463  0.8533  0.8514  0.8584  0.8430  0.8505  0.0075  \n",
      "MAE (testset)     0.6527  0.6428  0.6611  0.6490  0.6518  0.6510  0.6522  0.6501  0.6542  0.6468  0.6512  0.0045  \n",
      "RMSE (trainset)   0.4925  0.4936  0.4943  0.4924  0.4932  0.4941  0.4941  0.4930  0.4946  0.4928  0.4935  0.0007  \n",
      "MAE (trainset)    0.3852  0.3863  0.3870  0.3854  0.3857  0.3869  0.3866  0.3858  0.3872  0.3863  0.3862  0.0007  \n",
      "Fit time          14.42   15.63   15.36   14.72   14.64   14.41   14.57   14.67   14.57   14.71   14.77   0.38    \n",
      "Test time         0.06    0.06    0.12    0.06    0.06    0.06    0.06    0.06    0.06    0.05    0.06    0.02    \n",
      "Evaluating RMSE, MAE of algorithm SVD on 10 split(s).\n",
      "\n",
      "                  Fold 1  Fold 2  Fold 3  Fold 4  Fold 5  Fold 6  Fold 7  Fold 8  Fold 9  Fold 10 Mean    Std     \n",
      "RMSE (testset)    0.8397  0.8506  0.8490  0.8526  0.8528  0.8504  0.8523  0.8569  0.8408  0.8417  0.8487  0.0056  \n",
      "MAE (testset)     0.6406  0.6538  0.6500  0.6503  0.6535  0.6543  0.6494  0.6547  0.6455  0.6458  0.6498  0.0044  \n",
      "RMSE (trainset)   0.5820  0.5822  0.5819  0.5853  0.5836  0.5833  0.5840  0.5831  0.5851  0.5824  0.5833  0.0012  \n",
      "MAE (trainset)    0.4550  0.4551  0.4549  0.4575  0.4562  0.4561  0.4567  0.4558  0.4571  0.4558  0.4560  0.0008  \n",
      "Fit time          14.75   14.64   14.62   14.90   15.93   15.63   15.78   15.66   15.75   15.76   15.34   0.51    \n",
      "Test time         0.05    0.06    0.06    0.06    0.06    0.06    0.06    0.06    0.06    0.06    0.06    0.00    \n",
      "Evaluating RMSE, MAE of algorithm SVD on 10 split(s).\n",
      "\n",
      "                  Fold 1  Fold 2  Fold 3  Fold 4  Fold 5  Fold 6  Fold 7  Fold 8  Fold 9  Fold 10 Mean    Std     \n",
      "RMSE (testset)    0.8388  0.8533  0.8558  0.8478  0.8575  0.8412  0.8461  0.8555  0.8547  0.8544  0.8505  0.0063  \n",
      "MAE (testset)     0.6432  0.6571  0.6543  0.6500  0.6595  0.6458  0.6509  0.6565  0.6571  0.6532  0.6528  0.0050  \n",
      "RMSE (trainset)   0.6540  0.6523  0.6558  0.6542  0.6523  0.6553  0.6555  0.6546  0.6526  0.6543  0.6541  0.0012  \n",
      "MAE (trainset)    0.5104  0.5090  0.5116  0.5104  0.5094  0.5113  0.5116  0.5106  0.5093  0.5106  0.5104  0.0009  \n",
      "Fit time          15.78   15.84   14.93   14.56   14.85   14.67   14.41   14.80   14.83   14.55   14.92   0.47    \n",
      "Test time         0.06    0.06    0.06    0.05    0.07    0.06    0.06    0.06    0.11    0.06    0.06    0.02    \n",
      "Evaluating RMSE, MAE of algorithm SVD on 10 split(s).\n",
      "\n",
      "                  Fold 1  Fold 2  Fold 3  Fold 4  Fold 5  Fold 6  Fold 7  Fold 8  Fold 9  Fold 10 Mean    Std     \n",
      "RMSE (testset)    0.9088  0.9023  0.9129  0.8992  0.9035  0.9069  0.9002  0.9038  0.8916  0.8967  0.9026  0.0058  \n",
      "MAE (testset)     0.6967  0.6930  0.7027  0.6903  0.6954  0.6996  0.6930  0.6935  0.6898  0.6883  0.6942  0.0043  \n",
      "RMSE (trainset)   0.1833  0.1831  0.1831  0.1848  0.1822  0.1833  0.1838  0.1832  0.1831  0.1842  0.1834  0.0007  \n",
      "MAE (trainset)    0.1370  0.1368  0.1370  0.1382  0.1362  0.1371  0.1373  0.1370  0.1370  0.1378  0.1371  0.0005  \n",
      "Fit time          14.54   14.57   14.98   14.87   14.59   14.53   14.53   14.61   14.61   14.66   14.65   0.14    \n",
      "Test time         0.06    0.06    0.11    0.06    0.06    0.06    0.06    0.06    0.06    0.06    0.06    0.02    \n",
      "Evaluating RMSE, MAE of algorithm SVD on 10 split(s).\n",
      "\n",
      "                  Fold 1  Fold 2  Fold 3  Fold 4  Fold 5  Fold 6  Fold 7  Fold 8  Fold 9  Fold 10 Mean    Std     \n",
      "RMSE (testset)    0.8675  0.8581  0.8586  0.8593  0.8636  0.8732  0.8601  0.8752  0.8744  0.8536  0.8644  0.0073  \n",
      "MAE (testset)     0.6622  0.6596  0.6620  0.6577  0.6597  0.6658  0.6601  0.6715  0.6693  0.6526  0.6620  0.0053  \n",
      "RMSE (trainset)   0.3052  0.3035  0.3043  0.3041  0.3048  0.3040  0.3044  0.3032  0.3030  0.3042  0.3041  0.0006  \n",
      "MAE (trainset)    0.2369  0.2355  0.2361  0.2359  0.2367  0.2360  0.2361  0.2354  0.2352  0.2364  0.2360  0.0005  \n",
      "Fit time          14.25   14.79   14.53   14.58   14.53   14.60   14.50   15.48   15.49   14.60   14.74   0.40    \n",
      "Test time         0.06    0.07    0.06    0.05    0.06    0.06    0.06    0.06    0.06    0.06    0.06    0.00    \n",
      "Evaluating RMSE, MAE of algorithm SVD on 10 split(s).\n",
      "\n",
      "                  Fold 1  Fold 2  Fold 3  Fold 4  Fold 5  Fold 6  Fold 7  Fold 8  Fold 9  Fold 10 Mean    Std     \n",
      "RMSE (testset)    0.8511  0.8536  0.8500  0.8600  0.8615  0.8337  0.8426  0.8419  0.8653  0.8538  0.8514  0.0093  \n",
      "MAE (testset)     0.6531  0.6531  0.6499  0.6576  0.6573  0.6400  0.6454  0.6455  0.6583  0.6537  0.6514  0.0058  \n",
      "RMSE (trainset)   0.4153  0.4143  0.4147  0.4151  0.4147  0.4138  0.4147  0.4153  0.4153  0.4153  0.4149  0.0005  \n",
      "MAE (trainset)    0.3234  0.3230  0.3233  0.3235  0.3231  0.3226  0.3232  0.3236  0.3240  0.3235  0.3233  0.0004  \n",
      "Fit time          14.44   14.42   14.63   14.66   14.55   14.67   15.02   14.60   14.54   14.51   14.60   0.16    \n",
      "Test time         0.06    0.06    0.06    0.06    0.06    0.06    0.06    0.06    0.10    0.06    0.06    0.01    \n",
      "Evaluating RMSE, MAE of algorithm SVD on 10 split(s).\n",
      "\n",
      "                  Fold 1  Fold 2  Fold 3  Fold 4  Fold 5  Fold 6  Fold 7  Fold 8  Fold 9  Fold 10 Mean    Std     \n",
      "RMSE (testset)    0.8404  0.8328  0.8404  0.8359  0.8519  0.8517  0.8519  0.8545  0.8520  0.8554  0.8467  0.0080  \n",
      "MAE (testset)     0.6432  0.6393  0.6433  0.6415  0.6470  0.6527  0.6528  0.6563  0.6502  0.6525  0.6479  0.0055  \n",
      "RMSE (trainset)   0.5126  0.5122  0.5113  0.5109  0.5122  0.5120  0.5110  0.5114  0.5123  0.5117  0.5117  0.0006  \n",
      "MAE (trainset)    0.4002  0.3995  0.3988  0.3985  0.3998  0.3997  0.3987  0.3991  0.3999  0.3993  0.3993  0.0005  \n",
      "Fit time          14.56   14.65   14.46   14.64   14.57   14.77   14.81   14.48   14.48   14.75   14.62   0.12    \n",
      "Test time         0.07    0.05    0.11    0.06    0.06    0.06    0.06    0.06    0.07    0.06    0.07    0.02    \n",
      "Evaluating RMSE, MAE of algorithm SVD on 10 split(s).\n",
      "\n",
      "                  Fold 1  Fold 2  Fold 3  Fold 4  Fold 5  Fold 6  Fold 7  Fold 8  Fold 9  Fold 10 Mean    Std     \n",
      "RMSE (testset)    0.8389  0.8536  0.8370  0.8415  0.8415  0.8421  0.8645  0.8463  0.8423  0.8530  0.8461  0.0081  \n",
      "MAE (testset)     0.6442  0.6529  0.6404  0.6472  0.6436  0.6421  0.6641  0.6478  0.6436  0.6550  0.6481  0.0069  \n",
      "RMSE (trainset)   0.5920  0.5917  0.5932  0.5922  0.5925  0.5929  0.5924  0.5913  0.5929  0.5921  0.5923  0.0006  \n",
      "MAE (trainset)    0.4618  0.4617  0.4626  0.4617  0.4624  0.4627  0.4616  0.4610  0.4627  0.4616  0.4620  0.0005  \n",
      "Fit time          14.61   15.34   14.56   14.86   14.62   14.74   14.60   14.70   14.94   14.69   14.77   0.22    \n",
      "Test time         0.06    0.06    0.06    0.06    0.06    0.06    0.06    0.06    0.06    0.05    0.06    0.00    \n"
     ]
    },
    {
     "name": "stdout",
     "output_type": "stream",
     "text": [
      "Evaluating RMSE, MAE of algorithm SVD on 10 split(s).\n",
      "\n",
      "                  Fold 1  Fold 2  Fold 3  Fold 4  Fold 5  Fold 6  Fold 7  Fold 8  Fold 9  Fold 10 Mean    Std     \n",
      "RMSE (testset)    0.9026  0.9028  0.8959  0.8986  0.9033  0.9003  0.8906  0.8971  0.9003  0.9059  0.8997  0.0042  \n",
      "MAE (testset)     0.6921  0.6942  0.6922  0.6887  0.6954  0.6909  0.6840  0.6890  0.6919  0.6996  0.6918  0.0040  \n",
      "RMSE (trainset)   0.1496  0.1481  0.1477  0.1479  0.1480  0.1484  0.1475  0.1488  0.1487  0.1484  0.1483  0.0006  \n",
      "MAE (trainset)    0.1097  0.1084  0.1082  0.1082  0.1084  0.1084  0.1078  0.1088  0.1088  0.1087  0.1085  0.0005  \n",
      "Fit time          14.75   15.10   15.83   14.67   14.61   14.87   14.83   14.86   14.92   14.62   14.91   0.34    \n",
      "Test time         0.05    0.06    0.06    0.06    0.06    0.06    0.06    0.06    0.11    0.06    0.06    0.02    \n",
      "Evaluating RMSE, MAE of algorithm SVD on 10 split(s).\n",
      "\n",
      "                  Fold 1  Fold 2  Fold 3  Fold 4  Fold 5  Fold 6  Fold 7  Fold 8  Fold 9  Fold 10 Mean    Std     \n",
      "RMSE (testset)    0.8555  0.8662  0.8787  0.8727  0.8496  0.8681  0.8593  0.8681  0.8572  0.8560  0.8631  0.0086  \n",
      "MAE (testset)     0.6564  0.6641  0.6689  0.6668  0.6514  0.6661  0.6580  0.6641  0.6565  0.6597  0.6612  0.0053  \n",
      "RMSE (trainset)   0.2632  0.2610  0.2628  0.2616  0.2614  0.2630  0.2625  0.2616  0.2624  0.2642  0.2624  0.0009  \n",
      "MAE (trainset)    0.2018  0.2003  0.2017  0.2008  0.2003  0.2018  0.2010  0.2005  0.2014  0.2024  0.2012  0.0007  \n",
      "Fit time          14.36   14.42   14.60   14.34   14.40   14.66   14.33   14.33   14.10   14.49   14.40   0.15    \n",
      "Test time         0.06    0.06    0.12    0.05    0.07    0.06    0.06    0.05    0.05    0.06    0.06    0.02    \n",
      "Evaluating RMSE, MAE of algorithm SVD on 10 split(s).\n",
      "\n",
      "                  Fold 1  Fold 2  Fold 3  Fold 4  Fold 5  Fold 6  Fold 7  Fold 8  Fold 9  Fold 10 Mean    Std     \n",
      "RMSE (testset)    0.8462  0.8476  0.8540  0.8507  0.8466  0.8537  0.8592  0.8474  0.8514  0.8479  0.8505  0.0040  \n",
      "MAE (testset)     0.6485  0.6509  0.6484  0.6491  0.6498  0.6522  0.6565  0.6474  0.6523  0.6473  0.6502  0.0027  \n",
      "RMSE (trainset)   0.3692  0.3711  0.3717  0.3703  0.3711  0.3704  0.3694  0.3700  0.3709  0.3708  0.3705  0.0008  \n",
      "MAE (trainset)    0.2852  0.2866  0.2871  0.2863  0.2869  0.2862  0.2854  0.2859  0.2865  0.2864  0.2862  0.0006  \n",
      "Fit time          14.48   14.31   14.45   14.56   15.24   15.28   15.05   14.95   15.00   14.99   14.83   0.33    \n",
      "Test time         0.06    0.05    0.06    0.07    0.06    0.06    0.06    0.06    0.06    0.06    0.06    0.00    \n",
      "Evaluating RMSE, MAE of algorithm SVD on 10 split(s).\n",
      "\n",
      "                  Fold 1  Fold 2  Fold 3  Fold 4  Fold 5  Fold 6  Fold 7  Fold 8  Fold 9  Fold 10 Mean    Std     \n",
      "RMSE (testset)    0.8376  0.8548  0.8442  0.8301  0.8475  0.8531  0.8392  0.8511  0.8407  0.8581  0.8456  0.0084  \n",
      "MAE (testset)     0.6446  0.6548  0.6441  0.6322  0.6472  0.6521  0.6407  0.6533  0.6428  0.6555  0.6467  0.0070  \n",
      "RMSE (trainset)   0.4671  0.4679  0.4675  0.4667  0.4691  0.4677  0.4674  0.4676  0.4671  0.4688  0.4677  0.0007  \n",
      "MAE (trainset)    0.3623  0.3631  0.3632  0.3625  0.3644  0.3628  0.3627  0.3630  0.3627  0.3639  0.3631  0.0006  \n",
      "Fit time          15.29   15.36   15.02   14.68   14.92   15.06   14.98   15.04   14.96   15.22   15.05   0.19    \n",
      "Test time         0.06    0.06    0.06    0.06    0.06    0.06    0.06    0.06    0.12    0.06    0.07    0.02    \n",
      "Evaluating RMSE, MAE of algorithm SVD on 10 split(s).\n",
      "\n",
      "                  Fold 1  Fold 2  Fold 3  Fold 4  Fold 5  Fold 6  Fold 7  Fold 8  Fold 9  Fold 10 Mean    Std     \n",
      "RMSE (testset)    0.8519  0.8435  0.8454  0.8401  0.8370  0.8309  0.8396  0.8598  0.8504  0.8452  0.8444  0.0078  \n",
      "MAE (testset)     0.6518  0.6487  0.6466  0.6427  0.6421  0.6392  0.6434  0.6538  0.6527  0.6459  0.6467  0.0047  \n",
      "RMSE (trainset)   0.5505  0.5506  0.5525  0.5516  0.5511  0.5505  0.5518  0.5523  0.5514  0.5513  0.5513  0.0007  \n",
      "MAE (trainset)    0.4289  0.4283  0.4298  0.4291  0.4291  0.4283  0.4294  0.4297  0.4291  0.4291  0.4291  0.0005  \n",
      "Fit time          15.14   15.03   15.08   15.04   15.01   15.14   15.17   14.82   14.73   14.97   15.01   0.14    \n",
      "Test time         0.06    0.06    0.12    0.06    0.06    0.06    0.06    0.06    0.06    0.06    0.07    0.02    \n"
     ]
    }
   ],
   "source": [
    "learning_rate=np.arange(0.001,0.01,0.002)\n",
    "regularization=np.arange(0.01,0.1,0.02)\n",
    "n_factors=np.arange(50,200,50)\n",
    "n_epochs=np.arange(10,100,20)\n",
    "\n",
    "svd_result=[]\n",
    "for lr in learning_rate:\n",
    "    SVD_time = []\n",
    "    SVD_train_MAE=[]\n",
    "    SVD_test_MAE=[]\n",
    "    SVD_train_RMSE=[]\n",
    "    SVD_test_RMSE=[]\n",
    "    \n",
    "    for reg in regularization:\n",
    "        algo=SVD(n_epochs =50,lr_all=lr,r eg_all=reg)\n",
    "        c_v=cross_validate(algo, data,cv=10, verbose=True,return_train_measures =True)\n",
    "        SVD_time.append(np.mean(c_v['fit_time']))\n",
    "        SVD_train_MAE.append(np.mean(c_v['train_mae']))\n",
    "        SVD_test_MAE.append(np.mean(c_v['test_mae']))\n",
    "        SVD_train_RMSE.append(np.mean(c_v['train_rmse']))\n",
    "        SVD_test_RMSE.append(np.mean(c_v['test_rmse']))\n",
    "    svd_result.append([SVD_time,SVD_train_MAE,SVD_test_MAE,SVD_train_RMSE,SVD_test_RMSE])\n"
   ]
  },
  {
   "cell_type": "code",
   "execution_count": 11,
   "metadata": {},
   "outputs": [
    {
     "name": "stdout",
     "output_type": "stream",
     "text": [
      "Stored 'svd_result' (list)\n"
     ]
    }
   ],
   "source": [
    "%store svd_result"
   ]
  },
  {
   "cell_type": "code",
   "execution_count": 110,
   "metadata": {
    "scrolled": true
   },
   "outputs": [
    {
     "data": {
      "text/plain": [
       "array([0.001, 0.003, 0.005, 0.007, 0.009])"
      ]
     },
     "execution_count": 110,
     "metadata": {},
     "output_type": "execute_result"
    }
   ],
   "source": [
    "learning_rate"
   ]
  },
  {
   "cell_type": "code",
   "execution_count": 111,
   "metadata": {
    "scrolled": true
   },
   "outputs": [
    {
     "data": {
      "text/plain": [
       "array([0.01, 0.03, 0.05, 0.07, 0.09])"
      ]
     },
     "execution_count": 111,
     "metadata": {},
     "output_type": "execute_result"
    }
   ],
   "source": [
    "regularization"
   ]
  },
  {
   "cell_type": "code",
   "execution_count": 12,
   "metadata": {},
   "outputs": [
    {
     "data": {
      "text/plain": [
       "[[[15.293750190734864,\n",
       "   14.94609625339508,\n",
       "   14.946623635292053,\n",
       "   14.976887035369874,\n",
       "   14.889759254455566],\n",
       "  [0.5878614863561233,\n",
       "   0.606283734843424,\n",
       "   0.6174699439785853,\n",
       "   0.6252736268212058,\n",
       "   0.6308323111069642],\n",
       "  [0.6768896006221607,\n",
       "   0.6751037754826635,\n",
       "   0.6752811370158377,\n",
       "   0.6750017440552366,\n",
       "   0.6756663356229016],\n",
       "  [0.7614167909815415,\n",
       "   0.7849014210413776,\n",
       "   0.7994625893790019,\n",
       "   0.8094448863568615,\n",
       "   0.816580190690957],\n",
       "  [0.8793295542076776,\n",
       "   0.8764455277370816,\n",
       "   0.8765410887708927,\n",
       "   0.876090822781871,\n",
       "   0.8763894673389556]],\n",
       " [[14.83118748664856,\n",
       "   15.415873265266418,\n",
       "   15.11498761177063,\n",
       "   14.540412735939025,\n",
       "   14.364144492149354],\n",
       "  [0.3281862596663627,\n",
       "   0.4250137473129982,\n",
       "   0.4938101659966515,\n",
       "   0.5394943473554509,\n",
       "   0.5709045294991356],\n",
       "  [0.6788651514395333,\n",
       "   0.6612879908149056,\n",
       "   0.6577744226058407,\n",
       "   0.6585936401964241,\n",
       "   0.661093546395092],\n",
       "  [0.4266278234119424,\n",
       "   0.544297532401491,\n",
       "   0.6329143638043581,\n",
       "   0.6934390145143939,\n",
       "   0.7355565250490289],\n",
       "  [0.8840647190584109,\n",
       "   0.862856538890389,\n",
       "   0.8575522896688345,\n",
       "   0.8583555214309297,\n",
       "   0.860628834166619]],\n",
       " [[14.592603182792663,\n",
       "   14.50132930278778,\n",
       "   14.76993408203125,\n",
       "   15.34159746170044,\n",
       "   14.922067594528198],\n",
       "  [0.19511190897175607,\n",
       "   0.2993022580024219,\n",
       "   0.3862270899332767,\n",
       "   0.456041685156139,\n",
       "   0.5104268433011873],\n",
       "  [0.6892667339300675,\n",
       "   0.6607364537619476,\n",
       "   0.6511599752283801,\n",
       "   0.6497781781868501,\n",
       "   0.6527596402471254],\n",
       "  [0.2568714852642221,\n",
       "   0.3832530373195531,\n",
       "   0.4934656774405012,\n",
       "   0.5833023121344774,\n",
       "   0.6540838154660227],\n",
       "  [0.8972835670852335,\n",
       "   0.8633422628393328,\n",
       "   0.8504714109668715,\n",
       "   0.8486800547001628,\n",
       "   0.8504948297715194]],\n",
       " [[14.648702549934388,\n",
       "   14.73521032333374,\n",
       "   14.604305863380432,\n",
       "   14.617889356613158,\n",
       "   14.766364240646363],\n",
       "  [0.1371484386068916,\n",
       "   0.2360133343174291,\n",
       "   0.32332540829855294,\n",
       "   0.3993394061561587,\n",
       "   0.461989966094624],\n",
       "  [0.6942160684611018,\n",
       "   0.6620433686740116,\n",
       "   0.6513867491453242,\n",
       "   0.6478822973344617,\n",
       "   0.6480889224450141],\n",
       "  [0.1834050932822584,\n",
       "   0.304077796933346,\n",
       "   0.4148525782866804,\n",
       "   0.5117461547986127,\n",
       "   0.5923180230440235],\n",
       "  [0.9026013257244314,\n",
       "   0.8643578506694535,\n",
       "   0.8513602926908771,\n",
       "   0.8466803801577395,\n",
       "   0.8460822301474245]],\n",
       " [[14.90623643398285,\n",
       "   14.40275137424469,\n",
       "   14.831049227714539,\n",
       "   15.052697372436523,\n",
       "   15.01232407093048],\n",
       "  [0.1085361730883185,\n",
       "   0.20119478610229904,\n",
       "   0.28624959257345034,\n",
       "   0.363055949254638,\n",
       "   0.4290879140632075],\n",
       "  [0.6917975570900883,\n",
       "   0.661221011931569,\n",
       "   0.6502432216441377,\n",
       "   0.646710529248089,\n",
       "   0.6467110025616818],\n",
       "  [0.14832142183039793,\n",
       "   0.2623665667132419,\n",
       "   0.37048958008087024,\n",
       "   0.4676771719441667,\n",
       "   0.551347561016281],\n",
       "  [0.8997387999773375,\n",
       "   0.8631357059822256,\n",
       "   0.8504671953915333,\n",
       "   0.8456386267118738,\n",
       "   0.8443584265144795]]]"
      ]
     },
     "execution_count": 12,
     "metadata": {},
     "output_type": "execute_result"
    }
   ],
   "source": [
    "svd_result"
   ]
  },
  {
   "cell_type": "code",
   "execution_count": 30,
   "metadata": {},
   "outputs": [],
   "source": [
    "svd_time = []\n",
    "svd_train_MAE = []\n",
    "svd_test_MAE = []\n",
    "svd_train_RMSE = []\n",
    "svd_test_RMSE = []\n",
    "for row in svd_result:\n",
    "    svd_time.append(row[0])\n",
    "    svd_train_MAE.append(row[1])\n",
    "    svd_test_MAE.append(row[2])\n",
    "    svd_train_RMSE.append(row[3])\n",
    "    svd_test_RMSE.append(row[4])"
   ]
  },
  {
   "cell_type": "code",
   "execution_count": 31,
   "metadata": {
    "scrolled": true
   },
   "outputs": [],
   "source": [
    "svd_time = pd.DataFrame(svd_time)\n",
    "svd_time.index = learning_rate.round(3)\n",
    "svd_time.index.name = 'learning_rate'\n",
    "svd_time.columns = regularization.round(2)\n",
    "svd_time.columns.name = 'regularization'"
   ]
  },
  {
   "cell_type": "code",
   "execution_count": 33,
   "metadata": {
    "scrolled": true
   },
   "outputs": [
    {
     "data": {
      "text/plain": [
       "<matplotlib.axes._subplots.AxesSubplot at 0x1a2287a048>"
      ]
     },
     "execution_count": 33,
     "metadata": {},
     "output_type": "execute_result"
    },
    {
     "data": {
      "image/png": "[encoded data removed]",
      "text/plain": [
       "<Figure size 432x288 with 2 Axes>"
      ]
     },
     "metadata": {},
     "output_type": "display_data"
    }
   ],
   "source": [
    "#svd-time\n",
    "sns.heatmap(data = svd_time)"
   ]
  },
  {
   "cell_type": "code",
   "execution_count": 34,
   "metadata": {},
   "outputs": [],
   "source": [
    "svd_test_MAE = pd.DataFrame(svd_test_MAE)\n",
    "svd_test_MAE.index = learning_rate.round(3)\n",
    "svd_test_MAE.index.name = 'learning_rate'\n",
    "svd_test_MAE.columns = regularization.round(2)\n",
    "svd_test_MAE.columns.name = 'regularization'"
   ]
  },
  {
   "cell_type": "code",
   "execution_count": 36,
   "metadata": {},
   "outputs": [
    {
     "data": {
      "text/plain": [
       "<matplotlib.axes._subplots.AxesSubplot at 0x1a23959438>"
      ]
     },
     "execution_count": 36,
     "metadata": {},
     "output_type": "execute_result"
    },
    {
     "data": {
      "image/png": "[encoded data removed]",
      "text/plain": [
       "<Figure size 432x288 with 2 Axes>"
      ]
     },
     "metadata": {},
     "output_type": "display_data"
    }
   ],
   "source": [
    "#svd-MAE\n",
    "sns.heatmap(data = svd_test_MAE)"
   ]
  },
  {
   "cell_type": "code",
   "execution_count": 37,
   "metadata": {},
   "outputs": [],
   "source": [
    "svd_test_RMSE = pd.DataFrame(svd_test_RMSE)\n",
    "svd_test_RMSE.index = learning_rate.round(3)\n",
    "svd_test_RMSE.index.name = 'learning_rate'\n",
    "svd_test_RMSE.columns = regularization.round(2)\n",
    "svd_test_RMSE.columns.name = 'regularization'"
   ]
  },
  {
   "cell_type": "code",
   "execution_count": 38,
   "metadata": {},
   "outputs": [
    {
     "data": {
      "text/plain": [
       "<matplotlib.axes._subplots.AxesSubplot at 0x1a24c7a208>"
      ]
     },
     "execution_count": 38,
     "metadata": {},
     "output_type": "execute_result"
    },
    {
     "data": {
      "image/png": "[encoded data removed]",
      "text/plain": [
       "<Figure size 432x288 with 2 Axes>"
      ]
     },
     "metadata": {},
     "output_type": "display_data"
    }
   ],
   "source": [
    "#svd-RMSE\n",
    "sns.heatmap(data = svd_test_RMSE)"
   ]
  },
  {
   "cell_type": "markdown",
   "metadata": {},
   "source": [
    "### SVD - size"
   ]
  },
  {
   "cell_type": "code",
   "execution_count": 339,
   "metadata": {},
   "outputs": [],
   "source": [
    "param_grid = {'lr_all': learning_rate,'reg_all':regularization}\n",
    "svd_gs=GridSearchCV(SVD,param_grid)\n",
    "svd_gs.fit(data)\n",
    "\n",
    "bestlr = svd_gs.best_params['mae']['lr_all']\n",
    "bestreg=svd_gs.best_params['mae']['reg_all']"
   ]
  },
  {
   "cell_type": "code",
   "execution_count": 106,
   "metadata": {},
   "outputs": [
    {
     "name": "stdout",
     "output_type": "stream",
     "text": [
      "Evaluating RMSE, MAE of algorithm SVD on 10 split(s).\n",
      "\n",
      "                  Fold 1  Fold 2  Fold 3  Fold 4  Fold 5  Fold 6  Fold 7  Fold 8  Fold 9  Fold 10 Mean    Std     \n",
      "RMSE (testset)    0.9233  0.9496  0.9296  0.9280  0.9413  0.9477  0.9141  0.9087  0.9402  0.9336  0.9316  0.0129  \n",
      "MAE (testset)     0.7108  0.7484  0.7219  0.7287  0.7293  0.7407  0.7115  0.7133  0.7393  0.7194  0.7263  0.0126  \n",
      "RMSE (trainset)   0.7896  0.7887  0.7895  0.7891  0.7869  0.7898  0.7892  0.7926  0.7870  0.7881  0.7890  0.0015  \n",
      "MAE (trainset)    0.6161  0.6148  0.6144  0.6145  0.6134  0.6151  0.6141  0.6172  0.6118  0.6139  0.6145  0.0014  \n",
      "Fit time          2.90    3.07    2.86    2.83    2.80    2.96    3.04    2.78    2.88    2.82    2.89    0.10    \n",
      "Test time         0.01    0.01    0.01    0.01    0.01    0.02    0.01    0.01    0.01    0.01    0.01    0.00    \n",
      "Evaluating RMSE, MAE of algorithm SVD on 10 split(s).\n",
      "\n",
      "                  Fold 1  Fold 2  Fold 3  Fold 4  Fold 5  Fold 6  Fold 7  Fold 8  Fold 9  Fold 10 Mean    Std     \n",
      "RMSE (testset)    0.9074  0.9191  0.8965  0.9133  0.8920  0.9064  0.9191  0.8802  0.9194  0.9194  0.9073  0.0130  \n",
      "MAE (testset)     0.6959  0.7108  0.6970  0.7085  0.6858  0.7041  0.7084  0.6850  0.7123  0.7057  0.7013  0.0095  \n",
      "RMSE (trainset)   0.7772  0.7777  0.7771  0.7757  0.7786  0.7769  0.7741  0.7792  0.7766  0.7771  0.7770  0.0013  \n",
      "MAE (trainset)    0.6020  0.6009  0.6011  0.6002  0.6024  0.6005  0.5993  0.6028  0.6003  0.6014  0.6011  0.0010  \n",
      "Fit time          5.40    5.64    5.72    5.77    6.00    5.50    5.89    5.34    5.72    6.20    5.72    0.25    \n",
      "Test time         0.02    0.02    0.03    0.03    0.02    0.02    0.02    0.03    0.03    0.03    0.02    0.00    \n",
      "Evaluating RMSE, MAE of algorithm SVD on 10 split(s).\n",
      "\n",
      "                  Fold 1  Fold 2  Fold 3  Fold 4  Fold 5  Fold 6  Fold 7  Fold 8  Fold 9  Fold 10 Mean    Std     \n",
      "RMSE (testset)    0.8878  0.8903  0.8964  0.9005  0.8994  0.8944  0.9146  0.8709  0.8891  0.8955  0.8939  0.0106  \n",
      "MAE (testset)     0.6834  0.6899  0.6900  0.6945  0.7008  0.6938  0.7050  0.6729  0.6851  0.6972  0.6913  0.0088  \n",
      "RMSE (trainset)   0.7690  0.7698  0.7694  0.7688  0.7691  0.7718  0.7674  0.7716  0.7706  0.7693  0.7697  0.0013  \n",
      "MAE (trainset)    0.5954  0.5965  0.5955  0.5957  0.5948  0.5968  0.5942  0.5970  0.5968  0.5945  0.5957  0.0010  \n",
      "Fit time          9.14    9.23    9.17    9.28    9.31    9.17    8.75    8.74    8.59    9.03    9.04    0.24    \n",
      "Test time         0.04    0.04    0.04    0.04    0.03    0.08    0.03    0.04    0.10    0.04    0.05    0.02    \n",
      "Evaluating RMSE, MAE of algorithm SVD on 10 split(s).\n",
      "\n",
      "                  Fold 1  Fold 2  Fold 3  Fold 4  Fold 5  Fold 6  Fold 7  Fold 8  Fold 9  Fold 10 Mean    Std     \n",
      "RMSE (testset)    0.8866  0.8771  0.8766  0.8912  0.8841  0.8887  0.8888  0.8933  0.8947  0.8732  0.8854  0.0071  \n",
      "MAE (testset)     0.6849  0.6793  0.6757  0.6837  0.6833  0.6833  0.6880  0.6873  0.6870  0.6734  0.6826  0.0047  \n",
      "RMSE (trainset)   0.7647  0.7652  0.7654  0.7634  0.7649  0.7651  0.7668  0.7632  0.7629  0.7655  0.7647  0.0011  \n",
      "MAE (trainset)    0.5910  0.5912  0.5917  0.5898  0.5912  0.5915  0.5928  0.5897  0.5903  0.5915  0.5911  0.0009  \n",
      "Fit time          12.76   12.44   12.22   12.67   12.30   12.83   11.97   11.38   10.83   10.76   12.02   0.73    \n",
      "Test time         0.05    0.05    0.05    0.05    0.05    0.05    0.05    0.04    0.04    0.04    0.05    0.00    \n",
      "Evaluating RMSE, MAE of algorithm SVD on 10 split(s).\n",
      "\n",
      "                  Fold 1  Fold 2  Fold 3  Fold 4  Fold 5  Fold 6  Fold 7  Fold 8  Fold 9  Fold 10 Mean    Std     \n",
      "RMSE (testset)    0.8868  0.8819  0.8928  0.8831  0.8708  0.8701  0.8678  0.8806  0.8785  0.8835  0.8796  0.0075  \n",
      "MAE (testset)     0.6840  0.6810  0.6857  0.6817  0.6713  0.6678  0.6688  0.6777  0.6734  0.6833  0.6775  0.0063  \n",
      "RMSE (trainset)   0.7584  0.7610  0.7596  0.7618  0.7625  0.7609  0.7636  0.7626  0.7614  0.7623  0.7614  0.0015  \n",
      "MAE (trainset)    0.5854  0.5879  0.5870  0.5880  0.5891  0.5882  0.5901  0.5890  0.5876  0.5880  0.5880  0.0012  \n",
      "Fit time          13.52   13.61   13.73   13.65   13.57   13.55   13.52   13.54   14.04   15.48   13.82   0.57    \n",
      "Test time         0.05    0.05    0.06    0.05    0.05    0.05    0.05    0.12    0.05    0.06    0.06    0.02    \n"
     ]
    }
   ],
   "source": [
    "SVD_time = []\n",
    "SVD_train_MAE=[]\n",
    "SVD_test_MAE=[]\n",
    "SVD_train_RMSE=[]\n",
    "SVD_test_RMSE=[]\n",
    "SVD_size_effect=[]\n",
    "for n in new_size:\n",
    "    new_df=df.sample(n=n)\n",
    "    data=Dataset.load_from_df(new_df,reader=reader)\n",
    "    algo=SVD(n_epochs =50,lr_all=bestlr,reg_all=bestreg)\n",
    "    c_v=cross_validate(algo, data,cv=10, verbose=True,return_train_measures =True)\n",
    "    SVD_time.append(np.mean(c_v['fit_time']))\n",
    "    SVD_train_MAE.append(np.mean(c_v['train_mae']))\n",
    "    SVD_test_MAE.append(np.mean(c_v['test_mae']))\n",
    "    SVD_train_RMSE.append(np.mean(c_v['train_rmse']))\n",
    "    SVD_test_RMSE.append(np.mean(c_v['test_rmse']))\n",
    "SVD_size_effect.append([SVD_time,SVD_train_MAE,SVD_test_MAE,SVD_train_RMSE,SVD_test_RMSE])"
   ]
  },
  {
   "cell_type": "code",
   "execution_count": 342,
   "metadata": {},
   "outputs": [
    {
     "name": "stdout",
     "output_type": "stream",
     "text": [
      "Stored 'SVD_size_effect' (list)\n"
     ]
    }
   ],
   "source": [
    "%store SVD_size_effect"
   ]
  },
  {
   "cell_type": "code",
   "execution_count": 340,
   "metadata": {},
   "outputs": [
    {
     "data": {
      "text/plain": [
       "0.009000000000000001"
      ]
     },
     "execution_count": 340,
     "metadata": {},
     "output_type": "execute_result"
    }
   ],
   "source": [
    "bestlr"
   ]
  },
  {
   "cell_type": "code",
   "execution_count": 341,
   "metadata": {},
   "outputs": [
    {
     "data": {
      "text/plain": [
       "0.06999999999999999"
      ]
     },
     "execution_count": 341,
     "metadata": {},
     "output_type": "execute_result"
    }
   ],
   "source": [
    "bestreg"
   ]
  },
  {
   "cell_type": "code",
   "execution_count": 336,
   "metadata": {},
   "outputs": [
    {
     "data": {
      "text/plain": [
       "[[[2.8942103385925293,\n",
       "   5.720335292816162,\n",
       "   9.041515731811524,\n",
       "   12.01565899848938,\n",
       "   13.82228126525879],\n",
       "  [0.6145251473915534,\n",
       "   0.6010886472278548,\n",
       "   0.5957145171888809,\n",
       "   0.5910665915009248,\n",
       "   0.5880322658274679],\n",
       "  [0.7263185635090597,\n",
       "   0.7013455615888908,\n",
       "   0.6912625895740026,\n",
       "   0.6825705336833628,\n",
       "   0.6774695958294334],\n",
       "  [0.789039934618068,\n",
       "   0.7770248687744223,\n",
       "   0.7696728399406192,\n",
       "   0.7647064822067816,\n",
       "   0.7614175934140806],\n",
       "  [0.9316125008788628,\n",
       "   0.9072755686603354,\n",
       "   0.8938868109558019,\n",
       "   0.8854374909609424,\n",
       "   0.8795866931205916]]]"
      ]
     },
     "execution_count": 336,
     "metadata": {},
     "output_type": "execute_result"
    }
   ],
   "source": [
    "SVD_size_effect"
   ]
  },
  {
   "cell_type": "code",
   "execution_count": 338,
   "metadata": {
    "scrolled": false
   },
   "outputs": [
    {
     "data": {
      "text/plain": [
       "<matplotlib.axes._subplots.AxesSubplot at 0x1a0e358cc0>"
      ]
     },
     "execution_count": 338,
     "metadata": {},
     "output_type": "execute_result"
    },
    {
     "data": {
      "image/png": "[encoded data removed]",
      "text/plain": [
       "<Figure size 432x288 with 1 Axes>"
      ]
     },
     "metadata": {},
     "output_type": "display_data"
    }
   ],
   "source": [
    "svd_newsize = pd.DataFrame(np.column_stack([SVD_train_MAE, SVD_test_MAE,SVD_train_RMSE, SVD_test_RMSE]),\n",
    "                   columns=['SVD_train_MAE', 'SVD_test_MAE','SVD_train_RMSE', 'SVD_test_RMSE'])\n",
    "svd_newsize.index = new_size\n",
    "sns.lineplot(data = svd_newsize, palette=\"tab10\")"
   ]
  }
 ],
 "metadata": {
  "kernelspec": {
   "display_name": "Python 3",
   "language": "python",
   "name": "python3"
  },
  "language_info": {
   "codemirror_mode": {
    "name": "ipython",
    "version": 3
   },
   "file_extension": ".py",
   "mimetype": "text/x-python",
   "name": "python",
   "nbconvert_exporter": "python",
   "pygments_lexer": "ipython3",
   "version": "3.6.6"
  }
 },
 "nbformat": 4,
 "nbformat_minor": 2
}
